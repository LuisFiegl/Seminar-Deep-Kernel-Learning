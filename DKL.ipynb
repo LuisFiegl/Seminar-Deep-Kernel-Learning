{
 "cells": [
  {
   "cell_type": "code",
   "execution_count": 1,
   "metadata": {},
   "outputs": [],
   "source": [
    "import math\n",
    "from tqdm import tqdm\n",
    "import torch\n",
    "import gpytorch\n",
    "from matplotlib import pyplot as plt\n",
    "\n",
    "# Make plots inline\n",
    "%matplotlib inline"
   ]
  },
  {
   "cell_type": "code",
   "execution_count": 2,
   "metadata": {},
   "outputs": [
    {
     "name": "stdout",
     "output_type": "stream",
     "text": [
      "Experiment 1\n"
     ]
    },
    {
     "name": "stderr",
     "output_type": "stream",
     "text": [
      "100%|██████████| 100/100 [02:49<00:00,  1.70s/it, loss=2.84]\n"
     ]
    },
    {
     "name": "stdout",
     "output_type": "stream",
     "text": [
      "CPU times: total: 16min 46s\n",
      "Wall time: 2min 49s\n",
      "Test MAE: 1.3678343296051025\n"
     ]
    },
    {
     "name": "stderr",
     "output_type": "stream",
     "text": [
      "c:\\Users\\12lui\\anaconda3\\envs\\NewTrading\\lib\\site-packages\\gpytorch\\models\\exact_gp.py:284: GPInputWarning: The input matches the stored training data. Did you forget to call model.train()?\n",
      "  warnings.warn(\n"
     ]
    },
    {
     "name": "stdout",
     "output_type": "stream",
     "text": [
      "Train MAE: 1.4716848134994507\n",
      "Experiment 275\n"
     ]
    },
    {
     "name": "stderr",
     "output_type": "stream",
     "text": [
      "  5%|▌         | 5/100 [06:16<1:53:42, 71.82s/it, loss=8.24e+3]"
     ]
    }
   ],
   "source": [
    "from ucimlrepo import fetch_ucirepo \n",
    "from math import floor\n",
    "from torch.utils.data import TensorDataset, DataLoader\n",
    "\n",
    "def downloader(uci_id):\n",
    "    # fetch dataset \n",
    "    uci_download = fetch_ucirepo(id=uci_id)\n",
    "    \n",
    "    # data (as pandas dataframes) \n",
    "    X_data = uci_download.data.features\n",
    "\n",
    "    # Drop category and date variables\n",
    "    if uci_id == 1:\n",
    "        X_data = X_data.drop([\"Sex\"], axis=1)\n",
    "    if uci_id == 275:\n",
    "        X_data = X_data.drop([\"dteday\"], axis=1)\n",
    "\n",
    "    y_data = uci_download.data.targets\n",
    "    y = y_data.squeeze()\n",
    "\n",
    "    X = torch.tensor(X_data.values, dtype=torch.float32)\n",
    "    y = torch.tensor(y.values, dtype=torch.float32)\n",
    "\n",
    "    train_n = int(floor(0.8 * len(X)))\n",
    "    train_x = X[:train_n, :].contiguous()\n",
    "    train_y = y[:train_n].contiguous()\n",
    "\n",
    "    test_x = X[train_n:, :].contiguous()\n",
    "    test_y = y[train_n:].contiguous()\n",
    "\n",
    "    # Create TensorDataset and DataLoader for training and test sets\n",
    "    train_dataset = TensorDataset(train_x, train_y)\n",
    "    test_dataset = TensorDataset(test_x, test_y)\n",
    "\n",
    "    train_loader = DataLoader(train_dataset, batch_size=256, shuffle=True)\n",
    "    test_loader = DataLoader(test_dataset, batch_size=256, shuffle=False)\n",
    "\n",
    "    return train_x, train_y, test_x, test_y, train_loader, test_loader\n",
    "\n",
    "def whole_process(train_x, train_y, test_x, test_y, train_loader, test_loader):\n",
    "\n",
    "    data_dim = train_x.size(-1)\n",
    "\n",
    "    class LargeFeatureExtractor(torch.nn.Sequential):\n",
    "        def __init__(self):\n",
    "            super(LargeFeatureExtractor, self).__init__()\n",
    "            self.add_module('linear1', torch.nn.Linear(data_dim, 1000))\n",
    "            self.add_module('relu1', torch.nn.ReLU())\n",
    "            self.add_module('linear2', torch.nn.Linear(1000, 500))\n",
    "            self.add_module('relu2', torch.nn.ReLU())\n",
    "            self.add_module('linear3', torch.nn.Linear(500, 50))\n",
    "            self.add_module('relu3', torch.nn.ReLU())\n",
    "            self.add_module('linear4', torch.nn.Linear(50, 2))\n",
    "\n",
    "    feature_extractor = LargeFeatureExtractor()\n",
    "    class GPRegressionModel(gpytorch.models.ExactGP):\n",
    "            def __init__(self, train_x, train_y, likelihood):\n",
    "                super(GPRegressionModel, self).__init__(train_x, train_y, likelihood)\n",
    "                self.mean_module = gpytorch.means.ConstantMean()\n",
    "                self.covar_module = gpytorch.kernels.ScaleKernel(\n",
    "                gpytorch.kernels.SpectralMixtureKernel(num_mixtures=2, ard_num_dims=2))\n",
    "                # self.covar_module = gpytorch.kernels.GridInterpolationKernel(\n",
    "                #     gpytorch.kernels.ScaleKernel(gpytorch.kernels.RBFKernel(ard_num_dims=2)),\n",
    "                #     num_dims=2, grid_size=64\n",
    "                # )\n",
    "                self.feature_extractor = feature_extractor\n",
    "\n",
    "                # This module will scale the NN features so that they're nice values\n",
    "                self.scale_to_bounds = gpytorch.utils.grid.ScaleToBounds(-1., 1.)\n",
    "\n",
    "            def forward(self, x):\n",
    "                # We're first putting our data through a deep net (feature extractor)\n",
    "                projected_x = self.feature_extractor(x)\n",
    "                projected_x = self.scale_to_bounds(projected_x)  # Make the NN values \"nice\"\n",
    "\n",
    "                mean_x = self.mean_module(projected_x)\n",
    "            \n",
    "                covar_x = self.covar_module(projected_x)\n",
    "                return gpytorch.distributions.MultivariateNormal(mean_x, covar_x)\n",
    "            \n",
    "    likelihood = gpytorch.likelihoods.GaussianLikelihood()\n",
    "    model = GPRegressionModel(train_x, train_y, likelihood)\n",
    "\n",
    "    training_iterations = 100\n",
    "\n",
    "    # Find optimal model hyperparameters\n",
    "    model.train()\n",
    "    likelihood.train()\n",
    "\n",
    "    # Use the adam optimizer\n",
    "    optimizer = torch.optim.Adam([\n",
    "        {'params': model.feature_extractor.parameters()},\n",
    "        {'params': model.covar_module.parameters()},\n",
    "        {'params': model.mean_module.parameters()},\n",
    "        {'params': model.likelihood.parameters()},\n",
    "    ], lr=0.01)\n",
    "\n",
    "    # \"Loss\" for GPs - the marginal log likelihood\n",
    "    mll = gpytorch.mlls.ExactMarginalLogLikelihood(likelihood, model)\n",
    "\n",
    "    def train():\n",
    "        iterator = tqdm(range(training_iterations))\n",
    "        for i in iterator:\n",
    "            # Zero backprop gradients\n",
    "            optimizer.zero_grad()\n",
    "            # Get output from model\n",
    "            output = model(train_x)\n",
    "            # Calc loss and backprop derivatives\n",
    "            loss = -mll(output, train_y)\n",
    "            loss.backward()\n",
    "            iterator.set_postfix(loss=loss.item())\n",
    "            optimizer.step()\n",
    "\n",
    "    %time train()\n",
    "\n",
    "    model.eval()\n",
    "    likelihood.eval()\n",
    "    with torch.no_grad(), gpytorch.settings.use_toeplitz(False), gpytorch.settings.fast_pred_var():\n",
    "        preds = model(test_x)\n",
    "\n",
    "    print('Test MAE: {}'.format(torch.mean(torch.abs(preds.mean - test_y))))\n",
    "    with torch.no_grad(), gpytorch.settings.use_toeplitz(False), gpytorch.settings.fast_pred_var():\n",
    "        preds = model(train_x)\n",
    "\n",
    "    print('Train MAE: {}'.format(torch.mean(torch.abs(preds.mean - train_y))))\n",
    "\n",
    "experiment_datasets = [1, 275, 477]\n",
    "# abalone, bike share, real estate\n",
    "\n",
    "for experiment in experiment_datasets:\n",
    "    print(\"Experiment \" + str(experiment))\n",
    "    train_x, train_y, test_x, test_y, train_loader, test_loader = downloader(experiment)\n",
    "    whole_process(train_x, train_y, test_x, test_y, train_loader, test_loader)"
   ]
  }
 ],
 "metadata": {
  "kernelspec": {
   "display_name": "NewTrading",
   "language": "python",
   "name": "python3"
  },
  "language_info": {
   "codemirror_mode": {
    "name": "ipython",
    "version": 3
   },
   "file_extension": ".py",
   "mimetype": "text/x-python",
   "name": "python",
   "nbconvert_exporter": "python",
   "pygments_lexer": "ipython3",
   "version": "3.9.17"
  }
 },
 "nbformat": 4,
 "nbformat_minor": 2
}

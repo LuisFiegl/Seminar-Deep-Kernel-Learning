{
 "cells": [
  {
   "cell_type": "code",
   "execution_count": 1,
   "metadata": {},
   "outputs": [],
   "source": [
    "import math\n",
    "from tqdm import tqdm\n",
    "import time\n",
    "import numpy as np\n",
    "import torch\n",
    "import gpytorch\n",
    "from matplotlib import pyplot as plt\n",
    "from ucimlrepo import fetch_ucirepo \n",
    "from math import floor\n",
    "from torch.utils.data import TensorDataset, DataLoader\n",
    "\n",
    "# Make plots inline\n",
    "%matplotlib inline"
   ]
  },
  {
   "cell_type": "code",
   "execution_count": 2,
   "metadata": {},
   "outputs": [
    {
     "name": "stdout",
     "output_type": "stream",
     "text": [
      "Experiment 1\n",
      "run: 0\n"
     ]
    },
    {
     "name": "stderr",
     "output_type": "stream",
     "text": [
      "100%|██████████| 100/100 [00:41<00:00,  2.40it/s, loss=2.98]\n"
     ]
    },
    {
     "name": "stdout",
     "output_type": "stream",
     "text": [
      "CPU times: total: 4min 6s\n",
      "Wall time: 41.6 s\n"
     ]
    },
    {
     "name": "stderr",
     "output_type": "stream",
     "text": [
      "c:\\Users\\12lui\\anaconda3\\envs\\NewTrading\\lib\\site-packages\\gpytorch\\models\\exact_gp.py:284: GPInputWarning: The input matches the stored training data. Did you forget to call model.train()?\n",
      "  warnings.warn(\n"
     ]
    },
    {
     "name": "stdout",
     "output_type": "stream",
     "text": [
      "Test RMSE: 1.8401371240615845\n",
      "Train RMSE: 2.105348587036133\n",
      "Wall time: 41.62 seconds\n",
      "run: 1\n"
     ]
    },
    {
     "name": "stderr",
     "output_type": "stream",
     "text": [
      "100%|██████████| 100/100 [00:41<00:00,  2.39it/s, loss=2.98]\n"
     ]
    },
    {
     "name": "stdout",
     "output_type": "stream",
     "text": [
      "CPU times: total: 4min 8s\n",
      "Wall time: 41.9 s\n",
      "Test RMSE: 1.834778070449829\n",
      "Train RMSE: 2.1175451278686523\n",
      "Wall time: 41.87 seconds\n",
      "run: 2\n"
     ]
    },
    {
     "name": "stderr",
     "output_type": "stream",
     "text": [
      "100%|██████████| 100/100 [00:41<00:00,  2.41it/s, loss=2.96]\n"
     ]
    },
    {
     "name": "stdout",
     "output_type": "stream",
     "text": [
      "CPU times: total: 4min 7s\n",
      "Wall time: 41.5 s\n",
      "Test RMSE: 1.8299001455307007\n",
      "Train RMSE: 2.0956504344940186\n",
      "Wall time: 41.48 seconds\n",
      "mean train performance= 2.1061814\n",
      "mean test performance= 1.8349385\n",
      "mean wall time= 41.657614390055336\n",
      "std train= 0.010971079\n",
      "std test= 0.0051203733\n",
      "Experiment 275\n",
      "run: 0\n"
     ]
    },
    {
     "name": "stderr",
     "output_type": "stream",
     "text": [
      "100%|██████████| 100/100 [08:59<00:00,  5.40s/it, loss=2.24e+3]\n"
     ]
    },
    {
     "name": "stdout",
     "output_type": "stream",
     "text": [
      "CPU times: total: 53min 36s\n",
      "Wall time: 8min 59s\n"
     ]
    },
    {
     "name": "stderr",
     "output_type": "stream",
     "text": [
      "c:\\Users\\12lui\\anaconda3\\envs\\NewTrading\\lib\\site-packages\\gpytorch\\models\\exact_gp.py:284: GPInputWarning: The input matches the stored training data. Did you forget to call model.train()?\n",
      "  warnings.warn(\n"
     ]
    },
    {
     "name": "stdout",
     "output_type": "stream",
     "text": [
      "Test RMSE: 140.45379638671875\n",
      "Train RMSE: 67.71652221679688\n",
      "Wall time: 539.96 seconds\n",
      "run: 1\n"
     ]
    },
    {
     "name": "stderr",
     "output_type": "stream",
     "text": [
      "100%|██████████| 100/100 [08:43<00:00,  5.24s/it, loss=2.06e+3]\n"
     ]
    },
    {
     "name": "stdout",
     "output_type": "stream",
     "text": [
      "CPU times: total: 52min\n",
      "Wall time: 8min 43s\n",
      "Test RMSE: 103.54012298583984\n",
      "Train RMSE: 63.736907958984375\n",
      "Wall time: 523.91 seconds\n",
      "run: 2\n"
     ]
    },
    {
     "name": "stderr",
     "output_type": "stream",
     "text": [
      "100%|██████████| 100/100 [08:38<00:00,  5.19s/it, loss=2.47e+3]\n"
     ]
    },
    {
     "name": "stdout",
     "output_type": "stream",
     "text": [
      "CPU times: total: 51min 30s\n",
      "Wall time: 8min 38s\n",
      "Test RMSE: 130.9209442138672\n",
      "Train RMSE: 71.77547454833984\n",
      "Wall time: 518.69 seconds\n",
      "mean train performance= 67.74297\n",
      "mean test performance= 124.97162\n",
      "mean wall time= 527.5205165545145\n",
      "std train= 4.0193486\n",
      "std test= 19.16248\n",
      "Experiment 477\n",
      "run: 0\n"
     ]
    },
    {
     "name": "stderr",
     "output_type": "stream",
     "text": [
      "100%|██████████| 100/100 [00:02<00:00, 46.14it/s, loss=35.4]\n",
      "c:\\Users\\12lui\\anaconda3\\envs\\NewTrading\\lib\\site-packages\\gpytorch\\models\\exact_gp.py:284: GPInputWarning: The input matches the stored training data. Did you forget to call model.train()?\n",
      "  warnings.warn(\n"
     ]
    },
    {
     "name": "stdout",
     "output_type": "stream",
     "text": [
      "CPU times: total: 12.8 s\n",
      "Wall time: 2.17 s\n",
      "Test RMSE: 7.466241359710693\n",
      "Train RMSE: 8.526355743408203\n",
      "Wall time: 2.17 seconds\n",
      "run: 1\n"
     ]
    },
    {
     "name": "stderr",
     "output_type": "stream",
     "text": [
      "100%|██████████| 100/100 [00:02<00:00, 47.50it/s, loss=35.2]\n"
     ]
    },
    {
     "name": "stdout",
     "output_type": "stream",
     "text": [
      "CPU times: total: 12.6 s\n",
      "Wall time: 2.11 s\n",
      "Test RMSE: 7.470093727111816\n",
      "Train RMSE: 8.467183113098145\n",
      "Wall time: 2.11 seconds\n",
      "run: 2\n"
     ]
    },
    {
     "name": "stderr",
     "output_type": "stream",
     "text": [
      "100%|██████████| 100/100 [00:02<00:00, 46.44it/s, loss=39.2]\n"
     ]
    },
    {
     "name": "stdout",
     "output_type": "stream",
     "text": [
      "CPU times: total: 12.7 s\n",
      "Wall time: 2.15 s\n",
      "Test RMSE: 7.39493989944458\n",
      "Train RMSE: 8.999755859375\n",
      "Wall time: 2.15 seconds\n",
      "mean train performance= 8.664432\n",
      "mean test performance= 7.443758\n",
      "mean wall time= 2.1442208290100098\n",
      "std train= 0.2919026\n",
      "std test= 0.042321853\n",
      "Experiment 189\n",
      "run: 0\n"
     ]
    },
    {
     "name": "stderr",
     "output_type": "stream",
     "text": [
      "100%|██████████| 100/100 [01:09<00:00,  1.43it/s, loss=13.2]\n"
     ]
    },
    {
     "name": "stdout",
     "output_type": "stream",
     "text": [
      "CPU times: total: 6min 57s\n",
      "Wall time: 1min 9s\n"
     ]
    },
    {
     "name": "stderr",
     "output_type": "stream",
     "text": [
      "c:\\Users\\12lui\\anaconda3\\envs\\NewTrading\\lib\\site-packages\\gpytorch\\models\\exact_gp.py:284: GPInputWarning: The input matches the stored training data. Did you forget to call model.train()?\n",
      "  warnings.warn(\n"
     ]
    },
    {
     "name": "stdout",
     "output_type": "stream",
     "text": [
      "Test RMSE: 11.65628433227539\n",
      "Train RMSE: 5.173178672790527\n",
      "Wall time: 69.79 seconds\n",
      "run: 1\n"
     ]
    },
    {
     "name": "stderr",
     "output_type": "stream",
     "text": [
      "100%|██████████| 100/100 [01:10<00:00,  1.41it/s, loss=12.7]\n"
     ]
    },
    {
     "name": "stdout",
     "output_type": "stream",
     "text": [
      "CPU times: total: 7min 3s\n",
      "Wall time: 1min 10s\n",
      "Test RMSE: 11.799412727355957\n",
      "Train RMSE: 5.078263282775879\n",
      "Wall time: 70.90 seconds\n",
      "run: 2\n"
     ]
    },
    {
     "name": "stderr",
     "output_type": "stream",
     "text": [
      "100%|██████████| 100/100 [01:12<00:00,  1.39it/s, loss=13.3]\n"
     ]
    },
    {
     "name": "stdout",
     "output_type": "stream",
     "text": [
      "CPU times: total: 7min 10s\n",
      "Wall time: 1min 12s\n",
      "Test RMSE: 11.716055870056152\n",
      "Train RMSE: 5.204005241394043\n",
      "Wall time: 72.03 seconds\n",
      "mean train performance= 5.151816\n",
      "mean test performance= 11.723918\n",
      "mean wall time= 70.90591009457906\n",
      "std train= 0.065536566\n",
      "std test= 0.071887344\n",
      "Experiment 713\n",
      "run: 0\n"
     ]
    },
    {
     "name": "stderr",
     "output_type": "stream",
     "text": [
      "100%|██████████| 100/100 [00:13<00:00,  7.64it/s, loss=1.89e+7]\n",
      "c:\\Users\\12lui\\anaconda3\\envs\\NewTrading\\lib\\site-packages\\gpytorch\\models\\exact_gp.py:284: GPInputWarning: The input matches the stored training data. Did you forget to call model.train()?\n",
      "  warnings.warn(\n"
     ]
    },
    {
     "name": "stdout",
     "output_type": "stream",
     "text": [
      "CPU times: total: 1min 17s\n",
      "Wall time: 13.1 s\n",
      "Test RMSE: 10087.1435546875\n",
      "Train RMSE: 6285.578125\n",
      "Wall time: 13.09 seconds\n",
      "run: 1\n"
     ]
    },
    {
     "name": "stderr",
     "output_type": "stream",
     "text": [
      "100%|██████████| 100/100 [00:12<00:00,  7.73it/s, loss=2.09e+7]\n"
     ]
    },
    {
     "name": "stdout",
     "output_type": "stream",
     "text": [
      "CPU times: total: 1min 17s\n",
      "Wall time: 12.9 s\n",
      "Test RMSE: 9457.1005859375\n",
      "Train RMSE: 6407.17529296875\n",
      "Wall time: 12.93 seconds\n",
      "run: 2\n"
     ]
    },
    {
     "name": "stderr",
     "output_type": "stream",
     "text": [
      "100%|██████████| 100/100 [00:12<00:00,  7.81it/s, loss=1.94e+7]\n"
     ]
    },
    {
     "name": "stdout",
     "output_type": "stream",
     "text": [
      "CPU times: total: 1min 16s\n",
      "Wall time: 12.8 s\n",
      "Test RMSE: 9401.3173828125\n",
      "Train RMSE: 6345.73828125\n",
      "Wall time: 12.81 seconds\n",
      "mean train performance= 6346.164\n",
      "mean test performance= 9648.5205\n",
      "mean wall time= 12.944242397944132\n",
      "std train= 60.7997\n",
      "std test= 380.8813\n",
      "Experiment 186\n",
      "run: 0\n"
     ]
    },
    {
     "name": "stderr",
     "output_type": "stream",
     "text": [
      "100%|██████████| 100/100 [01:25<00:00,  1.16it/s, loss=1.08]\n"
     ]
    },
    {
     "name": "stdout",
     "output_type": "stream",
     "text": [
      "CPU times: total: 8min 27s\n",
      "Wall time: 1min 25s\n"
     ]
    },
    {
     "name": "stderr",
     "output_type": "stream",
     "text": [
      "c:\\Users\\12lui\\anaconda3\\envs\\NewTrading\\lib\\site-packages\\gpytorch\\models\\exact_gp.py:284: GPInputWarning: The input matches the stored training data. Did you forget to call model.train()?\n",
      "  warnings.warn(\n"
     ]
    },
    {
     "name": "stdout",
     "output_type": "stream",
     "text": [
      "Test RMSE: 0.7074569463729858\n",
      "Train RMSE: 0.7083923816680908\n",
      "Wall time: 85.89 seconds\n",
      "run: 1\n"
     ]
    },
    {
     "name": "stderr",
     "output_type": "stream",
     "text": [
      "100%|██████████| 100/100 [01:25<00:00,  1.17it/s, loss=1.08]\n"
     ]
    },
    {
     "name": "stdout",
     "output_type": "stream",
     "text": [
      "CPU times: total: 8min 11s\n",
      "Wall time: 1min 25s\n",
      "Test RMSE: 0.7106185555458069\n",
      "Train RMSE: 0.7037804126739502\n",
      "Wall time: 85.32 seconds\n",
      "run: 2\n"
     ]
    },
    {
     "name": "stderr",
     "output_type": "stream",
     "text": [
      "100%|██████████| 100/100 [01:25<00:00,  1.17it/s, loss=1.08]\n"
     ]
    },
    {
     "name": "stdout",
     "output_type": "stream",
     "text": [
      "CPU times: total: 8min 25s\n",
      "Wall time: 1min 25s\n",
      "Test RMSE: 0.7035118937492371\n",
      "Train RMSE: 0.7103503346443176\n",
      "Wall time: 85.15 seconds\n",
      "mean train performance= 0.70750767\n",
      "mean test performance= 0.7071958\n",
      "mean wall time= 85.45427799224854\n",
      "std train= 0.003373122\n",
      "std test= 0.0035605207\n",
      "Experiment 374\n",
      "run: 0\n"
     ]
    },
    {
     "name": "stderr",
     "output_type": "stream",
     "text": [
      "  0%|          | 0/100 [00:00<?, ?it/s]c:\\Users\\12lui\\anaconda3\\envs\\NewTrading\\lib\\site-packages\\linear_operator\\utils\\cholesky.py:40: NumericalWarning: A not p.d., added jitter of 1.0e-06 to the diagonal\n",
      "  warnings.warn(\n",
      "100%|██████████| 100/100 [10:56<00:00,  6.56s/it, loss=3.62e+3]\n"
     ]
    },
    {
     "name": "stdout",
     "output_type": "stream",
     "text": [
      "CPU times: total: 1h 5min 14s\n",
      "Wall time: 10min 56s\n"
     ]
    },
    {
     "name": "stderr",
     "output_type": "stream",
     "text": [
      "c:\\Users\\12lui\\anaconda3\\envs\\NewTrading\\lib\\site-packages\\gpytorch\\models\\exact_gp.py:284: GPInputWarning: The input matches the stored training data. Did you forget to call model.train()?\n",
      "  warnings.warn(\n"
     ]
    },
    {
     "name": "stdout",
     "output_type": "stream",
     "text": [
      "Test RMSE: 88.7548828125\n",
      "Train RMSE: 92.04705810546875\n",
      "Wall time: 656.28 seconds\n",
      "run: 1\n"
     ]
    },
    {
     "name": "stderr",
     "output_type": "stream",
     "text": [
      "100%|██████████| 100/100 [10:52<00:00,  6.52s/it, loss=3.67e+3]\n"
     ]
    },
    {
     "name": "stdout",
     "output_type": "stream",
     "text": [
      "CPU times: total: 1h 4min 45s\n",
      "Wall time: 10min 52s\n",
      "Test RMSE: 84.89883422851562\n",
      "Train RMSE: 93.47079467773438\n",
      "Wall time: 652.50 seconds\n",
      "run: 2\n"
     ]
    },
    {
     "name": "stderr",
     "output_type": "stream",
     "text": [
      "100%|██████████| 100/100 [11:02<00:00,  6.62s/it, loss=3.59e+3]\n"
     ]
    },
    {
     "name": "stdout",
     "output_type": "stream",
     "text": [
      "CPU times: total: 1h 5min 28s\n",
      "Wall time: 11min 2s\n",
      "Test RMSE: 99.25169372558594\n",
      "Train RMSE: 92.15895080566406\n",
      "Wall time: 662.45 seconds\n",
      "mean train performance= 92.55894\n",
      "mean test performance= 90.96847\n",
      "mean wall time= 657.0758780638376\n",
      "std train= 0.79167336\n",
      "std test= 7.428063\n",
      "Experiment 183\n",
      "run: 0\n"
     ]
    },
    {
     "name": "stderr",
     "output_type": "stream",
     "text": [
      "100%|██████████| 100/100 [00:12<00:00,  7.76it/s, loss=0.371]\n",
      "c:\\Users\\12lui\\anaconda3\\envs\\NewTrading\\lib\\site-packages\\gpytorch\\models\\exact_gp.py:284: GPInputWarning: The input matches the stored training data. Did you forget to call model.train()?\n",
      "  warnings.warn(\n"
     ]
    },
    {
     "name": "stdout",
     "output_type": "stream",
     "text": [
      "CPU times: total: 1min 14s\n",
      "Wall time: 12.9 s\n",
      "Test RMSE: 0.14539387822151184\n",
      "Train RMSE: 0.14724373817443848\n",
      "Wall time: 12.89 seconds\n",
      "run: 1\n"
     ]
    },
    {
     "name": "stderr",
     "output_type": "stream",
     "text": [
      "100%|██████████| 100/100 [00:13<00:00,  7.65it/s, loss=0.368]\n"
     ]
    },
    {
     "name": "stdout",
     "output_type": "stream",
     "text": [
      "CPU times: total: 1min 16s\n",
      "Wall time: 13.1 s\n",
      "Test RMSE: 0.1288464069366455\n",
      "Train RMSE: 0.1357003152370453\n",
      "Wall time: 13.08 seconds\n",
      "run: 2\n"
     ]
    },
    {
     "name": "stderr",
     "output_type": "stream",
     "text": [
      "100%|██████████| 100/100 [00:12<00:00,  7.71it/s, loss=0.369]\n"
     ]
    },
    {
     "name": "stdout",
     "output_type": "stream",
     "text": [
      "CPU times: total: 1min 16s\n",
      "Wall time: 13 s\n",
      "Test RMSE: 0.13740086555480957\n",
      "Train RMSE: 0.13561949133872986\n",
      "Wall time: 12.97 seconds\n",
      "mean train performance= 0.13952118\n",
      "mean test performance= 0.13721372\n",
      "mean wall time= 12.978928168614706\n",
      "std train= 0.0066880523\n",
      "std test= 0.008275323\n",
      "Experiment 291\n",
      "run: 0\n"
     ]
    },
    {
     "name": "stderr",
     "output_type": "stream",
     "text": [
      "100%|██████████| 100/100 [00:08<00:00, 11.62it/s, loss=24.8]\n",
      "c:\\Users\\12lui\\anaconda3\\envs\\NewTrading\\lib\\site-packages\\gpytorch\\models\\exact_gp.py:284: GPInputWarning: The input matches the stored training data. Did you forget to call model.train()?\n",
      "  warnings.warn(\n"
     ]
    },
    {
     "name": "stdout",
     "output_type": "stream",
     "text": [
      "CPU times: total: 51.1 s\n",
      "Wall time: 8.61 s\n",
      "Test RMSE: 6.974794387817383\n",
      "Train RMSE: 6.276223182678223\n",
      "Wall time: 8.61 seconds\n",
      "run: 1\n"
     ]
    },
    {
     "name": "stderr",
     "output_type": "stream",
     "text": [
      "100%|██████████| 100/100 [00:08<00:00, 11.50it/s, loss=24.7]\n"
     ]
    },
    {
     "name": "stdout",
     "output_type": "stream",
     "text": [
      "CPU times: total: 50.2 s\n",
      "Wall time: 8.69 s\n",
      "Test RMSE: 7.000495910644531\n",
      "Train RMSE: 6.290365219116211\n",
      "Wall time: 8.69 seconds\n",
      "run: 2\n"
     ]
    },
    {
     "name": "stderr",
     "output_type": "stream",
     "text": [
      "100%|██████████| 100/100 [00:08<00:00, 11.62it/s, loss=24.7]\n"
     ]
    },
    {
     "name": "stdout",
     "output_type": "stream",
     "text": [
      "CPU times: total: 50.8 s\n",
      "Wall time: 8.61 s\n",
      "Test RMSE: 7.000093460083008\n",
      "Train RMSE: 6.289070129394531\n",
      "Wall time: 8.61 seconds\n",
      "mean train performance= 6.2852197\n",
      "mean test performance= 6.9917946\n",
      "mean wall time= 8.636696418126425\n",
      "std train= 0.007817912\n",
      "std test= 0.014723978\n",
      "Experiment 294\n",
      "run: 0\n"
     ]
    },
    {
     "name": "stderr",
     "output_type": "stream",
     "text": [
      "  0%|          | 0/100 [00:00<?, ?it/s]c:\\Users\\12lui\\anaconda3\\envs\\NewTrading\\lib\\site-packages\\linear_operator\\utils\\cholesky.py:40: NumericalWarning: A not p.d., added jitter of 1.0e-06 to the diagonal\n",
      "  warnings.warn(\n",
      "100%|██████████| 100/100 [02:48<00:00,  1.69s/it, loss=24] \n"
     ]
    },
    {
     "name": "stdout",
     "output_type": "stream",
     "text": [
      "CPU times: total: 16min 39s\n",
      "Wall time: 2min 48s\n"
     ]
    },
    {
     "name": "stderr",
     "output_type": "stream",
     "text": [
      "c:\\Users\\12lui\\anaconda3\\envs\\NewTrading\\lib\\site-packages\\gpytorch\\models\\exact_gp.py:284: GPInputWarning: The input matches the stored training data. Did you forget to call model.train()?\n",
      "  warnings.warn(\n"
     ]
    },
    {
     "name": "stdout",
     "output_type": "stream",
     "text": [
      "Test RMSE: 4.570029258728027\n",
      "Train RMSE: 4.433285236358643\n",
      "Wall time: 168.85 seconds\n",
      "run: 1\n"
     ]
    },
    {
     "name": "stderr",
     "output_type": "stream",
     "text": [
      "  0%|          | 0/100 [00:00<?, ?it/s]c:\\Users\\12lui\\anaconda3\\envs\\NewTrading\\lib\\site-packages\\linear_operator\\operators\\added_diag_linear_operator.py:128: NumericalWarning: NaNs encountered in preconditioner computation. Attempting to continue without preconditioning.\n",
      "  warnings.warn(\n",
      "100%|██████████| 100/100 [02:48<00:00,  1.69s/it, loss=25.7]\n"
     ]
    },
    {
     "name": "stdout",
     "output_type": "stream",
     "text": [
      "CPU times: total: 16min 47s\n",
      "Wall time: 2min 48s\n",
      "Test RMSE: 4.818859577178955\n",
      "Train RMSE: 4.670228004455566\n",
      "Wall time: 168.84 seconds\n",
      "run: 2\n"
     ]
    },
    {
     "name": "stderr",
     "output_type": "stream",
     "text": [
      "100%|██████████| 100/100 [02:48<00:00,  1.69s/it, loss=25.3]\n"
     ]
    },
    {
     "name": "stdout",
     "output_type": "stream",
     "text": [
      "CPU times: total: 16min 47s\n",
      "Wall time: 2min 48s\n",
      "Test RMSE: 4.824906826019287\n",
      "Train RMSE: 4.670222759246826\n",
      "Wall time: 168.83 seconds\n",
      "mean train performance= 4.5912457\n",
      "mean test performance= 4.737932\n",
      "mean wall time= 168.83626755078635\n",
      "std train= 0.13679746\n",
      "std test= 0.14543937\n"
     ]
    }
   ],
   "source": [
    "def downloader(uci_id):\n",
    "    # fetch dataset \n",
    "    uci_download = fetch_ucirepo(id=uci_id)\n",
    "    \n",
    "    # data (as pandas dataframes) \n",
    "    X_data = uci_download.data.features\n",
    "    # Drop category and date variables\n",
    "    if uci_id == 1:\n",
    "        X_data = X_data.drop([\"Sex\"], axis=1)\n",
    "    if uci_id == 275:\n",
    "        X_data = X_data.drop([\"dteday\"], axis=1)\n",
    "    if uci_id == 374:\n",
    "        X_data = X_data.drop([\"date\"], axis=1)\n",
    "    if uci_id == 183:\n",
    "        X_data = X_data.drop([\"communityname\"], axis=1)\n",
    "        object_columns = X_data.select_dtypes(include=['object']).columns\n",
    "        X_data = X_data.drop(columns=object_columns)\n",
    "\n",
    "    y_data = uci_download.data.targets\n",
    "    # select target for datasets with 2 targets\n",
    "    if uci_id == 189:\n",
    "        y_data = y_data[\"motor_UPDRS\"]\n",
    "    if uci_id == 713:\n",
    "        y_data = y_data[\"verification.time\"]\n",
    "\n",
    "    y = y_data.squeeze()\n",
    "\n",
    "    X = torch.tensor(X_data.values, dtype=torch.float32)\n",
    "    y = torch.tensor(y.values, dtype=torch.float32)\n",
    "\n",
    "    train_n = int(floor(0.8 * len(X)))\n",
    "    train_x = X[:train_n, :].contiguous()\n",
    "    train_y = y[:train_n].contiguous()\n",
    "\n",
    "    test_x = X[train_n:, :].contiguous()\n",
    "    test_y = y[train_n:].contiguous()\n",
    "\n",
    "    # Create TensorDataset and DataLoader for training and test sets\n",
    "    train_dataset = TensorDataset(train_x, train_y)\n",
    "    test_dataset = TensorDataset(test_x, test_y)\n",
    "\n",
    "    train_loader = DataLoader(train_dataset, batch_size=256, shuffle=True)\n",
    "    test_loader = DataLoader(test_dataset, batch_size=256, shuffle=False)\n",
    "\n",
    "    return train_x, train_y, test_x, test_y, train_loader, test_loader\n",
    "\n",
    "def whole_process(train_x, train_y, test_x, test_y, train_loader, test_loader):\n",
    "\n",
    "    data_dim = train_x.size(-1)\n",
    "\n",
    "    class LargeFeatureExtractor(torch.nn.Sequential):\n",
    "        def __init__(self):\n",
    "            super(LargeFeatureExtractor, self).__init__()\n",
    "            self.add_module('linear1', torch.nn.Linear(data_dim, 1000))\n",
    "            self.add_module('relu1', torch.nn.ReLU())\n",
    "            self.add_module('linear2', torch.nn.Linear(1000, 500))\n",
    "            self.add_module('relu2', torch.nn.ReLU())\n",
    "            self.add_module('linear3', torch.nn.Linear(500, 50))\n",
    "            self.add_module('relu3', torch.nn.ReLU())\n",
    "            self.add_module('linear4', torch.nn.Linear(50, 2))\n",
    "\n",
    "    feature_extractor = LargeFeatureExtractor()\n",
    "    class GPRegressionModel(gpytorch.models.ExactGP):\n",
    "            def __init__(self, train_x, train_y, likelihood):\n",
    "                super(GPRegressionModel, self).__init__(train_x, train_y, likelihood)\n",
    "                self.mean_module = gpytorch.means.ConstantMean()\n",
    "                self.covar_module = gpytorch.kernels.ScaleKernel(gpytorch.kernels.RBFKernel(ard_num_dims=2))\n",
    "                self.feature_extractor = feature_extractor\n",
    "\n",
    "                # This module will scale the NN features so that they're nice values\n",
    "                self.scale_to_bounds = gpytorch.utils.grid.ScaleToBounds(-1., 1.)\n",
    "\n",
    "            def forward(self, x):\n",
    "                # We're first putting our data through a deep net (feature extractor)\n",
    "                projected_x = self.feature_extractor(x)\n",
    "                projected_x = self.scale_to_bounds(projected_x)  # Make the NN values \"nice\"\n",
    "\n",
    "                mean_x = self.mean_module(projected_x)\n",
    "            \n",
    "                covar_x = self.covar_module(projected_x)\n",
    "                return gpytorch.distributions.MultivariateNormal(mean_x, covar_x)\n",
    "            \n",
    "    likelihood = gpytorch.likelihoods.GaussianLikelihood()\n",
    "    model = GPRegressionModel(train_x, train_y, likelihood)\n",
    "\n",
    "    training_iterations = 100\n",
    "\n",
    "    # Find optimal model hyperparameters\n",
    "    model.train()\n",
    "    likelihood.train()\n",
    "\n",
    "    # Use the adam optimizer\n",
    "    optimizer = torch.optim.Adam([\n",
    "        {'params': model.feature_extractor.parameters()},\n",
    "        {'params': model.covar_module.parameters()},\n",
    "        {'params': model.mean_module.parameters()},\n",
    "        {'params': model.likelihood.parameters()},\n",
    "    ], lr=0.01)\n",
    "\n",
    "    # \"Loss\" for GPs - the marginal log likelihood\n",
    "    mll = gpytorch.mlls.ExactMarginalLogLikelihood(likelihood, model)\n",
    "\n",
    "    def train():\n",
    "        iterator = tqdm(range(training_iterations))\n",
    "        for i in iterator:\n",
    "            # Zero backprop gradients\n",
    "            optimizer.zero_grad()\n",
    "            # Get output from model\n",
    "            output = model(train_x)\n",
    "            # Calc loss and backprop derivatives\n",
    "            loss = -mll(output, train_y)\n",
    "            loss.backward()\n",
    "            iterator.set_postfix(loss=loss.item())\n",
    "            optimizer.step()\n",
    "\n",
    "    start_time = time.time()\n",
    "    %time train()\n",
    "    end_time = time.time()\n",
    "    wall_time = end_time - start_time\n",
    "\n",
    "    model.eval()\n",
    "    likelihood.eval()\n",
    "    with torch.no_grad(), gpytorch.settings.use_toeplitz(False), gpytorch.settings.fast_pred_var():\n",
    "        preds = model(test_x)\n",
    "\n",
    "    test_rmse = torch.sqrt(torch.mean((preds.mean - test_y) ** 2))\n",
    "    with torch.no_grad(), gpytorch.settings.use_toeplitz(False), gpytorch.settings.fast_pred_var():\n",
    "        preds = model(train_x)\n",
    "\n",
    "    train_rmse = torch.sqrt(torch.mean((preds.mean - train_y) ** 2))\n",
    "\n",
    "    print('Test RMSE: {}'.format(test_rmse))\n",
    "    print('Train RMSE: {}'.format(train_rmse))\n",
    "    print('Wall time: {:.2f} seconds'.format(wall_time))\n",
    "\n",
    "    return test_rmse, train_rmse, wall_time\n",
    "\n",
    "experiment_datasets = [1, 275, 477, 189, 713, 186, 374, 183, 291, 294]\n",
    "\n",
    "for experiment in experiment_datasets:\n",
    "    print(\"Experiment \" + str(experiment))\n",
    "\n",
    "    trains = []\n",
    "    tests = []\n",
    "    times = []\n",
    "    train_x, train_y, test_x, test_y, train_loader, test_loader = downloader(experiment)\n",
    "    for run in range(3):\n",
    "        # set seeds\n",
    "        torch.manual_seed(run)\n",
    "        print(\"run: \" + str(run))\n",
    "\n",
    "        test_rmse, train_rmse, wall_time = whole_process(train_x, train_y, test_x, test_y, train_loader, test_loader)\n",
    "        trains.append(train_rmse)\n",
    "        tests.append(test_rmse)\n",
    "        times.append(wall_time)\n",
    "    \n",
    "    print(\"mean train performance= \"+ str(np.mean(trains)))\n",
    "    print(\"mean test performance= \"+ str(np.mean(tests)))\n",
    "    print(\"mean wall time= \"+ str(np.mean(times)))\n",
    "\n",
    "    print(\"std train= \"+ str(np.std(trains, ddof=1)))\n",
    "    print(\"std test= \"+ str(np.std(tests, ddof=1)))"
   ]
  }
 ],
 "metadata": {
  "kernelspec": {
   "display_name": "NewTrading",
   "language": "python",
   "name": "python3"
  },
  "language_info": {
   "codemirror_mode": {
    "name": "ipython",
    "version": 3
   },
   "file_extension": ".py",
   "mimetype": "text/x-python",
   "name": "python",
   "nbconvert_exporter": "python",
   "pygments_lexer": "ipython3",
   "version": "3.9.17"
  }
 },
 "nbformat": 4,
 "nbformat_minor": 2
}

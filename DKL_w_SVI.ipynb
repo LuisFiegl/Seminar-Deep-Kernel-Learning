{
 "cells": [
  {
   "cell_type": "code",
   "execution_count": 1,
   "metadata": {},
   "outputs": [],
   "source": [
    "import math\n",
    "from tqdm import tqdm\n",
    "import torch\n",
    "import gpytorch\n",
    "from matplotlib import pyplot as plt\n",
    "\n",
    "# Make plots inline\n",
    "%matplotlib inline"
   ]
  },
  {
   "cell_type": "code",
   "execution_count": 2,
   "metadata": {},
   "outputs": [
    {
     "name": "stdout",
     "output_type": "stream",
     "text": [
      "Experiment 1\n"
     ]
    },
    {
     "name": "stderr",
     "output_type": "stream",
     "text": [
      "Epoch: 100%|██████████| 100/100 [00:33<00:00,  2.99it/s]\n"
     ]
    },
    {
     "name": "stdout",
     "output_type": "stream",
     "text": [
      "Test MAE: 1.9252406358718872\n",
      "Train MAE: 2.5557947158813477\n",
      "Experiment 275\n"
     ]
    },
    {
     "name": "stderr",
     "output_type": "stream",
     "text": [
      "Epoch: 100%|██████████| 100/100 [02:10<00:00,  1.30s/it]\n"
     ]
    },
    {
     "name": "stdout",
     "output_type": "stream",
     "text": [
      "Test MAE: 56.53175354003906\n",
      "Train MAE: 172.42398071289062\n",
      "Experiment 477\n"
     ]
    },
    {
     "name": "stderr",
     "output_type": "stream",
     "text": [
      "Epoch: 100%|██████████| 100/100 [00:04<00:00, 22.38it/s]"
     ]
    },
    {
     "name": "stdout",
     "output_type": "stream",
     "text": [
      "Test MAE: 15.104546546936035\n",
      "Train MAE: 15.448212623596191\n"
     ]
    },
    {
     "name": "stderr",
     "output_type": "stream",
     "text": [
      "\n"
     ]
    }
   ],
   "source": [
    "from ucimlrepo import fetch_ucirepo \n",
    "from math import floor\n",
    "from torch.utils.data import TensorDataset, DataLoader\n",
    "\n",
    "def downloader(uci_id):\n",
    "    # fetch dataset \n",
    "    uci_download = fetch_ucirepo(id=uci_id)\n",
    "    \n",
    "    # data (as pandas dataframes) \n",
    "    X_data = uci_download.data.features\n",
    "\n",
    "    # Drop category and date variables\n",
    "    if uci_id == 1:\n",
    "        X_data = X_data.drop([\"Sex\"], axis=1)\n",
    "    if uci_id == 275:\n",
    "        X_data = X_data.drop([\"dteday\"], axis=1)\n",
    "\n",
    "    y_data = uci_download.data.targets\n",
    "    y = y_data.squeeze()\n",
    "\n",
    "    X = torch.tensor(X_data.values, dtype=torch.float32)\n",
    "    y = torch.tensor(y.values, dtype=torch.float32)\n",
    "\n",
    "    train_n = int(floor(0.8 * len(X)))\n",
    "    train_x = X[:train_n, :].contiguous()\n",
    "    train_y = y[:train_n].contiguous()\n",
    "\n",
    "    test_x = X[train_n:, :].contiguous()\n",
    "    test_y = y[train_n:].contiguous()\n",
    "\n",
    "    # Create TensorDataset and DataLoader for training and test sets\n",
    "    train_dataset = TensorDataset(train_x, train_y)\n",
    "    test_dataset = TensorDataset(test_x, test_y)\n",
    "\n",
    "    train_loader = DataLoader(train_dataset, batch_size=256, shuffle=True)\n",
    "    test_loader = DataLoader(test_dataset, batch_size=256, shuffle=False)\n",
    "\n",
    "    return train_x, train_y, test_x, test_y, train_loader, test_loader\n",
    "\n",
    "def whole_process(train_x, train_y, test_x, test_y, train_loader, test_loader):\n",
    "\n",
    "    data_dim = train_x.size(-1)\n",
    "\n",
    "    class LargeFeatureExtractor(torch.nn.Sequential):\n",
    "        def __init__(self):\n",
    "            super(LargeFeatureExtractor, self).__init__()\n",
    "            self.add_module('linear1', torch.nn.Linear(data_dim, 1000))\n",
    "            self.add_module('relu1', torch.nn.ReLU())\n",
    "            self.add_module('linear2', torch.nn.Linear(1000, 500))\n",
    "            self.add_module('relu2', torch.nn.ReLU())\n",
    "            self.add_module('linear3', torch.nn.Linear(500, 50))\n",
    "            self.add_module('relu3', torch.nn.ReLU())\n",
    "            self.add_module('linear4', torch.nn.Linear(50, 2))\n",
    "\n",
    "    feature_extractor = LargeFeatureExtractor()\n",
    "    from gpytorch.models import ApproximateGP\n",
    "    from gpytorch.variational import CholeskyVariationalDistribution\n",
    "    from gpytorch.variational import VariationalStrategy\n",
    "\n",
    "    class GPModel(ApproximateGP):\n",
    "        def __init__(self, inducing_points, feature_extractor):\n",
    "\n",
    "            variational_distribution = CholeskyVariationalDistribution(inducing_points.size(0))\n",
    "\n",
    "            variational_strategy = VariationalStrategy(self, inducing_points, variational_distribution, learn_inducing_locations=True)\n",
    "\n",
    "            super(GPModel, self).__init__(variational_strategy)\n",
    "            self.mean_module = gpytorch.means.ConstantMean()\n",
    "            self.covar_module = gpytorch.kernels.ScaleKernel(\n",
    "            gpytorch.kernels.SpectralMixtureKernel(num_mixtures=2, ard_num_dims=2))\n",
    "            # self.covar_module = gpytorch.kernels.ScaleKernel(\n",
    "            #     gpytorch.kernels.RBFKernel(\n",
    "            #         lengthscale_prior=gpytorch.priors.SmoothedBoxPrior(\n",
    "            #             math.exp(-1), math.exp(1), sigma=0.1, transform=torch.exp\n",
    "            #         )\n",
    "            #     )\n",
    "            # )\n",
    "            self.feature_extractor = feature_extractor\n",
    "            self.scale_to_bounds = gpytorch.utils.grid.ScaleToBounds(-1., 1.)\n",
    "\n",
    "        def forward(self, x):\n",
    "            projected_x = self.feature_extractor(x)\n",
    "            projected_x = self.scale_to_bounds(projected_x)\n",
    "            mean_x = self.mean_module(projected_x)\n",
    "            covar_x = self.covar_module(projected_x)\n",
    "            return gpytorch.distributions.MultivariateNormal(mean_x, covar_x)\n",
    "\n",
    "    inducing_points = train_x[:1, :]\n",
    "    model = GPModel(inducing_points=inducing_points, feature_extractor=feature_extractor)\n",
    "    likelihood = gpytorch.likelihoods.GaussianLikelihood()\n",
    "\n",
    "\n",
    "    num_epochs = 100\n",
    "    model.train()\n",
    "    likelihood.train()\n",
    "\n",
    "    optimizer = torch.optim.Adam([\n",
    "        #{'params': model.feature_extractor.parameters()},\n",
    "        #{'params': model.covar_module.parameters()},\n",
    "        #{'params': model.mean_module.parameters()},\n",
    "        #{'params': model.variational_strategy.parameters()},\n",
    "        {'params': likelihood.parameters()},\n",
    "        {'params': model.parameters()}\n",
    "    ], lr=0.01)\n",
    "    # Our loss object. We're using the VariationalELBO\n",
    "    mll = gpytorch.mlls.VariationalELBO(likelihood, model, num_data=train_y.size(0))\n",
    "\n",
    "\n",
    "    epochs_iter = tqdm(range(num_epochs), desc=\"Epoch\")\n",
    "    for i in epochs_iter:\n",
    "        # Within each iteration, we will go over each minibatch of data\n",
    "        minibatch_iter = tqdm(train_loader, desc=\"Minibatch\", leave=False)\n",
    "        for x_batch, y_batch in minibatch_iter:\n",
    "            optimizer.zero_grad()\n",
    "            output = model(x_batch)\n",
    "            loss = -mll(output, y_batch)\n",
    "            minibatch_iter.set_postfix(loss=loss.item())\n",
    "            loss.backward()\n",
    "            optimizer.step()\n",
    "\n",
    "    model.eval()\n",
    "    likelihood.eval()\n",
    "    means = torch.tensor([0.])\n",
    "    with torch.no_grad():\n",
    "        for x_batch, y_batch in test_loader:\n",
    "            preds = model(x_batch)\n",
    "            means = torch.cat([means, preds.mean.cpu()])\n",
    "    means = means[1:]\n",
    "    print('Test MAE: {}'.format(torch.mean(torch.abs(means - test_y.cpu()))))\n",
    "\n",
    "    means = torch.tensor([0.])\n",
    "    with torch.no_grad():\n",
    "        for x_batch, y_batch in train_loader:\n",
    "            preds = model(x_batch)\n",
    "            means = torch.cat([means, preds.mean.cpu()])\n",
    "    means = means[1:]\n",
    "    print('Train MAE: {}'.format(torch.mean(torch.abs(means - train_y.cpu()))))\n",
    "\n",
    "experiment_datasets = [1, 275, 477]\n",
    "# abalone, bike share, real estate\n",
    "\n",
    "for experiment in experiment_datasets:\n",
    "    print(\"Experiment \" + str(experiment))\n",
    "    train_x, train_y, test_x, test_y, train_loader, test_loader = downloader(experiment)\n",
    "    whole_process(train_x, train_y, test_x, test_y, train_loader, test_loader)"
   ]
  }
 ],
 "metadata": {
  "kernelspec": {
   "display_name": "NewTrading",
   "language": "python",
   "name": "python3"
  },
  "language_info": {
   "codemirror_mode": {
    "name": "ipython",
    "version": 3
   },
   "file_extension": ".py",
   "mimetype": "text/x-python",
   "name": "python",
   "nbconvert_exporter": "python",
   "pygments_lexer": "ipython3",
   "version": "3.9.17"
  }
 },
 "nbformat": 4,
 "nbformat_minor": 2
}

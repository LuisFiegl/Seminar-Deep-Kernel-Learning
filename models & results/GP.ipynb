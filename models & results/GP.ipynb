{
 "cells": [
  {
   "cell_type": "code",
   "execution_count": 1,
   "metadata": {},
   "outputs": [],
   "source": [
    "import math\n",
    "from tqdm import tqdm\n",
    "import torch\n",
    "import time\n",
    "import numpy as np\n",
    "import gpytorch\n",
    "from matplotlib import pyplot as plt\n",
    "from ucimlrepo import fetch_ucirepo \n",
    "from math import floor\n",
    "from torch.utils.data import TensorDataset, DataLoader\n",
    "\n",
    "# Make plots inline\n",
    "%matplotlib inline"
   ]
  },
  {
   "cell_type": "code",
   "execution_count": 2,
   "metadata": {},
   "outputs": [
    {
     "name": "stdout",
     "output_type": "stream",
     "text": [
      "Experiment 1\n",
      "run: 0\n"
     ]
    },
    {
     "name": "stderr",
     "output_type": "stream",
     "text": [
      "100%|██████████| 100/100 [00:30<00:00,  3.32it/s, loss=3.09]\n"
     ]
    },
    {
     "name": "stdout",
     "output_type": "stream",
     "text": [
      "CPU times: total: 2min 59s\n",
      "Wall time: 30.1 s\n"
     ]
    },
    {
     "name": "stderr",
     "output_type": "stream",
     "text": [
      "c:\\Users\\12lui\\anaconda3\\envs\\NewTrading\\lib\\site-packages\\gpytorch\\models\\exact_gp.py:284: GPInputWarning: The input matches the stored training data. Did you forget to call model.train()?\n",
      "  warnings.warn(\n"
     ]
    },
    {
     "name": "stdout",
     "output_type": "stream",
     "text": [
      "Test RMSE: 1.8655411005020142\n",
      "Train RMSE: 2.1527233123779297\n",
      "Wall time: 30.11 seconds\n",
      "run: 1\n"
     ]
    },
    {
     "name": "stderr",
     "output_type": "stream",
     "text": [
      "100%|██████████| 100/100 [00:29<00:00,  3.42it/s, loss=3.09]\n"
     ]
    },
    {
     "name": "stdout",
     "output_type": "stream",
     "text": [
      "CPU times: total: 2min 55s\n",
      "Wall time: 29.2 s\n",
      "Test RMSE: 1.8656526803970337\n",
      "Train RMSE: 2.152709722518921\n",
      "Wall time: 29.24 seconds\n",
      "run: 2\n"
     ]
    },
    {
     "name": "stderr",
     "output_type": "stream",
     "text": [
      "100%|██████████| 100/100 [00:29<00:00,  3.35it/s, loss=3.09]\n"
     ]
    },
    {
     "name": "stdout",
     "output_type": "stream",
     "text": [
      "CPU times: total: 2min 58s\n",
      "Wall time: 29.9 s\n",
      "Test RMSE: 1.8655447959899902\n",
      "Train RMSE: 2.1527369022369385\n",
      "Wall time: 29.89 seconds\n",
      "mean train performance= 2.1527233\n",
      "mean test performance= 1.8655796\n",
      "mean wall time= 29.74298095703125\n",
      "std train= 1.3589859e-05\n",
      "std test= 6.33809e-05\n",
      "Experiment 275\n",
      "run: 0\n"
     ]
    },
    {
     "name": "stderr",
     "output_type": "stream",
     "text": [
      "100%|██████████| 100/100 [10:01<00:00,  6.02s/it, loss=1.22e+3]\n"
     ]
    },
    {
     "name": "stdout",
     "output_type": "stream",
     "text": [
      "CPU times: total: 59min 36s\n",
      "Wall time: 10min 1s\n"
     ]
    },
    {
     "name": "stderr",
     "output_type": "stream",
     "text": [
      "c:\\Users\\12lui\\anaconda3\\envs\\NewTrading\\lib\\site-packages\\gpytorch\\models\\exact_gp.py:284: GPInputWarning: The input matches the stored training data. Did you forget to call model.train()?\n",
      "  warnings.warn(\n"
     ]
    },
    {
     "name": "stdout",
     "output_type": "stream",
     "text": [
      "Test RMSE: 178.19866943359375\n",
      "Train RMSE: 31.421541213989258\n",
      "Wall time: 601.76 seconds\n",
      "run: 1\n"
     ]
    },
    {
     "name": "stderr",
     "output_type": "stream",
     "text": [
      "100%|██████████| 100/100 [09:53<00:00,  5.93s/it, loss=1.22e+3]\n"
     ]
    },
    {
     "name": "stdout",
     "output_type": "stream",
     "text": [
      "CPU times: total: 58min 45s\n",
      "Wall time: 9min 53s\n",
      "Test RMSE: 178.19871520996094\n",
      "Train RMSE: 31.421175003051758\n",
      "Wall time: 593.55 seconds\n",
      "run: 2\n"
     ]
    },
    {
     "name": "stderr",
     "output_type": "stream",
     "text": [
      "100%|██████████| 100/100 [09:54<00:00,  5.95s/it, loss=1.22e+3]\n"
     ]
    },
    {
     "name": "stdout",
     "output_type": "stream",
     "text": [
      "CPU times: total: 58min 45s\n",
      "Wall time: 9min 55s\n",
      "Test RMSE: 178.19869995117188\n",
      "Train RMSE: 31.421228408813477\n",
      "Wall time: 595.01 seconds\n",
      "mean train performance= 31.421316\n",
      "mean test performance= 178.19868\n",
      "mean wall time= 596.7762099107107\n",
      "std train= 0.00019783169\n",
      "std test= 2.6428997e-05\n",
      "Experiment 477\n",
      "run: 0\n"
     ]
    },
    {
     "name": "stderr",
     "output_type": "stream",
     "text": [
      "100%|██████████| 100/100 [00:00<00:00, 144.38it/s, loss=241]\n",
      "c:\\Users\\12lui\\anaconda3\\envs\\NewTrading\\lib\\site-packages\\gpytorch\\models\\exact_gp.py:284: GPInputWarning: The input matches the stored training data. Did you forget to call model.train()?\n",
      "  warnings.warn(\n"
     ]
    },
    {
     "name": "stdout",
     "output_type": "stream",
     "text": [
      "CPU times: total: 4.19 s\n",
      "Wall time: 695 ms\n",
      "Test RMSE: 28.989206314086914\n",
      "Train RMSE: 15.713935852050781\n",
      "Wall time: 0.69 seconds\n",
      "run: 1\n"
     ]
    },
    {
     "name": "stderr",
     "output_type": "stream",
     "text": [
      "100%|██████████| 100/100 [00:00<00:00, 138.41it/s, loss=241]\n"
     ]
    },
    {
     "name": "stdout",
     "output_type": "stream",
     "text": [
      "CPU times: total: 4.11 s\n",
      "Wall time: 724 ms\n",
      "Test RMSE: 28.989206314086914\n",
      "Train RMSE: 15.713935852050781\n",
      "Wall time: 0.72 seconds\n",
      "run: 2\n"
     ]
    },
    {
     "name": "stderr",
     "output_type": "stream",
     "text": [
      "100%|██████████| 100/100 [00:00<00:00, 142.39it/s, loss=241]\n"
     ]
    },
    {
     "name": "stdout",
     "output_type": "stream",
     "text": [
      "CPU times: total: 3.62 s\n",
      "Wall time: 702 ms\n",
      "Test RMSE: 28.989206314086914\n",
      "Train RMSE: 15.713935852050781\n",
      "Wall time: 0.70 seconds\n",
      "mean train performance= 15.713936\n",
      "mean test performance= 28.989206\n",
      "mean wall time= 0.707190990447998\n",
      "std train= 0.0\n",
      "std test= 0.0\n",
      "Experiment 189\n",
      "run: 0\n"
     ]
    },
    {
     "name": "stderr",
     "output_type": "stream",
     "text": [
      "100%|██████████| 100/100 [01:11<00:00,  1.41it/s, loss=40.2]\n"
     ]
    },
    {
     "name": "stdout",
     "output_type": "stream",
     "text": [
      "CPU times: total: 7min 2s\n",
      "Wall time: 1min 11s\n"
     ]
    },
    {
     "name": "stderr",
     "output_type": "stream",
     "text": [
      "c:\\Users\\12lui\\anaconda3\\envs\\NewTrading\\lib\\site-packages\\gpytorch\\models\\exact_gp.py:284: GPInputWarning: The input matches the stored training data. Did you forget to call model.train()?\n",
      "  warnings.warn(\n"
     ]
    },
    {
     "name": "stdout",
     "output_type": "stream",
     "text": [
      "Test RMSE: 21.75303840637207\n",
      "Train RMSE: 4.895779132843018\n",
      "Wall time: 71.11 seconds\n",
      "run: 1\n"
     ]
    },
    {
     "name": "stderr",
     "output_type": "stream",
     "text": [
      "100%|██████████| 100/100 [01:10<00:00,  1.42it/s, loss=40.2]\n"
     ]
    },
    {
     "name": "stdout",
     "output_type": "stream",
     "text": [
      "CPU times: total: 6min 58s\n",
      "Wall time: 1min 10s\n",
      "Test RMSE: 21.753032684326172\n",
      "Train RMSE: 4.895792484283447\n",
      "Wall time: 70.41 seconds\n",
      "run: 2\n"
     ]
    },
    {
     "name": "stderr",
     "output_type": "stream",
     "text": [
      "100%|██████████| 100/100 [01:10<00:00,  1.42it/s, loss=40.2]\n"
     ]
    },
    {
     "name": "stdout",
     "output_type": "stream",
     "text": [
      "CPU times: total: 6min 55s\n",
      "Wall time: 1min 10s\n",
      "Test RMSE: 21.752958297729492\n",
      "Train RMSE: 4.895802021026611\n",
      "Wall time: 70.33 seconds\n",
      "mean train performance= 4.8957915\n",
      "mean test performance= 21.753012\n",
      "mean wall time= 70.61776447296143\n",
      "std train= 1.1503542e-05\n",
      "std test= 4.4751618e-05\n",
      "Experiment 713\n",
      "run: 0\n"
     ]
    },
    {
     "name": "stderr",
     "output_type": "stream",
     "text": [
      "100%|██████████| 100/100 [00:08<00:00, 12.09it/s, loss=7.28e+6]\n",
      "c:\\Users\\12lui\\anaconda3\\envs\\NewTrading\\lib\\site-packages\\gpytorch\\models\\exact_gp.py:284: GPInputWarning: The input matches the stored training data. Did you forget to call model.train()?\n",
      "  warnings.warn(\n"
     ]
    },
    {
     "name": "stdout",
     "output_type": "stream",
     "text": [
      "CPU times: total: 47.9 s\n",
      "Wall time: 8.27 s\n",
      "Test RMSE: 6419.50146484375\n",
      "Train RMSE: 1994.779541015625\n",
      "Wall time: 8.27 seconds\n",
      "run: 1\n"
     ]
    },
    {
     "name": "stderr",
     "output_type": "stream",
     "text": [
      "100%|██████████| 100/100 [00:08<00:00, 12.40it/s, loss=7.28e+6]\n"
     ]
    },
    {
     "name": "stdout",
     "output_type": "stream",
     "text": [
      "CPU times: total: 47.3 s\n",
      "Wall time: 8.07 s\n",
      "Test RMSE: 6419.49560546875\n",
      "Train RMSE: 1994.7796630859375\n",
      "Wall time: 8.07 seconds\n",
      "run: 2\n"
     ]
    },
    {
     "name": "stderr",
     "output_type": "stream",
     "text": [
      "100%|██████████| 100/100 [00:08<00:00, 12.38it/s, loss=7.28e+6]\n"
     ]
    },
    {
     "name": "stdout",
     "output_type": "stream",
     "text": [
      "CPU times: total: 47.4 s\n",
      "Wall time: 8.08 s\n",
      "Test RMSE: 6419.49853515625\n",
      "Train RMSE: 1994.7799072265625\n",
      "Wall time: 8.08 seconds\n",
      "mean train performance= 1994.7797\n",
      "mean test performance= 6419.4985\n",
      "mean wall time= 8.142451524734497\n",
      "std train= 0.00019301011\n",
      "std test= 0.0029296875\n",
      "Experiment 186\n",
      "run: 0\n"
     ]
    },
    {
     "name": "stderr",
     "output_type": "stream",
     "text": [
      "100%|██████████| 100/100 [01:19<00:00,  1.27it/s, loss=4.57]\n"
     ]
    },
    {
     "name": "stdout",
     "output_type": "stream",
     "text": [
      "CPU times: total: 7min 47s\n",
      "Wall time: 1min 19s\n"
     ]
    },
    {
     "name": "stderr",
     "output_type": "stream",
     "text": [
      "c:\\Users\\12lui\\anaconda3\\envs\\NewTrading\\lib\\site-packages\\gpytorch\\models\\exact_gp.py:284: GPInputWarning: The input matches the stored training data. Did you forget to call model.train()?\n",
      "  warnings.warn(\n"
     ]
    },
    {
     "name": "stdout",
     "output_type": "stream",
     "text": [
      "Test RMSE: 3.982966661453247\n",
      "Train RMSE: 1.578687310218811\n",
      "Wall time: 79.04 seconds\n",
      "run: 1\n"
     ]
    },
    {
     "name": "stderr",
     "output_type": "stream",
     "text": [
      "100%|██████████| 100/100 [01:19<00:00,  1.25it/s, loss=4.57]\n"
     ]
    },
    {
     "name": "stdout",
     "output_type": "stream",
     "text": [
      "CPU times: total: 7min 53s\n",
      "Wall time: 1min 19s\n",
      "Test RMSE: 3.983008623123169\n",
      "Train RMSE: 1.5787004232406616\n",
      "Wall time: 79.86 seconds\n",
      "run: 2\n"
     ]
    },
    {
     "name": "stderr",
     "output_type": "stream",
     "text": [
      "100%|██████████| 100/100 [01:22<00:00,  1.21it/s, loss=4.57]\n"
     ]
    },
    {
     "name": "stdout",
     "output_type": "stream",
     "text": [
      "CPU times: total: 8min 15s\n",
      "Wall time: 1min 22s\n",
      "Test RMSE: 3.9829976558685303\n",
      "Train RMSE: 1.5786542892456055\n",
      "Wall time: 82.99 seconds\n",
      "mean train performance= 1.5786806\n",
      "mean test performance= 3.982991\n",
      "mean wall time= 80.62866353988647\n",
      "std train= 2.3772167e-05\n",
      "std test= 2.1762798e-05\n",
      "Experiment 374\n",
      "run: 0\n"
     ]
    },
    {
     "name": "stderr",
     "output_type": "stream",
     "text": [
      "100%|██████████| 100/100 [12:16<00:00,  7.36s/it, loss=4.19e+3]\n"
     ]
    },
    {
     "name": "stdout",
     "output_type": "stream",
     "text": [
      "CPU times: total: 1h 12min 8s\n",
      "Wall time: 12min 16s\n"
     ]
    },
    {
     "name": "stderr",
     "output_type": "stream",
     "text": [
      "c:\\Users\\12lui\\anaconda3\\envs\\NewTrading\\lib\\site-packages\\gpytorch\\models\\exact_gp.py:284: GPInputWarning: The input matches the stored training data. Did you forget to call model.train()?\n",
      "  warnings.warn(\n"
     ]
    },
    {
     "name": "stdout",
     "output_type": "stream",
     "text": [
      "Test RMSE: 131.9158172607422\n",
      "Train RMSE: 70.67130279541016\n",
      "Wall time: 736.33 seconds\n",
      "run: 1\n"
     ]
    },
    {
     "name": "stderr",
     "output_type": "stream",
     "text": [
      "100%|██████████| 100/100 [12:16<00:00,  7.37s/it, loss=4.19e+3]\n"
     ]
    },
    {
     "name": "stdout",
     "output_type": "stream",
     "text": [
      "CPU times: total: 1h 12min 11s\n",
      "Wall time: 12min 16s\n",
      "Test RMSE: 131.9158172607422\n",
      "Train RMSE: 70.67127990722656\n",
      "Wall time: 736.71 seconds\n",
      "run: 2\n"
     ]
    },
    {
     "name": "stderr",
     "output_type": "stream",
     "text": [
      "100%|██████████| 100/100 [12:34<00:00,  7.55s/it, loss=4.19e+3]\n"
     ]
    },
    {
     "name": "stdout",
     "output_type": "stream",
     "text": [
      "CPU times: total: 1h 14min 13s\n",
      "Wall time: 12min 34s\n",
      "Test RMSE: 131.9158172607422\n",
      "Train RMSE: 70.67131042480469\n",
      "Wall time: 754.99 seconds\n",
      "mean train performance= 70.6713\n",
      "mean test performance= 131.91582\n",
      "mean wall time= 742.6773955027262\n",
      "std train= 1.7059845e-05\n",
      "std test= 0.0\n",
      "Experiment 183\n",
      "run: 0\n"
     ]
    },
    {
     "name": "stderr",
     "output_type": "stream",
     "text": [
      "100%|██████████| 100/100 [00:10<00:00,  9.69it/s, loss=0.613]\n",
      "c:\\Users\\12lui\\anaconda3\\envs\\NewTrading\\lib\\site-packages\\gpytorch\\models\\exact_gp.py:284: GPInputWarning: The input matches the stored training data. Did you forget to call model.train()?\n",
      "  warnings.warn(\n"
     ]
    },
    {
     "name": "stdout",
     "output_type": "stream",
     "text": [
      "CPU times: total: 59.1 s\n",
      "Wall time: 10.3 s\n",
      "Test RMSE: 0.18782496452331543\n",
      "Train RMSE: 0.0950593575835228\n",
      "Wall time: 10.32 seconds\n",
      "run: 1\n"
     ]
    },
    {
     "name": "stderr",
     "output_type": "stream",
     "text": [
      "100%|██████████| 100/100 [00:10<00:00,  9.72it/s, loss=0.617]\n"
     ]
    },
    {
     "name": "stdout",
     "output_type": "stream",
     "text": [
      "CPU times: total: 59.3 s\n",
      "Wall time: 10.3 s\n",
      "Test RMSE: 0.18774889409542084\n",
      "Train RMSE: 0.09502825886011124\n",
      "Wall time: 10.30 seconds\n",
      "run: 2\n"
     ]
    },
    {
     "name": "stderr",
     "output_type": "stream",
     "text": [
      "100%|██████████| 100/100 [00:10<00:00,  9.69it/s, loss=0.616]\n"
     ]
    },
    {
     "name": "stdout",
     "output_type": "stream",
     "text": [
      "CPU times: total: 59.5 s\n",
      "Wall time: 10.3 s\n",
      "Test RMSE: 0.18769656121730804\n",
      "Train RMSE: 0.09502524882555008\n",
      "Wall time: 10.33 seconds\n",
      "mean train performance= 0.09503762\n",
      "mean test performance= 0.18775682\n",
      "mean wall time= 10.315061092376709\n",
      "std train= 1.888385e-05\n",
      "std test= 6.456631e-05\n",
      "Experiment 291\n",
      "run: 0\n"
     ]
    },
    {
     "name": "stderr",
     "output_type": "stream",
     "text": [
      "  0%|          | 0/100 [00:00<?, ?it/s]c:\\Users\\12lui\\anaconda3\\envs\\NewTrading\\lib\\site-packages\\linear_operator\\utils\\linear_cg.py:338: NumericalWarning: CG terminated in 1000 iterations with average residual norm 156718.484375 which is larger than the tolerance of 1 specified by linear_operator.settings.cg_tolerance. If performance is affected, consider raising the maximum number of CG iterations by running code in a linear_operator.settings.max_cg_iterations(value) context.\n",
      "  warnings.warn(\n",
      "  1%|          | 1/100 [00:01<01:54,  1.16s/it, loss=8.7e+3]c:\\Users\\12lui\\anaconda3\\envs\\NewTrading\\lib\\site-packages\\linear_operator\\utils\\linear_cg.py:338: NumericalWarning: CG terminated in 1000 iterations with average residual norm 130.55152893066406 which is larger than the tolerance of 1 specified by linear_operator.settings.cg_tolerance. If performance is affected, consider raising the maximum number of CG iterations by running code in a linear_operator.settings.max_cg_iterations(value) context.\n",
      "  warnings.warn(\n",
      "  4%|▍         | 4/100 [00:02<00:44,  2.16it/s, loss=3.68e+3]c:\\Users\\12lui\\anaconda3\\envs\\NewTrading\\lib\\site-packages\\linear_operator\\utils\\linear_cg.py:338: NumericalWarning: CG terminated in 1000 iterations with average residual norm 84.98583221435547 which is larger than the tolerance of 1 specified by linear_operator.settings.cg_tolerance. If performance is affected, consider raising the maximum number of CG iterations by running code in a linear_operator.settings.max_cg_iterations(value) context.\n",
      "  warnings.warn(\n",
      "  5%|▌         | 5/100 [00:03<01:04,  1.48it/s, loss=9.45e+3]c:\\Users\\12lui\\anaconda3\\envs\\NewTrading\\lib\\site-packages\\linear_operator\\utils\\linear_cg.py:338: NumericalWarning: CG terminated in 1000 iterations with average residual norm 12.859789848327637 which is larger than the tolerance of 1 specified by linear_operator.settings.cg_tolerance. If performance is affected, consider raising the maximum number of CG iterations by running code in a linear_operator.settings.max_cg_iterations(value) context.\n",
      "  warnings.warn(\n",
      "  8%|▊         | 8/100 [00:04<00:43,  2.14it/s, loss=3.92e+3]c:\\Users\\12lui\\anaconda3\\envs\\NewTrading\\lib\\site-packages\\linear_operator\\utils\\linear_cg.py:338: NumericalWarning: CG terminated in 1000 iterations with average residual norm 215427.765625 which is larger than the tolerance of 1 specified by linear_operator.settings.cg_tolerance. If performance is affected, consider raising the maximum number of CG iterations by running code in a linear_operator.settings.max_cg_iterations(value) context.\n",
      "  warnings.warn(\n",
      " 12%|█▏        | 12/100 [00:06<00:30,  2.85it/s, loss=3.77e+3]c:\\Users\\12lui\\anaconda3\\envs\\NewTrading\\lib\\site-packages\\linear_operator\\utils\\linear_cg.py:338: NumericalWarning: CG terminated in 1000 iterations with average residual norm 382.7304992675781 which is larger than the tolerance of 1 specified by linear_operator.settings.cg_tolerance. If performance is affected, consider raising the maximum number of CG iterations by running code in a linear_operator.settings.max_cg_iterations(value) context.\n",
      "  warnings.warn(\n",
      " 12%|█▏        | 12/100 [00:07<00:30,  2.85it/s, loss=2.99e+3]c:\\Users\\12lui\\anaconda3\\envs\\NewTrading\\lib\\site-packages\\linear_operator\\utils\\linear_cg.py:338: NumericalWarning: CG terminated in 1000 iterations with average residual norm 136.43309020996094 which is larger than the tolerance of 1 specified by linear_operator.settings.cg_tolerance. If performance is affected, consider raising the maximum number of CG iterations by running code in a linear_operator.settings.max_cg_iterations(value) context.\n",
      "  warnings.warn(\n",
      " 14%|█▍        | 14/100 [00:08<00:53,  1.60it/s, loss=3.75e+3]c:\\Users\\12lui\\anaconda3\\envs\\NewTrading\\lib\\site-packages\\linear_operator\\utils\\linear_cg.py:338: NumericalWarning: CG terminated in 1000 iterations with average residual norm 92.6276626586914 which is larger than the tolerance of 1 specified by linear_operator.settings.cg_tolerance. If performance is affected, consider raising the maximum number of CG iterations by running code in a linear_operator.settings.max_cg_iterations(value) context.\n",
      "  warnings.warn(\n",
      " 16%|█▌        | 16/100 [00:09<00:51,  1.62it/s, loss=3.7e+3] c:\\Users\\12lui\\anaconda3\\envs\\NewTrading\\lib\\site-packages\\linear_operator\\utils\\linear_cg.py:338: NumericalWarning: CG terminated in 1000 iterations with average residual norm 81.43083953857422 which is larger than the tolerance of 1 specified by linear_operator.settings.cg_tolerance. If performance is affected, consider raising the maximum number of CG iterations by running code in a linear_operator.settings.max_cg_iterations(value) context.\n",
      "  warnings.warn(\n",
      " 18%|█▊        | 18/100 [00:10<00:50,  1.63it/s, loss=3.74e+3]c:\\Users\\12lui\\anaconda3\\envs\\NewTrading\\lib\\site-packages\\linear_operator\\utils\\linear_cg.py:338: NumericalWarning: CG terminated in 1000 iterations with average residual norm 90.68211364746094 which is larger than the tolerance of 1 specified by linear_operator.settings.cg_tolerance. If performance is affected, consider raising the maximum number of CG iterations by running code in a linear_operator.settings.max_cg_iterations(value) context.\n",
      "  warnings.warn(\n",
      " 20%|██        | 20/100 [00:12<00:48,  1.64it/s, loss=5.28e+4]c:\\Users\\12lui\\anaconda3\\envs\\NewTrading\\lib\\site-packages\\linear_operator\\utils\\linear_cg.py:338: NumericalWarning: CG terminated in 1000 iterations with average residual norm 45.8731803894043 which is larger than the tolerance of 1 specified by linear_operator.settings.cg_tolerance. If performance is affected, consider raising the maximum number of CG iterations by running code in a linear_operator.settings.max_cg_iterations(value) context.\n",
      "  warnings.warn(\n",
      " 21%|██        | 21/100 [00:13<00:55,  1.41it/s, loss=3.93e+3]c:\\Users\\12lui\\anaconda3\\envs\\NewTrading\\lib\\site-packages\\linear_operator\\utils\\linear_cg.py:338: NumericalWarning: CG terminated in 1000 iterations with average residual norm 141.51577758789062 which is larger than the tolerance of 1 specified by linear_operator.settings.cg_tolerance. If performance is affected, consider raising the maximum number of CG iterations by running code in a linear_operator.settings.max_cg_iterations(value) context.\n",
      "  warnings.warn(\n",
      " 22%|██▏       | 22/100 [00:14<01:02,  1.25it/s, loss=5.89e+3]c:\\Users\\12lui\\anaconda3\\envs\\NewTrading\\lib\\site-packages\\linear_operator\\utils\\linear_cg.py:338: NumericalWarning: CG terminated in 1000 iterations with average residual norm 726.0610961914062 which is larger than the tolerance of 1 specified by linear_operator.settings.cg_tolerance. If performance is affected, consider raising the maximum number of CG iterations by running code in a linear_operator.settings.max_cg_iterations(value) context.\n",
      "  warnings.warn(\n",
      " 23%|██▎       | 23/100 [00:15<01:07,  1.14it/s, loss=1.51e+4]c:\\Users\\12lui\\anaconda3\\envs\\NewTrading\\lib\\site-packages\\linear_operator\\utils\\linear_cg.py:338: NumericalWarning: CG terminated in 1000 iterations with average residual norm 43.02345275878906 which is larger than the tolerance of 1 specified by linear_operator.settings.cg_tolerance. If performance is affected, consider raising the maximum number of CG iterations by running code in a linear_operator.settings.max_cg_iterations(value) context.\n",
      "  warnings.warn(\n",
      " 24%|██▍       | 24/100 [00:16<01:12,  1.05it/s, loss=3.84e+3]c:\\Users\\12lui\\anaconda3\\envs\\NewTrading\\lib\\site-packages\\linear_operator\\utils\\linear_cg.py:338: NumericalWarning: CG terminated in 1000 iterations with average residual norm 98.10051727294922 which is larger than the tolerance of 1 specified by linear_operator.settings.cg_tolerance. If performance is affected, consider raising the maximum number of CG iterations by running code in a linear_operator.settings.max_cg_iterations(value) context.\n",
      "  warnings.warn(\n",
      " 35%|███▌      | 35/100 [00:18<00:12,  5.38it/s, loss=3.89e+3]c:\\Users\\12lui\\anaconda3\\envs\\NewTrading\\lib\\site-packages\\linear_operator\\utils\\linear_cg.py:338: NumericalWarning: CG terminated in 1000 iterations with average residual norm 64.20187377929688 which is larger than the tolerance of 1 specified by linear_operator.settings.cg_tolerance. If performance is affected, consider raising the maximum number of CG iterations by running code in a linear_operator.settings.max_cg_iterations(value) context.\n",
      "  warnings.warn(\n",
      " 38%|███▊      | 38/100 [00:19<00:17,  3.61it/s, loss=4.77e+3]c:\\Users\\12lui\\anaconda3\\envs\\NewTrading\\lib\\site-packages\\linear_operator\\utils\\linear_cg.py:338: NumericalWarning: CG terminated in 1000 iterations with average residual norm 186.30616760253906 which is larger than the tolerance of 1 specified by linear_operator.settings.cg_tolerance. If performance is affected, consider raising the maximum number of CG iterations by running code in a linear_operator.settings.max_cg_iterations(value) context.\n",
      "  warnings.warn(\n",
      " 38%|███▊      | 38/100 [00:20<00:17,  3.61it/s, loss=6.48e+3]c:\\Users\\12lui\\anaconda3\\envs\\NewTrading\\lib\\site-packages\\linear_operator\\utils\\linear_cg.py:338: NumericalWarning: CG terminated in 1000 iterations with average residual norm 122.18917846679688 which is larger than the tolerance of 1 specified by linear_operator.settings.cg_tolerance. If performance is affected, consider raising the maximum number of CG iterations by running code in a linear_operator.settings.max_cg_iterations(value) context.\n",
      "  warnings.warn(\n",
      " 40%|████      | 40/100 [00:21<00:30,  1.96it/s, loss=2.97e+4]c:\\Users\\12lui\\anaconda3\\envs\\NewTrading\\lib\\site-packages\\linear_operator\\utils\\linear_cg.py:338: NumericalWarning: CG terminated in 1000 iterations with average residual norm 129.90162658691406 which is larger than the tolerance of 1 specified by linear_operator.settings.cg_tolerance. If performance is affected, consider raising the maximum number of CG iterations by running code in a linear_operator.settings.max_cg_iterations(value) context.\n",
      "  warnings.warn(\n",
      " 45%|████▌     | 45/100 [00:23<00:17,  3.16it/s, loss=3.89e+3]c:\\Users\\12lui\\anaconda3\\envs\\NewTrading\\lib\\site-packages\\linear_operator\\utils\\linear_cg.py:338: NumericalWarning: CG terminated in 1000 iterations with average residual norm 95.56696319580078 which is larger than the tolerance of 1 specified by linear_operator.settings.cg_tolerance. If performance is affected, consider raising the maximum number of CG iterations by running code in a linear_operator.settings.max_cg_iterations(value) context.\n",
      "  warnings.warn(\n",
      " 49%|████▉     | 49/100 [00:24<00:15,  3.38it/s, loss=3.89e+3]c:\\Users\\12lui\\anaconda3\\envs\\NewTrading\\lib\\site-packages\\linear_operator\\utils\\linear_cg.py:338: NumericalWarning: CG terminated in 1000 iterations with average residual norm 256.871337890625 which is larger than the tolerance of 1 specified by linear_operator.settings.cg_tolerance. If performance is affected, consider raising the maximum number of CG iterations by running code in a linear_operator.settings.max_cg_iterations(value) context.\n",
      "  warnings.warn(\n",
      " 51%|█████     | 51/100 [00:25<00:18,  2.58it/s, loss=3.57e+4]c:\\Users\\12lui\\anaconda3\\envs\\NewTrading\\lib\\site-packages\\linear_operator\\utils\\linear_cg.py:338: NumericalWarning: CG terminated in 1000 iterations with average residual norm 113.14679718017578 which is larger than the tolerance of 1 specified by linear_operator.settings.cg_tolerance. If performance is affected, consider raising the maximum number of CG iterations by running code in a linear_operator.settings.max_cg_iterations(value) context.\n",
      "  warnings.warn(\n",
      " 52%|█████▏    | 52/100 [00:26<00:25,  1.91it/s, loss=2.22e+4]c:\\Users\\12lui\\anaconda3\\envs\\NewTrading\\lib\\site-packages\\linear_operator\\utils\\linear_cg.py:338: NumericalWarning: CG terminated in 1000 iterations with average residual norm 1145.047119140625 which is larger than the tolerance of 1 specified by linear_operator.settings.cg_tolerance. If performance is affected, consider raising the maximum number of CG iterations by running code in a linear_operator.settings.max_cg_iterations(value) context.\n",
      "  warnings.warn(\n",
      "100%|██████████| 100/100 [00:30<00:00,  3.27it/s, loss=4e+3]  \n",
      "c:\\Users\\12lui\\anaconda3\\envs\\NewTrading\\lib\\site-packages\\gpytorch\\models\\exact_gp.py:284: GPInputWarning: The input matches the stored training data. Did you forget to call model.train()?\n",
      "  warnings.warn(\n"
     ]
    },
    {
     "name": "stdout",
     "output_type": "stream",
     "text": [
      "CPU times: total: 2min 58s\n",
      "Wall time: 30.6 s\n",
      "Test RMSE: 86.1680908203125\n",
      "Train RMSE: 56.13261795043945\n",
      "Wall time: 30.59 seconds\n",
      "run: 1\n"
     ]
    },
    {
     "name": "stderr",
     "output_type": "stream",
     "text": [
      "  0%|          | 0/100 [00:00<?, ?it/s]c:\\Users\\12lui\\anaconda3\\envs\\NewTrading\\lib\\site-packages\\linear_operator\\utils\\linear_cg.py:338: NumericalWarning: CG terminated in 1000 iterations with average residual norm 1757268.75 which is larger than the tolerance of 1 specified by linear_operator.settings.cg_tolerance. If performance is affected, consider raising the maximum number of CG iterations by running code in a linear_operator.settings.max_cg_iterations(value) context.\n",
      "  warnings.warn(\n",
      "  1%|          | 1/100 [00:01<01:52,  1.14s/it, loss=8.7e+3]c:\\Users\\12lui\\anaconda3\\envs\\NewTrading\\lib\\site-packages\\linear_operator\\utils\\linear_cg.py:338: NumericalWarning: CG terminated in 1000 iterations with average residual norm 710.3833618164062 which is larger than the tolerance of 1 specified by linear_operator.settings.cg_tolerance. If performance is affected, consider raising the maximum number of CG iterations by running code in a linear_operator.settings.max_cg_iterations(value) context.\n",
      "  warnings.warn(\n",
      "  2%|▏         | 2/100 [00:02<01:51,  1.14s/it, loss=3.61e+3]c:\\Users\\12lui\\anaconda3\\envs\\NewTrading\\lib\\site-packages\\linear_operator\\utils\\linear_cg.py:338: NumericalWarning: CG terminated in 1000 iterations with average residual norm 218.48565673828125 which is larger than the tolerance of 1 specified by linear_operator.settings.cg_tolerance. If performance is affected, consider raising the maximum number of CG iterations by running code in a linear_operator.settings.max_cg_iterations(value) context.\n",
      "  warnings.warn(\n",
      "  6%|▌         | 6/100 [00:03<00:42,  2.22it/s, loss=3.7e+3] c:\\Users\\12lui\\anaconda3\\envs\\NewTrading\\lib\\site-packages\\linear_operator\\utils\\linear_cg.py:338: NumericalWarning: CG terminated in 1000 iterations with average residual norm 125.62710571289062 which is larger than the tolerance of 1 specified by linear_operator.settings.cg_tolerance. If performance is affected, consider raising the maximum number of CG iterations by running code in a linear_operator.settings.max_cg_iterations(value) context.\n",
      "  warnings.warn(\n",
      "  8%|▊         | 8/100 [00:04<00:47,  1.95it/s, loss=3.67e+3]c:\\Users\\12lui\\anaconda3\\envs\\NewTrading\\lib\\site-packages\\linear_operator\\utils\\linear_cg.py:338: NumericalWarning: CG terminated in 1000 iterations with average residual norm 72.7937240600586 which is larger than the tolerance of 1 specified by linear_operator.settings.cg_tolerance. If performance is affected, consider raising the maximum number of CG iterations by running code in a linear_operator.settings.max_cg_iterations(value) context.\n",
      "  warnings.warn(\n",
      " 10%|█         | 10/100 [00:05<00:48,  1.85it/s, loss=4.72e+3]c:\\Users\\12lui\\anaconda3\\envs\\NewTrading\\lib\\site-packages\\linear_operator\\utils\\linear_cg.py:338: NumericalWarning: CG terminated in 1000 iterations with average residual norm 40.01533508300781 which is larger than the tolerance of 1 specified by linear_operator.settings.cg_tolerance. If performance is affected, consider raising the maximum number of CG iterations by running code in a linear_operator.settings.max_cg_iterations(value) context.\n",
      "  warnings.warn(\n",
      " 11%|█         | 11/100 [00:07<00:59,  1.50it/s, loss=3.78e+3]c:\\Users\\12lui\\anaconda3\\envs\\NewTrading\\lib\\site-packages\\linear_operator\\utils\\linear_cg.py:338: NumericalWarning: CG terminated in 1000 iterations with average residual norm 251.11175537109375 which is larger than the tolerance of 1 specified by linear_operator.settings.cg_tolerance. If performance is affected, consider raising the maximum number of CG iterations by running code in a linear_operator.settings.max_cg_iterations(value) context.\n",
      "  warnings.warn(\n",
      " 12%|█▏        | 12/100 [00:08<01:07,  1.30it/s, loss=3.77e+3]c:\\Users\\12lui\\anaconda3\\envs\\NewTrading\\lib\\site-packages\\linear_operator\\utils\\linear_cg.py:338: NumericalWarning: CG terminated in 1000 iterations with average residual norm 78.95726013183594 which is larger than the tolerance of 1 specified by linear_operator.settings.cg_tolerance. If performance is affected, consider raising the maximum number of CG iterations by running code in a linear_operator.settings.max_cg_iterations(value) context.\n",
      "  warnings.warn(\n",
      " 14%|█▍        | 14/100 [00:09<01:00,  1.42it/s, loss=3.85e+3]c:\\Users\\12lui\\anaconda3\\envs\\NewTrading\\lib\\site-packages\\linear_operator\\utils\\linear_cg.py:338: NumericalWarning: CG terminated in 1000 iterations with average residual norm 228561.296875 which is larger than the tolerance of 1 specified by linear_operator.settings.cg_tolerance. If performance is affected, consider raising the maximum number of CG iterations by running code in a linear_operator.settings.max_cg_iterations(value) context.\n",
      "  warnings.warn(\n",
      " 15%|█▌        | 15/100 [00:10<01:07,  1.25it/s, loss=6.48e+3]c:\\Users\\12lui\\anaconda3\\envs\\NewTrading\\lib\\site-packages\\linear_operator\\utils\\linear_cg.py:338: NumericalWarning: CG terminated in 1000 iterations with average residual norm 86.16162109375 which is larger than the tolerance of 1 specified by linear_operator.settings.cg_tolerance. If performance is affected, consider raising the maximum number of CG iterations by running code in a linear_operator.settings.max_cg_iterations(value) context.\n",
      "  warnings.warn(\n",
      " 16%|█▌        | 16/100 [00:11<01:14,  1.13it/s, loss=3.81e+3]c:\\Users\\12lui\\anaconda3\\envs\\NewTrading\\lib\\site-packages\\linear_operator\\utils\\linear_cg.py:338: NumericalWarning: CG terminated in 1000 iterations with average residual norm 439.3822021484375 which is larger than the tolerance of 1 specified by linear_operator.settings.cg_tolerance. If performance is affected, consider raising the maximum number of CG iterations by running code in a linear_operator.settings.max_cg_iterations(value) context.\n",
      "  warnings.warn(\n",
      " 18%|█▊        | 18/100 [00:12<01:02,  1.31it/s, loss=3.76e+3]c:\\Users\\12lui\\anaconda3\\envs\\NewTrading\\lib\\site-packages\\linear_operator\\utils\\linear_cg.py:338: NumericalWarning: CG terminated in 1000 iterations with average residual norm 254.88743591308594 which is larger than the tolerance of 1 specified by linear_operator.settings.cg_tolerance. If performance is affected, consider raising the maximum number of CG iterations by running code in a linear_operator.settings.max_cg_iterations(value) context.\n",
      "  warnings.warn(\n",
      " 20%|██        | 20/100 [00:14<00:56,  1.42it/s, loss=4.7e+3] c:\\Users\\12lui\\anaconda3\\envs\\NewTrading\\lib\\site-packages\\linear_operator\\utils\\linear_cg.py:338: NumericalWarning: CG terminated in 1000 iterations with average residual norm 310.1807861328125 which is larger than the tolerance of 1 specified by linear_operator.settings.cg_tolerance. If performance is affected, consider raising the maximum number of CG iterations by running code in a linear_operator.settings.max_cg_iterations(value) context.\n",
      "  warnings.warn(\n",
      " 21%|██        | 21/100 [00:15<01:02,  1.26it/s, loss=8.99e+3]c:\\Users\\12lui\\anaconda3\\envs\\NewTrading\\lib\\site-packages\\linear_operator\\utils\\linear_cg.py:338: NumericalWarning: CG terminated in 1000 iterations with average residual norm 742.6687622070312 which is larger than the tolerance of 1 specified by linear_operator.settings.cg_tolerance. If performance is affected, consider raising the maximum number of CG iterations by running code in a linear_operator.settings.max_cg_iterations(value) context.\n",
      "  warnings.warn(\n",
      " 22%|██▏       | 22/100 [00:16<01:07,  1.15it/s, loss=3.96e+3]c:\\Users\\12lui\\anaconda3\\envs\\NewTrading\\lib\\site-packages\\linear_operator\\utils\\linear_cg.py:338: NumericalWarning: CG terminated in 1000 iterations with average residual norm 3069.84375 which is larger than the tolerance of 1 specified by linear_operator.settings.cg_tolerance. If performance is affected, consider raising the maximum number of CG iterations by running code in a linear_operator.settings.max_cg_iterations(value) context.\n",
      "  warnings.warn(\n",
      " 24%|██▍       | 24/100 [00:17<00:57,  1.32it/s, loss=2.38e+5]c:\\Users\\12lui\\anaconda3\\envs\\NewTrading\\lib\\site-packages\\linear_operator\\utils\\linear_cg.py:338: NumericalWarning: CG terminated in 1000 iterations with average residual norm 119.32939147949219 which is larger than the tolerance of 1 specified by linear_operator.settings.cg_tolerance. If performance is affected, consider raising the maximum number of CG iterations by running code in a linear_operator.settings.max_cg_iterations(value) context.\n",
      "  warnings.warn(\n",
      " 25%|██▌       | 25/100 [00:18<01:03,  1.19it/s, loss=8.19e+3]c:\\Users\\12lui\\anaconda3\\envs\\NewTrading\\lib\\site-packages\\linear_operator\\utils\\linear_cg.py:338: NumericalWarning: CG terminated in 1000 iterations with average residual norm 184.51536560058594 which is larger than the tolerance of 1 specified by linear_operator.settings.cg_tolerance. If performance is affected, consider raising the maximum number of CG iterations by running code in a linear_operator.settings.max_cg_iterations(value) context.\n",
      "  warnings.warn(\n",
      " 26%|██▌       | 26/100 [00:19<01:07,  1.10it/s, loss=3.74e+3]c:\\Users\\12lui\\anaconda3\\envs\\NewTrading\\lib\\site-packages\\linear_operator\\utils\\linear_cg.py:338: NumericalWarning: CG terminated in 1000 iterations with average residual norm 1303.8634033203125 which is larger than the tolerance of 1 specified by linear_operator.settings.cg_tolerance. If performance is affected, consider raising the maximum number of CG iterations by running code in a linear_operator.settings.max_cg_iterations(value) context.\n",
      "  warnings.warn(\n",
      " 28%|██▊       | 28/100 [00:21<00:56,  1.28it/s, loss=3.77e+3] c:\\Users\\12lui\\anaconda3\\envs\\NewTrading\\lib\\site-packages\\linear_operator\\utils\\linear_cg.py:338: NumericalWarning: CG terminated in 1000 iterations with average residual norm 16423.482421875 which is larger than the tolerance of 1 specified by linear_operator.settings.cg_tolerance. If performance is affected, consider raising the maximum number of CG iterations by running code in a linear_operator.settings.max_cg_iterations(value) context.\n",
      "  warnings.warn(\n",
      " 36%|███▌      | 36/100 [00:22<00:16,  3.99it/s, loss=3.77e+3]c:\\Users\\12lui\\anaconda3\\envs\\NewTrading\\lib\\site-packages\\linear_operator\\utils\\linear_cg.py:338: NumericalWarning: CG terminated in 1000 iterations with average residual norm 344.2283935546875 which is larger than the tolerance of 1 specified by linear_operator.settings.cg_tolerance. If performance is affected, consider raising the maximum number of CG iterations by running code in a linear_operator.settings.max_cg_iterations(value) context.\n",
      "  warnings.warn(\n",
      " 42%|████▏     | 42/100 [00:23<00:11,  5.00it/s, loss=3.78e+3]c:\\Users\\12lui\\anaconda3\\envs\\NewTrading\\lib\\site-packages\\linear_operator\\utils\\linear_cg.py:338: NumericalWarning: CG terminated in 1000 iterations with average residual norm 382.0969543457031 which is larger than the tolerance of 1 specified by linear_operator.settings.cg_tolerance. If performance is affected, consider raising the maximum number of CG iterations by running code in a linear_operator.settings.max_cg_iterations(value) context.\n",
      "  warnings.warn(\n",
      " 50%|█████     | 50/100 [00:25<00:07,  7.02it/s, loss=3.84e+3]c:\\Users\\12lui\\anaconda3\\envs\\NewTrading\\lib\\site-packages\\linear_operator\\utils\\linear_cg.py:338: NumericalWarning: CG terminated in 1000 iterations with average residual norm 807.4236450195312 which is larger than the tolerance of 1 specified by linear_operator.settings.cg_tolerance. If performance is affected, consider raising the maximum number of CG iterations by running code in a linear_operator.settings.max_cg_iterations(value) context.\n",
      "  warnings.warn(\n",
      " 50%|█████     | 50/100 [00:26<00:07,  7.02it/s, loss=3.79e+3]c:\\Users\\12lui\\anaconda3\\envs\\NewTrading\\lib\\site-packages\\linear_operator\\utils\\linear_cg.py:338: NumericalWarning: CG terminated in 1000 iterations with average residual norm 12395.7626953125 which is larger than the tolerance of 1 specified by linear_operator.settings.cg_tolerance. If performance is affected, consider raising the maximum number of CG iterations by running code in a linear_operator.settings.max_cg_iterations(value) context.\n",
      "  warnings.warn(\n",
      " 56%|█████▌    | 56/100 [00:27<00:10,  4.11it/s, loss=3.79e+3]c:\\Users\\12lui\\anaconda3\\envs\\NewTrading\\lib\\site-packages\\linear_operator\\utils\\linear_cg.py:338: NumericalWarning: CG terminated in 1000 iterations with average residual norm 331.2952880859375 which is larger than the tolerance of 1 specified by linear_operator.settings.cg_tolerance. If performance is affected, consider raising the maximum number of CG iterations by running code in a linear_operator.settings.max_cg_iterations(value) context.\n",
      "  warnings.warn(\n",
      " 58%|█████▊    | 58/100 [00:29<00:14,  2.86it/s, loss=3.8e+3] c:\\Users\\12lui\\anaconda3\\envs\\NewTrading\\lib\\site-packages\\linear_operator\\utils\\linear_cg.py:338: NumericalWarning: CG terminated in 1000 iterations with average residual norm 252.46974182128906 which is larger than the tolerance of 1 specified by linear_operator.settings.cg_tolerance. If performance is affected, consider raising the maximum number of CG iterations by running code in a linear_operator.settings.max_cg_iterations(value) context.\n",
      "  warnings.warn(\n",
      " 58%|█████▊    | 58/100 [00:30<00:14,  2.86it/s, loss=1.79e+4]c:\\Users\\12lui\\anaconda3\\envs\\NewTrading\\lib\\site-packages\\linear_operator\\utils\\linear_cg.py:338: NumericalWarning: CG terminated in 1000 iterations with average residual norm 112.41277313232422 which is larger than the tolerance of 1 specified by linear_operator.settings.cg_tolerance. If performance is affected, consider raising the maximum number of CG iterations by running code in a linear_operator.settings.max_cg_iterations(value) context.\n",
      "  warnings.warn(\n",
      " 60%|██████    | 60/100 [00:31<00:23,  1.69it/s, loss=5.87e+3]c:\\Users\\12lui\\anaconda3\\envs\\NewTrading\\lib\\site-packages\\linear_operator\\utils\\linear_cg.py:338: NumericalWarning: CG terminated in 1000 iterations with average residual norm 75.52872467041016 which is larger than the tolerance of 1 specified by linear_operator.settings.cg_tolerance. If performance is affected, consider raising the maximum number of CG iterations by running code in a linear_operator.settings.max_cg_iterations(value) context.\n",
      "  warnings.warn(\n",
      " 61%|██████    | 61/100 [00:32<00:26,  1.45it/s, loss=5.39e+3]c:\\Users\\12lui\\anaconda3\\envs\\NewTrading\\lib\\site-packages\\linear_operator\\utils\\linear_cg.py:338: NumericalWarning: CG terminated in 1000 iterations with average residual norm 236.39271545410156 which is larger than the tolerance of 1 specified by linear_operator.settings.cg_tolerance. If performance is affected, consider raising the maximum number of CG iterations by running code in a linear_operator.settings.max_cg_iterations(value) context.\n",
      "  warnings.warn(\n",
      " 62%|██████▏   | 62/100 [00:33<00:29,  1.27it/s, loss=4.34e+3]c:\\Users\\12lui\\anaconda3\\envs\\NewTrading\\lib\\site-packages\\linear_operator\\utils\\linear_cg.py:338: NumericalWarning: CG terminated in 1000 iterations with average residual norm 14.679221153259277 which is larger than the tolerance of 1 specified by linear_operator.settings.cg_tolerance. If performance is affected, consider raising the maximum number of CG iterations by running code in a linear_operator.settings.max_cg_iterations(value) context.\n",
      "  warnings.warn(\n",
      " 64%|██████▍   | 64/100 [00:34<00:26,  1.38it/s, loss=9.44e+3]c:\\Users\\12lui\\anaconda3\\envs\\NewTrading\\lib\\site-packages\\linear_operator\\utils\\linear_cg.py:338: NumericalWarning: CG terminated in 1000 iterations with average residual norm 40.796722412109375 which is larger than the tolerance of 1 specified by linear_operator.settings.cg_tolerance. If performance is affected, consider raising the maximum number of CG iterations by running code in a linear_operator.settings.max_cg_iterations(value) context.\n",
      "  warnings.warn(\n",
      " 65%|██████▌   | 65/100 [00:36<00:28,  1.23it/s, loss=1.29e+4]c:\\Users\\12lui\\anaconda3\\envs\\NewTrading\\lib\\site-packages\\linear_operator\\utils\\linear_cg.py:338: NumericalWarning: CG terminated in 1000 iterations with average residual norm 50.26443862915039 which is larger than the tolerance of 1 specified by linear_operator.settings.cg_tolerance. If performance is affected, consider raising the maximum number of CG iterations by running code in a linear_operator.settings.max_cg_iterations(value) context.\n",
      "  warnings.warn(\n",
      " 66%|██████▌   | 66/100 [00:37<00:30,  1.12it/s, loss=9.39e+3]c:\\Users\\12lui\\anaconda3\\envs\\NewTrading\\lib\\site-packages\\linear_operator\\utils\\linear_cg.py:338: NumericalWarning: CG terminated in 1000 iterations with average residual norm 241.3733367919922 which is larger than the tolerance of 1 specified by linear_operator.settings.cg_tolerance. If performance is affected, consider raising the maximum number of CG iterations by running code in a linear_operator.settings.max_cg_iterations(value) context.\n",
      "  warnings.warn(\n",
      " 67%|██████▋   | 67/100 [00:38<00:31,  1.05it/s, loss=4.94e+4]c:\\Users\\12lui\\anaconda3\\envs\\NewTrading\\lib\\site-packages\\linear_operator\\utils\\linear_cg.py:338: NumericalWarning: CG terminated in 1000 iterations with average residual norm 44.1724739074707 which is larger than the tolerance of 1 specified by linear_operator.settings.cg_tolerance. If performance is affected, consider raising the maximum number of CG iterations by running code in a linear_operator.settings.max_cg_iterations(value) context.\n",
      "  warnings.warn(\n",
      " 68%|██████▊   | 68/100 [00:39<00:32,  1.01s/it, loss=1.41e+4]c:\\Users\\12lui\\anaconda3\\envs\\NewTrading\\lib\\site-packages\\linear_operator\\utils\\linear_cg.py:338: NumericalWarning: CG terminated in 1000 iterations with average residual norm 221.89625549316406 which is larger than the tolerance of 1 specified by linear_operator.settings.cg_tolerance. If performance is affected, consider raising the maximum number of CG iterations by running code in a linear_operator.settings.max_cg_iterations(value) context.\n",
      "  warnings.warn(\n",
      " 69%|██████▉   | 69/100 [00:40<00:32,  1.05s/it, loss=4.05e+3]c:\\Users\\12lui\\anaconda3\\envs\\NewTrading\\lib\\site-packages\\linear_operator\\utils\\linear_cg.py:338: NumericalWarning: CG terminated in 1000 iterations with average residual norm 36.88969421386719 which is larger than the tolerance of 1 specified by linear_operator.settings.cg_tolerance. If performance is affected, consider raising the maximum number of CG iterations by running code in a linear_operator.settings.max_cg_iterations(value) context.\n",
      "  warnings.warn(\n",
      " 71%|███████   | 71/100 [00:41<00:24,  1.17it/s, loss=6.32e+3]c:\\Users\\12lui\\anaconda3\\envs\\NewTrading\\lib\\site-packages\\linear_operator\\utils\\linear_cg.py:338: NumericalWarning: CG terminated in 1000 iterations with average residual norm 108.65280151367188 which is larger than the tolerance of 1 specified by linear_operator.settings.cg_tolerance. If performance is affected, consider raising the maximum number of CG iterations by running code in a linear_operator.settings.max_cg_iterations(value) context.\n",
      "  warnings.warn(\n",
      " 72%|███████▏  | 72/100 [00:43<00:25,  1.08it/s, loss=1.57e+4]c:\\Users\\12lui\\anaconda3\\envs\\NewTrading\\lib\\site-packages\\linear_operator\\utils\\linear_cg.py:338: NumericalWarning: CG terminated in 1000 iterations with average residual norm 583.2857055664062 which is larger than the tolerance of 1 specified by linear_operator.settings.cg_tolerance. If performance is affected, consider raising the maximum number of CG iterations by running code in a linear_operator.settings.max_cg_iterations(value) context.\n",
      "  warnings.warn(\n",
      " 73%|███████▎  | 73/100 [00:44<00:26,  1.02it/s, loss=4.53e+4]c:\\Users\\12lui\\anaconda3\\envs\\NewTrading\\lib\\site-packages\\linear_operator\\utils\\linear_cg.py:338: NumericalWarning: CG terminated in 1000 iterations with average residual norm 130.7042236328125 which is larger than the tolerance of 1 specified by linear_operator.settings.cg_tolerance. If performance is affected, consider raising the maximum number of CG iterations by running code in a linear_operator.settings.max_cg_iterations(value) context.\n",
      "  warnings.warn(\n",
      " 74%|███████▍  | 74/100 [00:45<00:26,  1.03s/it, loss=4.57e+3]c:\\Users\\12lui\\anaconda3\\envs\\NewTrading\\lib\\site-packages\\linear_operator\\utils\\linear_cg.py:338: NumericalWarning: CG terminated in 1000 iterations with average residual norm 79.74594116210938 which is larger than the tolerance of 1 specified by linear_operator.settings.cg_tolerance. If performance is affected, consider raising the maximum number of CG iterations by running code in a linear_operator.settings.max_cg_iterations(value) context.\n",
      "  warnings.warn(\n",
      " 75%|███████▌  | 75/100 [00:46<00:26,  1.06s/it, loss=9.87e+3]c:\\Users\\12lui\\anaconda3\\envs\\NewTrading\\lib\\site-packages\\linear_operator\\utils\\linear_cg.py:338: NumericalWarning: CG terminated in 1000 iterations with average residual norm 277.2652893066406 which is larger than the tolerance of 1 specified by linear_operator.settings.cg_tolerance. If performance is affected, consider raising the maximum number of CG iterations by running code in a linear_operator.settings.max_cg_iterations(value) context.\n",
      "  warnings.warn(\n",
      " 76%|███████▌  | 76/100 [00:47<00:26,  1.10s/it, loss=2.91e+3]c:\\Users\\12lui\\anaconda3\\envs\\NewTrading\\lib\\site-packages\\linear_operator\\utils\\linear_cg.py:338: NumericalWarning: CG terminated in 1000 iterations with average residual norm 209.18270874023438 which is larger than the tolerance of 1 specified by linear_operator.settings.cg_tolerance. If performance is affected, consider raising the maximum number of CG iterations by running code in a linear_operator.settings.max_cg_iterations(value) context.\n",
      "  warnings.warn(\n",
      " 77%|███████▋  | 77/100 [00:48<00:25,  1.11s/it, loss=1.25e+4]c:\\Users\\12lui\\anaconda3\\envs\\NewTrading\\lib\\site-packages\\linear_operator\\utils\\linear_cg.py:338: NumericalWarning: CG terminated in 1000 iterations with average residual norm 74.33175659179688 which is larger than the tolerance of 1 specified by linear_operator.settings.cg_tolerance. If performance is affected, consider raising the maximum number of CG iterations by running code in a linear_operator.settings.max_cg_iterations(value) context.\n",
      "  warnings.warn(\n",
      " 78%|███████▊  | 78/100 [00:50<00:24,  1.12s/it, loss=-6.75e+3]c:\\Users\\12lui\\anaconda3\\envs\\NewTrading\\lib\\site-packages\\linear_operator\\utils\\linear_cg.py:338: NumericalWarning: CG terminated in 1000 iterations with average residual norm 488.7596435546875 which is larger than the tolerance of 1 specified by linear_operator.settings.cg_tolerance. If performance is affected, consider raising the maximum number of CG iterations by running code in a linear_operator.settings.max_cg_iterations(value) context.\n",
      "  warnings.warn(\n",
      " 79%|███████▉  | 79/100 [00:51<00:23,  1.13s/it, loss=6.01e+5] c:\\Users\\12lui\\anaconda3\\envs\\NewTrading\\lib\\site-packages\\linear_operator\\utils\\linear_cg.py:338: NumericalWarning: CG terminated in 1000 iterations with average residual norm 85.67572784423828 which is larger than the tolerance of 1 specified by linear_operator.settings.cg_tolerance. If performance is affected, consider raising the maximum number of CG iterations by running code in a linear_operator.settings.max_cg_iterations(value) context.\n",
      "  warnings.warn(\n",
      " 80%|████████  | 80/100 [00:52<00:22,  1.14s/it, loss=8.15e+3]c:\\Users\\12lui\\anaconda3\\envs\\NewTrading\\lib\\site-packages\\linear_operator\\utils\\linear_cg.py:338: NumericalWarning: CG terminated in 1000 iterations with average residual norm 864.0697021484375 which is larger than the tolerance of 1 specified by linear_operator.settings.cg_tolerance. If performance is affected, consider raising the maximum number of CG iterations by running code in a linear_operator.settings.max_cg_iterations(value) context.\n",
      "  warnings.warn(\n",
      " 81%|████████  | 81/100 [00:53<00:21,  1.14s/it, loss=7.74e+3]c:\\Users\\12lui\\anaconda3\\envs\\NewTrading\\lib\\site-packages\\linear_operator\\utils\\linear_cg.py:338: NumericalWarning: CG terminated in 1000 iterations with average residual norm 1887.87646484375 which is larger than the tolerance of 1 specified by linear_operator.settings.cg_tolerance. If performance is affected, consider raising the maximum number of CG iterations by running code in a linear_operator.settings.max_cg_iterations(value) context.\n",
      "  warnings.warn(\n",
      " 82%|████████▏ | 82/100 [00:54<00:20,  1.14s/it, loss=4.91e+3]c:\\Users\\12lui\\anaconda3\\envs\\NewTrading\\lib\\site-packages\\linear_operator\\utils\\linear_cg.py:338: NumericalWarning: CG terminated in 1000 iterations with average residual norm 560.8142700195312 which is larger than the tolerance of 1 specified by linear_operator.settings.cg_tolerance. If performance is affected, consider raising the maximum number of CG iterations by running code in a linear_operator.settings.max_cg_iterations(value) context.\n",
      "  warnings.warn(\n",
      " 83%|████████▎ | 83/100 [00:55<00:19,  1.15s/it, loss=-1.3e+3]c:\\Users\\12lui\\anaconda3\\envs\\NewTrading\\lib\\site-packages\\linear_operator\\utils\\linear_cg.py:338: NumericalWarning: CG terminated in 1000 iterations with average residual norm 9862.08984375 which is larger than the tolerance of 1 specified by linear_operator.settings.cg_tolerance. If performance is affected, consider raising the maximum number of CG iterations by running code in a linear_operator.settings.max_cg_iterations(value) context.\n",
      "  warnings.warn(\n",
      "100%|██████████| 100/100 [00:57<00:00,  1.73it/s, loss=3.84e+3]\n"
     ]
    },
    {
     "name": "stdout",
     "output_type": "stream",
     "text": [
      "CPU times: total: 5min 39s\n",
      "Wall time: 57.8 s\n",
      "Test RMSE: 80.72808837890625\n",
      "Train RMSE: 50.63939666748047\n",
      "Wall time: 57.83 seconds\n",
      "run: 2\n"
     ]
    },
    {
     "name": "stderr",
     "output_type": "stream",
     "text": [
      "  0%|          | 0/100 [00:00<?, ?it/s]c:\\Users\\12lui\\anaconda3\\envs\\NewTrading\\lib\\site-packages\\linear_operator\\utils\\linear_cg.py:338: NumericalWarning: CG terminated in 1000 iterations with average residual norm 4313.3623046875 which is larger than the tolerance of 1 specified by linear_operator.settings.cg_tolerance. If performance is affected, consider raising the maximum number of CG iterations by running code in a linear_operator.settings.max_cg_iterations(value) context.\n",
      "  warnings.warn(\n",
      "  1%|          | 1/100 [00:01<01:54,  1.16s/it, loss=8.7e+3]c:\\Users\\12lui\\anaconda3\\envs\\NewTrading\\lib\\site-packages\\linear_operator\\utils\\linear_cg.py:338: NumericalWarning: CG terminated in 1000 iterations with average residual norm 122.634765625 which is larger than the tolerance of 1 specified by linear_operator.settings.cg_tolerance. If performance is affected, consider raising the maximum number of CG iterations by running code in a linear_operator.settings.max_cg_iterations(value) context.\n",
      "  warnings.warn(\n",
      "  6%|▌         | 6/100 [00:02<00:25,  3.66it/s, loss=3.73e+3]c:\\Users\\12lui\\anaconda3\\envs\\NewTrading\\lib\\site-packages\\linear_operator\\utils\\linear_cg.py:338: NumericalWarning: CG terminated in 1000 iterations with average residual norm 68.4279556274414 which is larger than the tolerance of 1 specified by linear_operator.settings.cg_tolerance. If performance is affected, consider raising the maximum number of CG iterations by running code in a linear_operator.settings.max_cg_iterations(value) context.\n",
      "  warnings.warn(\n",
      "  6%|▌         | 6/100 [00:03<00:25,  3.66it/s, loss=4.01e+3]c:\\Users\\12lui\\anaconda3\\envs\\NewTrading\\lib\\site-packages\\linear_operator\\utils\\linear_cg.py:338: NumericalWarning: CG terminated in 1000 iterations with average residual norm 4215.6103515625 which is larger than the tolerance of 1 specified by linear_operator.settings.cg_tolerance. If performance is affected, consider raising the maximum number of CG iterations by running code in a linear_operator.settings.max_cg_iterations(value) context.\n",
      "  warnings.warn(\n",
      "  8%|▊         | 8/100 [00:04<00:58,  1.57it/s, loss=-1.71e+5]c:\\Users\\12lui\\anaconda3\\envs\\NewTrading\\lib\\site-packages\\linear_operator\\utils\\linear_cg.py:338: NumericalWarning: CG terminated in 1000 iterations with average residual norm 81.10279083251953 which is larger than the tolerance of 1 specified by linear_operator.settings.cg_tolerance. If performance is affected, consider raising the maximum number of CG iterations by running code in a linear_operator.settings.max_cg_iterations(value) context.\n",
      "  warnings.warn(\n",
      "  9%|▉         | 9/100 [00:06<01:08,  1.33it/s, loss=3.79e+3] c:\\Users\\12lui\\anaconda3\\envs\\NewTrading\\lib\\site-packages\\linear_operator\\utils\\linear_cg.py:338: NumericalWarning: CG terminated in 1000 iterations with average residual norm 291.1627197265625 which is larger than the tolerance of 1 specified by linear_operator.settings.cg_tolerance. If performance is affected, consider raising the maximum number of CG iterations by running code in a linear_operator.settings.max_cg_iterations(value) context.\n",
      "  warnings.warn(\n",
      " 13%|█▎        | 13/100 [00:07<00:40,  2.12it/s, loss=3.67e+3]c:\\Users\\12lui\\anaconda3\\envs\\NewTrading\\lib\\site-packages\\linear_operator\\utils\\linear_cg.py:338: NumericalWarning: CG terminated in 1000 iterations with average residual norm 13546.0166015625 which is larger than the tolerance of 1 specified by linear_operator.settings.cg_tolerance. If performance is affected, consider raising the maximum number of CG iterations by running code in a linear_operator.settings.max_cg_iterations(value) context.\n",
      "  warnings.warn(\n",
      " 14%|█▍        | 14/100 [00:08<00:53,  1.62it/s, loss=1.52e+4]c:\\Users\\12lui\\anaconda3\\envs\\NewTrading\\lib\\site-packages\\linear_operator\\utils\\linear_cg.py:338: NumericalWarning: CG terminated in 1000 iterations with average residual norm 165.41976928710938 which is larger than the tolerance of 1 specified by linear_operator.settings.cg_tolerance. If performance is affected, consider raising the maximum number of CG iterations by running code in a linear_operator.settings.max_cg_iterations(value) context.\n",
      "  warnings.warn(\n",
      " 17%|█▋        | 17/100 [00:09<00:40,  2.06it/s, loss=3.76e+3]c:\\Users\\12lui\\anaconda3\\envs\\NewTrading\\lib\\site-packages\\linear_operator\\utils\\linear_cg.py:338: NumericalWarning: CG terminated in 1000 iterations with average residual norm 585.6702270507812 which is larger than the tolerance of 1 specified by linear_operator.settings.cg_tolerance. If performance is affected, consider raising the maximum number of CG iterations by running code in a linear_operator.settings.max_cg_iterations(value) context.\n",
      "  warnings.warn(\n",
      " 18%|█▊        | 18/100 [00:11<00:51,  1.59it/s, loss=6.55e+3]c:\\Users\\12lui\\anaconda3\\envs\\NewTrading\\lib\\site-packages\\linear_operator\\utils\\linear_cg.py:338: NumericalWarning: CG terminated in 1000 iterations with average residual norm 672.2994384765625 which is larger than the tolerance of 1 specified by linear_operator.settings.cg_tolerance. If performance is affected, consider raising the maximum number of CG iterations by running code in a linear_operator.settings.max_cg_iterations(value) context.\n",
      "  warnings.warn(\n",
      " 21%|██        | 21/100 [00:12<00:37,  2.11it/s, loss=3.73e+3]c:\\Users\\12lui\\anaconda3\\envs\\NewTrading\\lib\\site-packages\\linear_operator\\utils\\linear_cg.py:338: NumericalWarning: CG terminated in 1000 iterations with average residual norm 105.13838195800781 which is larger than the tolerance of 1 specified by linear_operator.settings.cg_tolerance. If performance is affected, consider raising the maximum number of CG iterations by running code in a linear_operator.settings.max_cg_iterations(value) context.\n",
      "  warnings.warn(\n",
      " 22%|██▏       | 22/100 [00:13<00:48,  1.62it/s, loss=9.12e+3]c:\\Users\\12lui\\anaconda3\\envs\\NewTrading\\lib\\site-packages\\linear_operator\\utils\\linear_cg.py:338: NumericalWarning: CG terminated in 1000 iterations with average residual norm 2319222.25 which is larger than the tolerance of 1 specified by linear_operator.settings.cg_tolerance. If performance is affected, consider raising the maximum number of CG iterations by running code in a linear_operator.settings.max_cg_iterations(value) context.\n",
      "  warnings.warn(\n",
      " 23%|██▎       | 23/100 [00:14<00:57,  1.34it/s, loss=3.8e+3] c:\\Users\\12lui\\anaconda3\\envs\\NewTrading\\lib\\site-packages\\linear_operator\\utils\\linear_cg.py:338: NumericalWarning: CG terminated in 1000 iterations with average residual norm 367.40960693359375 which is larger than the tolerance of 1 specified by linear_operator.settings.cg_tolerance. If performance is affected, consider raising the maximum number of CG iterations by running code in a linear_operator.settings.max_cg_iterations(value) context.\n",
      "  warnings.warn(\n",
      " 25%|██▌       | 25/100 [00:15<00:51,  1.46it/s, loss=5.66e+3]c:\\Users\\12lui\\anaconda3\\envs\\NewTrading\\lib\\site-packages\\linear_operator\\utils\\linear_cg.py:338: NumericalWarning: CG terminated in 1000 iterations with average residual norm 308.3817138671875 which is larger than the tolerance of 1 specified by linear_operator.settings.cg_tolerance. If performance is affected, consider raising the maximum number of CG iterations by running code in a linear_operator.settings.max_cg_iterations(value) context.\n",
      "  warnings.warn(\n",
      " 26%|██▌       | 26/100 [00:17<00:58,  1.26it/s, loss=-7.87e+4]c:\\Users\\12lui\\anaconda3\\envs\\NewTrading\\lib\\site-packages\\linear_operator\\utils\\linear_cg.py:338: NumericalWarning: CG terminated in 1000 iterations with average residual norm 132.90516662597656 which is larger than the tolerance of 1 specified by linear_operator.settings.cg_tolerance. If performance is affected, consider raising the maximum number of CG iterations by running code in a linear_operator.settings.max_cg_iterations(value) context.\n",
      "  warnings.warn(\n",
      " 27%|██▋       | 27/100 [00:18<01:04,  1.14it/s, loss=4.03e+3] c:\\Users\\12lui\\anaconda3\\envs\\NewTrading\\lib\\site-packages\\linear_operator\\utils\\linear_cg.py:338: NumericalWarning: CG terminated in 1000 iterations with average residual norm 34.39479064941406 which is larger than the tolerance of 1 specified by linear_operator.settings.cg_tolerance. If performance is affected, consider raising the maximum number of CG iterations by running code in a linear_operator.settings.max_cg_iterations(value) context.\n",
      "  warnings.warn(\n",
      " 28%|██▊       | 28/100 [00:19<01:08,  1.05it/s, loss=5.22e+3]c:\\Users\\12lui\\anaconda3\\envs\\NewTrading\\lib\\site-packages\\linear_operator\\utils\\linear_cg.py:338: NumericalWarning: CG terminated in 1000 iterations with average residual norm 111.59219360351562 which is larger than the tolerance of 1 specified by linear_operator.settings.cg_tolerance. If performance is affected, consider raising the maximum number of CG iterations by running code in a linear_operator.settings.max_cg_iterations(value) context.\n",
      "  warnings.warn(\n",
      " 29%|██▉       | 29/100 [00:20<01:12,  1.02s/it, loss=3.75e+3]c:\\Users\\12lui\\anaconda3\\envs\\NewTrading\\lib\\site-packages\\linear_operator\\utils\\linear_cg.py:338: NumericalWarning: CG terminated in 1000 iterations with average residual norm 161.6906280517578 which is larger than the tolerance of 1 specified by linear_operator.settings.cg_tolerance. If performance is affected, consider raising the maximum number of CG iterations by running code in a linear_operator.settings.max_cg_iterations(value) context.\n",
      "  warnings.warn(\n",
      " 31%|███       | 31/100 [00:21<00:58,  1.19it/s, loss=3.68e+3]c:\\Users\\12lui\\anaconda3\\envs\\NewTrading\\lib\\site-packages\\linear_operator\\utils\\linear_cg.py:338: NumericalWarning: CG terminated in 1000 iterations with average residual norm 67.25016784667969 which is larger than the tolerance of 1 specified by linear_operator.settings.cg_tolerance. If performance is affected, consider raising the maximum number of CG iterations by running code in a linear_operator.settings.max_cg_iterations(value) context.\n",
      "  warnings.warn(\n",
      " 34%|███▍      | 34/100 [00:23<00:37,  1.75it/s, loss=3.97e+3]c:\\Users\\12lui\\anaconda3\\envs\\NewTrading\\lib\\site-packages\\linear_operator\\utils\\linear_cg.py:338: NumericalWarning: CG terminated in 1000 iterations with average residual norm 222.0464324951172 which is larger than the tolerance of 1 specified by linear_operator.settings.cg_tolerance. If performance is affected, consider raising the maximum number of CG iterations by running code in a linear_operator.settings.max_cg_iterations(value) context.\n",
      "  warnings.warn(\n",
      " 38%|███▊      | 38/100 [00:24<00:24,  2.51it/s, loss=3.77e+3]c:\\Users\\12lui\\anaconda3\\envs\\NewTrading\\lib\\site-packages\\linear_operator\\utils\\linear_cg.py:338: NumericalWarning: CG terminated in 1000 iterations with average residual norm 391.7778625488281 which is larger than the tolerance of 1 specified by linear_operator.settings.cg_tolerance. If performance is affected, consider raising the maximum number of CG iterations by running code in a linear_operator.settings.max_cg_iterations(value) context.\n",
      "  warnings.warn(\n",
      " 41%|████      | 41/100 [00:25<00:23,  2.49it/s, loss=1.21e+5]c:\\Users\\12lui\\anaconda3\\envs\\NewTrading\\lib\\site-packages\\linear_operator\\utils\\linear_cg.py:338: NumericalWarning: CG terminated in 1000 iterations with average residual norm 59.49698257446289 which is larger than the tolerance of 1 specified by linear_operator.settings.cg_tolerance. If performance is affected, consider raising the maximum number of CG iterations by running code in a linear_operator.settings.max_cg_iterations(value) context.\n",
      "  warnings.warn(\n",
      " 42%|████▏     | 42/100 [00:26<00:30,  1.91it/s, loss=1.2e+4] c:\\Users\\12lui\\anaconda3\\envs\\NewTrading\\lib\\site-packages\\linear_operator\\utils\\linear_cg.py:338: NumericalWarning: CG terminated in 1000 iterations with average residual norm 241.17994689941406 which is larger than the tolerance of 1 specified by linear_operator.settings.cg_tolerance. If performance is affected, consider raising the maximum number of CG iterations by running code in a linear_operator.settings.max_cg_iterations(value) context.\n",
      "  warnings.warn(\n",
      " 59%|█████▉    | 59/100 [00:28<00:03, 11.23it/s, loss=3.83e+3]c:\\Users\\12lui\\anaconda3\\envs\\NewTrading\\lib\\site-packages\\linear_operator\\utils\\linear_cg.py:338: NumericalWarning: CG terminated in 1000 iterations with average residual norm 153.60934448242188 which is larger than the tolerance of 1 specified by linear_operator.settings.cg_tolerance. If performance is affected, consider raising the maximum number of CG iterations by running code in a linear_operator.settings.max_cg_iterations(value) context.\n",
      "  warnings.warn(\n",
      " 61%|██████    | 61/100 [00:29<00:09,  4.29it/s, loss=4.62e+4]c:\\Users\\12lui\\anaconda3\\envs\\NewTrading\\lib\\site-packages\\linear_operator\\utils\\linear_cg.py:338: NumericalWarning: CG terminated in 1000 iterations with average residual norm 122.39777374267578 which is larger than the tolerance of 1 specified by linear_operator.settings.cg_tolerance. If performance is affected, consider raising the maximum number of CG iterations by running code in a linear_operator.settings.max_cg_iterations(value) context.\n",
      "  warnings.warn(\n",
      " 61%|██████    | 61/100 [00:30<00:09,  4.29it/s, loss=2.48e+4]c:\\Users\\12lui\\anaconda3\\envs\\NewTrading\\lib\\site-packages\\linear_operator\\utils\\linear_cg.py:338: NumericalWarning: CG terminated in 1000 iterations with average residual norm 348.1633605957031 which is larger than the tolerance of 1 specified by linear_operator.settings.cg_tolerance. If performance is affected, consider raising the maximum number of CG iterations by running code in a linear_operator.settings.max_cg_iterations(value) context.\n",
      "  warnings.warn(\n",
      " 63%|██████▎   | 63/100 [00:32<00:18,  2.04it/s, loss=4.75e+5]c:\\Users\\12lui\\anaconda3\\envs\\NewTrading\\lib\\site-packages\\linear_operator\\utils\\linear_cg.py:338: NumericalWarning: CG terminated in 1000 iterations with average residual norm 188.31658935546875 which is larger than the tolerance of 1 specified by linear_operator.settings.cg_tolerance. If performance is affected, consider raising the maximum number of CG iterations by running code in a linear_operator.settings.max_cg_iterations(value) context.\n",
      "  warnings.warn(\n",
      " 64%|██████▍   | 64/100 [00:33<00:21,  1.67it/s, loss=1.91e+4]c:\\Users\\12lui\\anaconda3\\envs\\NewTrading\\lib\\site-packages\\linear_operator\\utils\\linear_cg.py:338: NumericalWarning: CG terminated in 1000 iterations with average residual norm 2054.537353515625 which is larger than the tolerance of 1 specified by linear_operator.settings.cg_tolerance. If performance is affected, consider raising the maximum number of CG iterations by running code in a linear_operator.settings.max_cg_iterations(value) context.\n",
      "  warnings.warn(\n",
      " 65%|██████▌   | 65/100 [00:34<00:24,  1.42it/s, loss=3.84e+4]c:\\Users\\12lui\\anaconda3\\envs\\NewTrading\\lib\\site-packages\\linear_operator\\utils\\linear_cg.py:338: NumericalWarning: CG terminated in 1000 iterations with average residual norm 122.41944122314453 which is larger than the tolerance of 1 specified by linear_operator.settings.cg_tolerance. If performance is affected, consider raising the maximum number of CG iterations by running code in a linear_operator.settings.max_cg_iterations(value) context.\n",
      "  warnings.warn(\n",
      "100%|██████████| 100/100 [00:37<00:00,  2.69it/s, loss=3.84e+3]\n"
     ]
    },
    {
     "name": "stdout",
     "output_type": "stream",
     "text": [
      "CPU times: total: 3min 38s\n",
      "Wall time: 37.2 s\n"
     ]
    },
    {
     "name": "stderr",
     "output_type": "stream",
     "text": [
      "c:\\Users\\12lui\\anaconda3\\envs\\NewTrading\\lib\\site-packages\\linear_operator\\utils\\linear_cg.py:338: NumericalWarning: CG terminated in 1000 iterations with average residual norm 0.8389706611633301 which is larger than the tolerance of 0.01 specified by linear_operator.settings.cg_tolerance. If performance is affected, consider raising the maximum number of CG iterations by running code in a linear_operator.settings.max_cg_iterations(value) context.\n",
      "  warnings.warn(\n"
     ]
    },
    {
     "name": "stdout",
     "output_type": "stream",
     "text": [
      "Test RMSE: 81.66252136230469\n",
      "Train RMSE: 71.18772888183594\n",
      "Wall time: 37.18 seconds\n",
      "mean train performance= 59.319916\n",
      "mean test performance= 82.8529\n",
      "mean wall time= 41.86773570378622\n",
      "std train= 10.638497\n",
      "std test= 2.908807\n",
      "Experiment 294\n",
      "run: 0\n"
     ]
    },
    {
     "name": "stderr",
     "output_type": "stream",
     "text": [
      "100%|██████████| 100/100 [03:08<00:00,  1.88s/it, loss=1.92e+4]\n"
     ]
    },
    {
     "name": "stdout",
     "output_type": "stream",
     "text": [
      "CPU times: total: 18min 38s\n",
      "Wall time: 3min 8s\n"
     ]
    },
    {
     "name": "stderr",
     "output_type": "stream",
     "text": [
      "c:\\Users\\12lui\\anaconda3\\envs\\NewTrading\\lib\\site-packages\\gpytorch\\models\\exact_gp.py:284: GPInputWarning: The input matches the stored training data. Did you forget to call model.train()?\n",
      "  warnings.warn(\n"
     ]
    },
    {
     "name": "stdout",
     "output_type": "stream",
     "text": [
      "Test RMSE: 197.33433532714844\n",
      "Train RMSE: 107.3902587890625\n",
      "Wall time: 188.44 seconds\n",
      "run: 1\n"
     ]
    },
    {
     "name": "stderr",
     "output_type": "stream",
     "text": [
      "100%|██████████| 100/100 [03:03<00:00,  1.84s/it, loss=1.92e+4]\n"
     ]
    },
    {
     "name": "stdout",
     "output_type": "stream",
     "text": [
      "CPU times: total: 18min 3s\n",
      "Wall time: 3min 3s\n",
      "Test RMSE: 197.33421325683594\n",
      "Train RMSE: 107.39027404785156\n",
      "Wall time: 183.66 seconds\n",
      "run: 2\n"
     ]
    },
    {
     "name": "stderr",
     "output_type": "stream",
     "text": [
      "100%|██████████| 100/100 [03:08<00:00,  1.88s/it, loss=1.92e+4]\n"
     ]
    },
    {
     "name": "stdout",
     "output_type": "stream",
     "text": [
      "CPU times: total: 18min 41s\n",
      "Wall time: 3min 8s\n",
      "Test RMSE: 197.33445739746094\n",
      "Train RMSE: 107.39029693603516\n",
      "Wall time: 188.07 seconds\n",
      "mean train performance= 107.39028\n",
      "mean test performance= 197.33434\n",
      "mean wall time= 186.72332207361856\n",
      "std train= 2.018548e-05\n",
      "std test= 0.00012207031\n"
     ]
    }
   ],
   "source": [
    "def downloader(uci_id):\n",
    "    # fetch dataset \n",
    "    uci_download = fetch_ucirepo(id=uci_id)\n",
    "    \n",
    "    # data (as pandas dataframes) \n",
    "    X_data = uci_download.data.features\n",
    "    # Drop category and date variables\n",
    "    if uci_id == 1:\n",
    "        X_data = X_data.drop([\"Sex\"], axis=1)\n",
    "    if uci_id == 275:\n",
    "        X_data = X_data.drop([\"dteday\"], axis=1)\n",
    "    if uci_id == 374:\n",
    "        X_data = X_data.drop([\"date\"], axis=1)\n",
    "    if uci_id == 183:\n",
    "        X_data = X_data.drop([\"communityname\"], axis=1)\n",
    "        object_columns = X_data.select_dtypes(include=['object']).columns\n",
    "        X_data = X_data.drop(columns=object_columns)\n",
    "\n",
    "    y_data = uci_download.data.targets\n",
    "    # select target for datasets with 2 targets\n",
    "    if uci_id == 189:\n",
    "        y_data = y_data[\"motor_UPDRS\"]\n",
    "    if uci_id == 713:\n",
    "        y_data = y_data[\"verification.time\"]\n",
    "\n",
    "    y = y_data.squeeze()\n",
    "\n",
    "    X = torch.tensor(X_data.values, dtype=torch.float32)\n",
    "    y = torch.tensor(y.values, dtype=torch.float32)\n",
    "\n",
    "    train_n = int(floor(0.8 * len(X)))\n",
    "    train_x = X[:train_n, :].contiguous()\n",
    "    train_y = y[:train_n].contiguous()\n",
    "\n",
    "    test_x = X[train_n:, :].contiguous()\n",
    "    test_y = y[train_n:].contiguous()\n",
    "\n",
    "    # Create TensorDataset and DataLoader for training and test sets\n",
    "    train_dataset = TensorDataset(train_x, train_y)\n",
    "    test_dataset = TensorDataset(test_x, test_y)\n",
    "\n",
    "    train_loader = DataLoader(train_dataset, batch_size=256, shuffle=True)\n",
    "    test_loader = DataLoader(test_dataset, batch_size=256, shuffle=False)\n",
    "\n",
    "    return train_x, train_y, test_x, test_y, train_loader, test_loader\n",
    "\n",
    "def whole_process(train_x, train_y, test_x, test_y, train_loader, test_loader):\n",
    "\n",
    "    data_dim = train_x.size(-1)\n",
    "\n",
    "    class GPRegressionModel(gpytorch.models.ExactGP):\n",
    "            def __init__(self, train_x, train_y, likelihood):\n",
    "                super(GPRegressionModel, self).__init__(train_x, train_y, likelihood)\n",
    "                self.mean_module = gpytorch.means.ConstantMean()\n",
    "                self.covar_module = gpytorch.kernels.ScaleKernel(gpytorch.kernels.RBFKernel(ard_num_dims=data_dim))\n",
    "\n",
    "            def forward(self, x):\n",
    "                mean_x = self.mean_module(x)\n",
    "                covar_x = self.covar_module(x)\n",
    "                return gpytorch.distributions.MultivariateNormal(mean_x, covar_x)\n",
    "            \n",
    "    likelihood = gpytorch.likelihoods.GaussianLikelihood()\n",
    "    model = GPRegressionModel(train_x, train_y, likelihood)\n",
    "    training_iterations = 100\n",
    "\n",
    "    # Find optimal model hyperparameters\n",
    "    model.train()\n",
    "    likelihood.train()\n",
    "\n",
    "    # Use the adam optimizer\n",
    "    optimizer = torch.optim.Adam([\n",
    "        {'params': model.covar_module.parameters()},\n",
    "        {'params': model.mean_module.parameters()},\n",
    "        {'params': model.likelihood.parameters()},\n",
    "    ], lr=0.01)\n",
    "\n",
    "    # \"Loss\" for GPs - the marginal log likelihood\n",
    "    mll = gpytorch.mlls.ExactMarginalLogLikelihood(likelihood, model)\n",
    "\n",
    "    def train():\n",
    "        iterator = tqdm(range(training_iterations))\n",
    "        for i in iterator:\n",
    "            # Zero backprop gradients\n",
    "            optimizer.zero_grad()\n",
    "            # Get output from model\n",
    "            output = model(train_x)\n",
    "            # Calc loss and backprop derivatives\n",
    "            loss = -mll(output, train_y)\n",
    "            loss.backward()\n",
    "            iterator.set_postfix(loss=loss.item())\n",
    "            optimizer.step()\n",
    "\n",
    "    start_time = time.time()\n",
    "    %time train()\n",
    "    end_time = time.time()\n",
    "    wall_time = end_time - start_time\n",
    "\n",
    "    model.eval()\n",
    "    likelihood.eval()\n",
    "    with torch.no_grad(), gpytorch.settings.use_toeplitz(False), gpytorch.settings.fast_pred_var():\n",
    "        preds = model(test_x)\n",
    "\n",
    "    test_rmse = torch.sqrt(torch.mean((preds.mean - test_y) ** 2))\n",
    "    with torch.no_grad(), gpytorch.settings.use_toeplitz(False), gpytorch.settings.fast_pred_var():\n",
    "        preds = model(train_x)\n",
    "\n",
    "    train_rmse = torch.sqrt(torch.mean((preds.mean - train_y) ** 2))\n",
    "\n",
    "    print('Test RMSE: {}'.format(test_rmse))\n",
    "    print('Train RMSE: {}'.format(train_rmse))\n",
    "    print('Wall time: {:.2f} seconds'.format(wall_time))\n",
    "\n",
    "    return test_rmse, train_rmse, wall_time\n",
    "\n",
    "experiment_datasets = [1, 275, 477, 189, 713, 186, 374, 183, 291, 294]\n",
    "\n",
    "for experiment in experiment_datasets:\n",
    "    print(\"Experiment \" + str(experiment))\n",
    "\n",
    "    trains = []\n",
    "    tests = []\n",
    "    times = []\n",
    "    train_x, train_y, test_x, test_y, train_loader, test_loader = downloader(experiment)\n",
    "    for run in range(3):\n",
    "        # set seeds\n",
    "        torch.manual_seed(run)\n",
    "        print(\"run: \" + str(run))\n",
    "\n",
    "        test_rmse, train_rmse, wall_time = whole_process(train_x, train_y, test_x, test_y, train_loader, test_loader)\n",
    "        trains.append(train_rmse)\n",
    "        tests.append(test_rmse)\n",
    "        times.append(wall_time)\n",
    "    \n",
    "    print(\"mean train performance= \"+ str(np.mean(trains)))\n",
    "    print(\"mean test performance= \"+ str(np.mean(tests)))\n",
    "    print(\"mean wall time= \"+ str(np.mean(times)))\n",
    "\n",
    "    print(\"std train= \"+ str(np.std(trains, ddof=1)))\n",
    "    print(\"std test= \"+ str(np.std(tests, ddof=1)))"
   ]
  }
 ],
 "metadata": {
  "kernelspec": {
   "display_name": "NewTrading",
   "language": "python",
   "name": "python3"
  },
  "language_info": {
   "codemirror_mode": {
    "name": "ipython",
    "version": 3
   },
   "file_extension": ".py",
   "mimetype": "text/x-python",
   "name": "python",
   "nbconvert_exporter": "python",
   "pygments_lexer": "ipython3",
   "version": "3.9.17"
  }
 },
 "nbformat": 4,
 "nbformat_minor": 2
}

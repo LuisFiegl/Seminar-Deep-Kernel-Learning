{
 "cells": [
  {
   "cell_type": "code",
   "execution_count": 1,
   "metadata": {},
   "outputs": [],
   "source": [
    "import math\n",
    "import time\n",
    "import numpy as np\n",
    "from tqdm import tqdm\n",
    "import torch\n",
    "import gpytorch\n",
    "from matplotlib import pyplot as plt\n",
    "from ucimlrepo import fetch_ucirepo \n",
    "from math import floor\n",
    "from torch.utils.data import TensorDataset, DataLoader\n",
    "\n",
    "\n",
    "# Make plots inline\n",
    "%matplotlib inline"
   ]
  },
  {
   "cell_type": "code",
   "execution_count": 2,
   "metadata": {},
   "outputs": [
    {
     "name": "stdout",
     "output_type": "stream",
     "text": [
      "Experiment 1\n",
      "run: 0\n"
     ]
    },
    {
     "name": "stderr",
     "output_type": "stream",
     "text": [
      "  0%|          | 0/100 [00:00<?, ?it/s]c:\\Users\\12lui\\anaconda3\\envs\\NewTrading\\lib\\site-packages\\torch\\nn\\modules\\loss.py:536: UserWarning: Using a target size (torch.Size([3341])) that is different to the input size (torch.Size([3341, 1])). This will likely lead to incorrect results due to broadcasting. Please ensure they have the same size.\n",
      "  return F.mse_loss(input, target, reduction=self.reduction)\n",
      "100%|██████████| 100/100 [00:12<00:00,  7.97it/s, loss=11.1]\n"
     ]
    },
    {
     "name": "stdout",
     "output_type": "stream",
     "text": [
      "CPU times: total: 1min 14s\n",
      "Wall time: 12.6 s\n",
      "Test RMSE: 2.7361459732055664\n",
      "Train RMSE: 3.337834596633911\n",
      "Wall time: 12.55 seconds\n",
      "whh\n",
      "run: 1\n"
     ]
    },
    {
     "name": "stderr",
     "output_type": "stream",
     "text": [
      "100%|██████████| 100/100 [00:12<00:00,  7.86it/s, loss=11.1]\n"
     ]
    },
    {
     "name": "stdout",
     "output_type": "stream",
     "text": [
      "CPU times: total: 1min 16s\n",
      "Wall time: 12.7 s\n",
      "Test RMSE: 2.7416114807128906\n",
      "Train RMSE: 3.3371355533599854\n",
      "Wall time: 12.72 seconds\n",
      "whh\n",
      "run: 2\n"
     ]
    },
    {
     "name": "stderr",
     "output_type": "stream",
     "text": [
      "100%|██████████| 100/100 [00:12<00:00,  7.89it/s, loss=11.1]\n"
     ]
    },
    {
     "name": "stdout",
     "output_type": "stream",
     "text": [
      "CPU times: total: 1min 15s\n",
      "Wall time: 12.7 s\n",
      "Test RMSE: 2.753124475479126\n",
      "Train RMSE: 3.337411403656006\n",
      "Wall time: 12.68 seconds\n",
      "whh\n",
      "mean train performance= 3.337460517883301\n",
      "mean test performance= 2.7436273097991943\n",
      "mean wall time= 12.649929920832315\n",
      "std train= 0.0003521001706862717\n",
      "std test= 0.008666894486620218\n",
      "Experiment 275\n",
      "run: 0\n"
     ]
    },
    {
     "name": "stderr",
     "output_type": "stream",
     "text": [
      "  0%|          | 0/100 [00:00<?, ?it/s]c:\\Users\\12lui\\anaconda3\\envs\\NewTrading\\lib\\site-packages\\torch\\nn\\modules\\loss.py:536: UserWarning: Using a target size (torch.Size([13903])) that is different to the input size (torch.Size([13903, 1])). This will likely lead to incorrect results due to broadcasting. Please ensure they have the same size.\n",
      "  return F.mse_loss(input, target, reduction=self.reduction)\n",
      "100%|██████████| 100/100 [01:16<00:00,  1.31it/s, loss=2.8e+4]\n"
     ]
    },
    {
     "name": "stdout",
     "output_type": "stream",
     "text": [
      "CPU times: total: 7min 37s\n",
      "Wall time: 1min 16s\n",
      "Test RMSE: 232.35597229003906\n",
      "Train RMSE: 167.2775115966797\n",
      "Wall time: 76.61 seconds\n",
      "whh\n",
      "run: 1\n"
     ]
    },
    {
     "name": "stderr",
     "output_type": "stream",
     "text": [
      "100%|██████████| 100/100 [01:20<00:00,  1.25it/s, loss=2.8e+4]\n"
     ]
    },
    {
     "name": "stdout",
     "output_type": "stream",
     "text": [
      "CPU times: total: 7min 59s\n",
      "Wall time: 1min 20s\n",
      "Test RMSE: 231.08602905273438\n",
      "Train RMSE: 167.3853759765625\n",
      "Wall time: 80.09 seconds\n",
      "whh\n",
      "run: 2\n"
     ]
    },
    {
     "name": "stderr",
     "output_type": "stream",
     "text": [
      "100%|██████████| 100/100 [01:21<00:00,  1.23it/s, loss=2.79e+4]\n"
     ]
    },
    {
     "name": "stdout",
     "output_type": "stream",
     "text": [
      "CPU times: total: 8min 7s\n",
      "Wall time: 1min 21s\n",
      "Test RMSE: 232.56593322753906\n",
      "Train RMSE: 167.1107940673828\n",
      "Wall time: 81.36 seconds\n",
      "whh\n",
      "mean train performance= 167.25789388020834\n",
      "mean test performance= 232.00264485677084\n",
      "mean wall time= 79.35453685124715\n",
      "std train= 0.13833816289026454\n",
      "std test= 0.8007242334137402\n",
      "Experiment 477\n",
      "run: 0\n"
     ]
    },
    {
     "name": "stderr",
     "output_type": "stream",
     "text": [
      "  0%|          | 0/100 [00:00<?, ?it/s]c:\\Users\\12lui\\anaconda3\\envs\\NewTrading\\lib\\site-packages\\torch\\nn\\modules\\loss.py:536: UserWarning: Using a target size (torch.Size([331])) that is different to the input size (torch.Size([331, 1])). This will likely lead to incorrect results due to broadcasting. Please ensure they have the same size.\n",
      "  return F.mse_loss(input, target, reduction=self.reduction)\n",
      "100%|██████████| 100/100 [00:01<00:00, 64.00it/s, loss=193]   \n"
     ]
    },
    {
     "name": "stdout",
     "output_type": "stream",
     "text": [
      "CPU times: total: 9.34 s\n",
      "Wall time: 1.56 s\n",
      "Test RMSE: 12.339187622070312\n",
      "Train RMSE: 13.887871742248535\n",
      "Wall time: 1.56 seconds\n",
      "whh\n",
      "run: 1\n"
     ]
    },
    {
     "name": "stderr",
     "output_type": "stream",
     "text": [
      "100%|██████████| 100/100 [00:01<00:00, 63.16it/s, loss=193]   \n"
     ]
    },
    {
     "name": "stdout",
     "output_type": "stream",
     "text": [
      "CPU times: total: 9.45 s\n",
      "Wall time: 1.59 s\n",
      "Test RMSE: 12.375568389892578\n",
      "Train RMSE: 13.904309272766113\n",
      "Wall time: 1.59 seconds\n",
      "whh\n",
      "run: 2\n"
     ]
    },
    {
     "name": "stderr",
     "output_type": "stream",
     "text": [
      "100%|██████████| 100/100 [00:01<00:00, 63.55it/s, loss=193]   \n"
     ]
    },
    {
     "name": "stdout",
     "output_type": "stream",
     "text": [
      "CPU times: total: 9.38 s\n",
      "Wall time: 1.57 s\n",
      "Test RMSE: 12.341885566711426\n",
      "Train RMSE: 13.890791893005371\n",
      "Wall time: 1.57 seconds\n",
      "whh\n",
      "mean train performance= 13.89432430267334\n",
      "mean test performance= 12.352213859558105\n",
      "mean wall time= 1.5755343437194824\n",
      "std train= 0.008769637445518907\n",
      "std test= 0.02027055232793326\n",
      "Experiment 189\n",
      "run: 0\n"
     ]
    },
    {
     "name": "stderr",
     "output_type": "stream",
     "text": [
      "  0%|          | 0/100 [00:00<?, ?it/s]c:\\Users\\12lui\\anaconda3\\envs\\NewTrading\\lib\\site-packages\\torch\\nn\\modules\\loss.py:536: UserWarning: Using a target size (torch.Size([4700])) that is different to the input size (torch.Size([4700, 1])). This will likely lead to incorrect results due to broadcasting. Please ensure they have the same size.\n",
      "  return F.mse_loss(input, target, reduction=self.reduction)\n",
      "100%|██████████| 100/100 [00:18<00:00,  5.42it/s, loss=63.1] \n"
     ]
    },
    {
     "name": "stdout",
     "output_type": "stream",
     "text": [
      "CPU times: total: 1min 49s\n",
      "Wall time: 18.5 s\n",
      "Test RMSE: 10.62756061553955\n",
      "Train RMSE: 7.940044403076172\n",
      "Wall time: 18.46 seconds\n",
      "whh\n",
      "run: 1\n"
     ]
    },
    {
     "name": "stderr",
     "output_type": "stream",
     "text": [
      "100%|██████████| 100/100 [00:18<00:00,  5.45it/s, loss=63.4] \n"
     ]
    },
    {
     "name": "stdout",
     "output_type": "stream",
     "text": [
      "CPU times: total: 1min 48s\n",
      "Wall time: 18.4 s\n",
      "Test RMSE: 10.825313568115234\n",
      "Train RMSE: 7.9590606689453125\n",
      "Wall time: 18.35 seconds\n",
      "whh\n",
      "run: 2\n"
     ]
    },
    {
     "name": "stderr",
     "output_type": "stream",
     "text": [
      "100%|██████████| 100/100 [00:18<00:00,  5.45it/s, loss=63.7] \n"
     ]
    },
    {
     "name": "stdout",
     "output_type": "stream",
     "text": [
      "CPU times: total: 1min 49s\n",
      "Wall time: 18.3 s\n",
      "Test RMSE: 10.462039947509766\n",
      "Train RMSE: 7.98267936706543\n",
      "Wall time: 18.34 seconds\n",
      "whh\n",
      "mean train performance= 7.960594813028972\n",
      "mean test performance= 10.638304710388184\n",
      "mean wall time= 18.38721529642741\n",
      "std train= 0.021358844471164557\n",
      "std test= 0.18187497776642841\n",
      "Experiment 713\n",
      "run: 0\n"
     ]
    },
    {
     "name": "stderr",
     "output_type": "stream",
     "text": [
      "  0%|          | 0/100 [00:00<?, ?it/s]c:\\Users\\12lui\\anaconda3\\envs\\NewTrading\\lib\\site-packages\\torch\\nn\\modules\\loss.py:536: UserWarning: Using a target size (torch.Size([1634])) that is different to the input size (torch.Size([1634, 1])). This will likely lead to incorrect results due to broadcasting. Please ensure they have the same size.\n",
      "  return F.mse_loss(input, target, reduction=self.reduction)\n",
      "100%|██████████| 100/100 [00:05<00:00, 17.03it/s, loss=9.8e+7]\n"
     ]
    },
    {
     "name": "stdout",
     "output_type": "stream",
     "text": [
      "CPU times: total: 34.8 s\n",
      "Wall time: 5.87 s\n",
      "Test RMSE: 12282.1103515625\n",
      "Train RMSE: 9901.037109375\n",
      "Wall time: 5.87 seconds\n",
      "whh\n",
      "run: 1\n"
     ]
    },
    {
     "name": "stderr",
     "output_type": "stream",
     "text": [
      "100%|██████████| 100/100 [00:05<00:00, 17.03it/s, loss=9.8e+7]\n"
     ]
    },
    {
     "name": "stdout",
     "output_type": "stream",
     "text": [
      "CPU times: total: 35 s\n",
      "Wall time: 5.87 s\n",
      "Test RMSE: 12281.806640625\n",
      "Train RMSE: 9901.1708984375\n",
      "Wall time: 5.87 seconds\n",
      "whh\n",
      "run: 2\n"
     ]
    },
    {
     "name": "stderr",
     "output_type": "stream",
     "text": [
      "100%|██████████| 100/100 [00:05<00:00, 17.02it/s, loss=9.8e+7]\n"
     ]
    },
    {
     "name": "stdout",
     "output_type": "stream",
     "text": [
      "CPU times: total: 34.8 s\n",
      "Wall time: 5.87 s\n",
      "Test RMSE: 12302.2412109375\n",
      "Train RMSE: 9901.2578125\n",
      "Wall time: 5.87 seconds\n",
      "whh\n",
      "mean train performance= 9901.1552734375\n",
      "mean test performance= 12288.719401041666\n",
      "mean wall time= 5.873722394307454\n",
      "std train= 0.11117811302114013\n",
      "std test= 11.71121544621571\n",
      "Experiment 186\n",
      "run: 0\n"
     ]
    },
    {
     "name": "stderr",
     "output_type": "stream",
     "text": [
      "  0%|          | 0/100 [00:00<?, ?it/s]c:\\Users\\12lui\\anaconda3\\envs\\NewTrading\\lib\\site-packages\\torch\\nn\\modules\\loss.py:536: UserWarning: Using a target size (torch.Size([5197])) that is different to the input size (torch.Size([5197, 1])). This will likely lead to incorrect results due to broadcasting. Please ensure they have the same size.\n",
      "  return F.mse_loss(input, target, reduction=self.reduction)\n",
      "100%|██████████| 100/100 [00:20<00:00,  4.80it/s, loss=0.975]\n"
     ]
    },
    {
     "name": "stdout",
     "output_type": "stream",
     "text": [
      "CPU times: total: 2min 4s\n",
      "Wall time: 20.8 s\n",
      "Test RMSE: 0.8997098803520203\n",
      "Train RMSE: 0.9866371154785156\n",
      "Wall time: 20.83 seconds\n",
      "whh\n",
      "run: 1\n"
     ]
    },
    {
     "name": "stderr",
     "output_type": "stream",
     "text": [
      "100%|██████████| 100/100 [00:21<00:00,  4.74it/s, loss=0.968]\n"
     ]
    },
    {
     "name": "stdout",
     "output_type": "stream",
     "text": [
      "CPU times: total: 2min 6s\n",
      "Wall time: 21.1 s\n",
      "Test RMSE: 0.8729061484336853\n",
      "Train RMSE: 0.9775070548057556\n",
      "Wall time: 21.08 seconds\n",
      "whh\n",
      "run: 2\n"
     ]
    },
    {
     "name": "stderr",
     "output_type": "stream",
     "text": [
      "100%|██████████| 100/100 [00:20<00:00,  4.79it/s, loss=1.01] \n"
     ]
    },
    {
     "name": "stdout",
     "output_type": "stream",
     "text": [
      "CPU times: total: 2min 4s\n",
      "Wall time: 20.9 s\n",
      "Test RMSE: 0.9150986075401306\n",
      "Train RMSE: 0.9934632778167725\n",
      "Wall time: 20.86 seconds\n",
      "whh\n",
      "mean train performance= 0.9858691493670145\n",
      "mean test performance= 0.8959048787752787\n",
      "mean wall time= 20.919641494750977\n",
      "std train= 0.008005784918147404\n",
      "std test= 0.021352035713522004\n",
      "Experiment 374\n",
      "run: 0\n"
     ]
    },
    {
     "name": "stderr",
     "output_type": "stream",
     "text": [
      "  0%|          | 0/100 [00:00<?, ?it/s]c:\\Users\\12lui\\anaconda3\\envs\\NewTrading\\lib\\site-packages\\torch\\nn\\modules\\loss.py:536: UserWarning: Using a target size (torch.Size([15788])) that is different to the input size (torch.Size([15788, 1])). This will likely lead to incorrect results due to broadcasting. Please ensure they have the same size.\n",
      "  return F.mse_loss(input, target, reduction=self.reduction)\n",
      "100%|██████████| 100/100 [01:39<00:00,  1.00it/s, loss=1.11e+4]\n"
     ]
    },
    {
     "name": "stdout",
     "output_type": "stream",
     "text": [
      "CPU times: total: 9min 57s\n",
      "Wall time: 1min 39s\n",
      "Test RMSE: 91.06103515625\n",
      "Train RMSE: 105.20048522949219\n",
      "Wall time: 99.78 seconds\n",
      "whh\n",
      "run: 1\n"
     ]
    },
    {
     "name": "stderr",
     "output_type": "stream",
     "text": [
      "100%|██████████| 100/100 [01:37<00:00,  1.03it/s, loss=1.11e+4]\n"
     ]
    },
    {
     "name": "stdout",
     "output_type": "stream",
     "text": [
      "CPU times: total: 9min 38s\n",
      "Wall time: 1min 37s\n",
      "Test RMSE: 91.05622863769531\n",
      "Train RMSE: 105.20274353027344\n",
      "Wall time: 97.25 seconds\n",
      "whh\n",
      "run: 2\n"
     ]
    },
    {
     "name": "stderr",
     "output_type": "stream",
     "text": [
      "100%|██████████| 100/100 [01:36<00:00,  1.03it/s, loss=1.11e+4]\n"
     ]
    },
    {
     "name": "stdout",
     "output_type": "stream",
     "text": [
      "CPU times: total: 9min 36s\n",
      "Wall time: 1min 36s\n",
      "Test RMSE: 91.05064392089844\n",
      "Train RMSE: 105.2002944946289\n",
      "Wall time: 96.67 seconds\n",
      "whh\n",
      "mean train performance= 105.20117441813152\n",
      "mean test performance= 91.05596923828125\n",
      "mean wall time= 97.90162801742554\n",
      "std train= 0.0013622333252695659\n",
      "std test= 0.0052004720050109424\n",
      "Experiment 183\n",
      "run: 0\n"
     ]
    },
    {
     "name": "stderr",
     "output_type": "stream",
     "text": [
      "  0%|          | 0/100 [00:00<?, ?it/s]c:\\Users\\12lui\\anaconda3\\envs\\NewTrading\\lib\\site-packages\\torch\\nn\\modules\\loss.py:536: UserWarning: Using a target size (torch.Size([1595])) that is different to the input size (torch.Size([1595, 1])). This will likely lead to incorrect results due to broadcasting. Please ensure they have the same size.\n",
      "  return F.mse_loss(input, target, reduction=self.reduction)\n",
      "100%|██████████| 100/100 [00:06<00:00, 16.50it/s, loss=0.0557]\n"
     ]
    },
    {
     "name": "stdout",
     "output_type": "stream",
     "text": [
      "CPU times: total: 36.2 s\n",
      "Wall time: 6.06 s\n",
      "Test RMSE: 0.2217271476984024\n",
      "Train RMSE: 0.23590850830078125\n",
      "Wall time: 6.06 seconds\n",
      "whh\n",
      "run: 1\n"
     ]
    },
    {
     "name": "stderr",
     "output_type": "stream",
     "text": [
      "100%|██████████| 100/100 [00:06<00:00, 16.13it/s, loss=0.0557]\n"
     ]
    },
    {
     "name": "stdout",
     "output_type": "stream",
     "text": [
      "CPU times: total: 35.9 s\n",
      "Wall time: 6.2 s\n",
      "Test RMSE: 0.2217710167169571\n",
      "Train RMSE: 0.23608730733394623\n",
      "Wall time: 6.20 seconds\n",
      "whh\n",
      "run: 2\n"
     ]
    },
    {
     "name": "stderr",
     "output_type": "stream",
     "text": [
      "100%|██████████| 100/100 [00:06<00:00, 15.95it/s, loss=0.0557]\n"
     ]
    },
    {
     "name": "stdout",
     "output_type": "stream",
     "text": [
      "CPU times: total: 36.9 s\n",
      "Wall time: 6.27 s\n",
      "Test RMSE: 0.22181633114814758\n",
      "Train RMSE: 0.23596525192260742\n",
      "Wall time: 6.27 seconds\n",
      "whh\n",
      "mean train performance= 0.23598702251911163\n",
      "mean test performance= 0.22177149852116904\n",
      "mean wall time= 6.179989655812581\n",
      "std train= 9.136598228714347e-05\n",
      "std test= 4.459367700231347e-05\n",
      "Experiment 291\n",
      "run: 0\n"
     ]
    },
    {
     "name": "stderr",
     "output_type": "stream",
     "text": [
      "  0%|          | 0/100 [00:00<?, ?it/s]c:\\Users\\12lui\\anaconda3\\envs\\NewTrading\\lib\\site-packages\\torch\\nn\\modules\\loss.py:536: UserWarning: Using a target size (torch.Size([1202])) that is different to the input size (torch.Size([1202, 1])). This will likely lead to incorrect results due to broadcasting. Please ensure they have the same size.\n",
      "  return F.mse_loss(input, target, reduction=self.reduction)\n",
      "100%|██████████| 100/100 [00:04<00:00, 22.62it/s, loss=8.55e+3]\n"
     ]
    },
    {
     "name": "stdout",
     "output_type": "stream",
     "text": [
      "CPU times: total: 24.9 s\n",
      "Wall time: 4.42 s\n",
      "Test RMSE: 92.30614471435547\n",
      "Train RMSE: 92.48902130126953\n",
      "Wall time: 4.43 seconds\n",
      "whh\n",
      "run: 1\n"
     ]
    },
    {
     "name": "stderr",
     "output_type": "stream",
     "text": [
      "100%|██████████| 100/100 [00:04<00:00, 22.43it/s, loss=3.8e+4]\n"
     ]
    },
    {
     "name": "stdout",
     "output_type": "stream",
     "text": [
      "CPU times: total: 24.8 s\n",
      "Wall time: 4.46 s\n",
      "Test RMSE: 85.97199249267578\n",
      "Train RMSE: 101.96833038330078\n",
      "Wall time: 4.46 seconds\n",
      "whh\n",
      "run: 2\n"
     ]
    },
    {
     "name": "stderr",
     "output_type": "stream",
     "text": [
      "100%|██████████| 100/100 [00:04<00:00, 22.19it/s, loss=8.58e+3]\n"
     ]
    },
    {
     "name": "stdout",
     "output_type": "stream",
     "text": [
      "CPU times: total: 26.2 s\n",
      "Wall time: 4.51 s\n",
      "Test RMSE: 92.044921875\n",
      "Train RMSE: 92.63545989990234\n",
      "Wall time: 4.51 seconds\n",
      "whh\n",
      "mean train performance= 95.69760386149089\n",
      "mean test performance= 90.10768636067708\n",
      "mean wall time= 4.464968840281169\n",
      "std train= 5.431102042798488\n",
      "std test= 3.583996675545042\n",
      "Experiment 294\n",
      "run: 0\n"
     ]
    },
    {
     "name": "stderr",
     "output_type": "stream",
     "text": [
      "  0%|          | 0/100 [00:00<?, ?it/s]c:\\Users\\12lui\\anaconda3\\envs\\NewTrading\\lib\\site-packages\\torch\\nn\\modules\\loss.py:536: UserWarning: Using a target size (torch.Size([7654])) that is different to the input size (torch.Size([7654, 1])). This will likely lead to incorrect results due to broadcasting. Please ensure they have the same size.\n",
      "  return F.mse_loss(input, target, reduction=self.reduction)\n",
      "100%|██████████| 100/100 [00:34<00:00,  2.92it/s, loss=312]   \n"
     ]
    },
    {
     "name": "stdout",
     "output_type": "stream",
     "text": [
      "CPU times: total: 3min 24s\n",
      "Wall time: 34.2 s\n",
      "Test RMSE: 17.535917282104492\n",
      "Train RMSE: 17.659637451171875\n",
      "Wall time: 34.24 seconds\n",
      "whh\n",
      "run: 1\n"
     ]
    },
    {
     "name": "stderr",
     "output_type": "stream",
     "text": [
      "100%|██████████| 100/100 [00:32<00:00,  3.08it/s, loss=311]   \n"
     ]
    },
    {
     "name": "stdout",
     "output_type": "stream",
     "text": [
      "CPU times: total: 3min 13s\n",
      "Wall time: 32.4 s\n",
      "Test RMSE: 17.520639419555664\n",
      "Train RMSE: 17.632526397705078\n",
      "Wall time: 32.42 seconds\n",
      "whh\n",
      "run: 2\n"
     ]
    },
    {
     "name": "stderr",
     "output_type": "stream",
     "text": [
      "100%|██████████| 100/100 [00:32<00:00,  3.06it/s, loss=308]   "
     ]
    },
    {
     "name": "stdout",
     "output_type": "stream",
     "text": [
      "CPU times: total: 3min 15s\n",
      "Wall time: 32.7 s\n",
      "Test RMSE: 17.458927154541016\n",
      "Train RMSE: 17.55830192565918\n",
      "Wall time: 32.71 seconds\n",
      "whh\n",
      "mean train performance= 17.61682192484538\n",
      "mean test performance= 17.50516128540039\n",
      "mean wall time= 33.12434752782186\n",
      "std train= 0.05246136705790589\n",
      "std test= 0.040762107566422276\n"
     ]
    },
    {
     "name": "stderr",
     "output_type": "stream",
     "text": [
      "\n"
     ]
    }
   ],
   "source": [
    "def downloader(uci_id):\n",
    "    # fetch dataset \n",
    "    uci_download = fetch_ucirepo(id=uci_id)\n",
    "    \n",
    "    # data (as pandas dataframes) \n",
    "    X_data = uci_download.data.features\n",
    "    # Drop category and date variables\n",
    "    if uci_id == 1:\n",
    "        X_data = X_data.drop([\"Sex\"], axis=1)\n",
    "    if uci_id == 275:\n",
    "        X_data = X_data.drop([\"dteday\"], axis=1)\n",
    "    if uci_id == 374:\n",
    "        X_data = X_data.drop([\"date\"], axis=1)\n",
    "    if uci_id == 183:\n",
    "        X_data = X_data.drop([\"communityname\"], axis=1)\n",
    "        object_columns = X_data.select_dtypes(include=['object']).columns\n",
    "        X_data = X_data.drop(columns=object_columns)\n",
    "\n",
    "    y_data = uci_download.data.targets\n",
    "    # select target for datasets with 2 targets\n",
    "    if uci_id == 189:\n",
    "        y_data = y_data[\"motor_UPDRS\"]\n",
    "    if uci_id == 713:\n",
    "        y_data = y_data[\"verification.time\"]\n",
    "\n",
    "    y = y_data.squeeze()\n",
    "\n",
    "    X = torch.tensor(X_data.values, dtype=torch.float32)\n",
    "    y = torch.tensor(y.values, dtype=torch.float32)\n",
    "\n",
    "    train_n = int(floor(0.8 * len(X)))\n",
    "    train_x = X[:train_n, :].contiguous()\n",
    "    train_y = y[:train_n].contiguous()\n",
    "\n",
    "    test_x = X[train_n:, :].contiguous()\n",
    "    test_y = y[train_n:].contiguous()\n",
    "\n",
    "    # Create TensorDataset and DataLoader for training and test sets\n",
    "    train_dataset = TensorDataset(train_x, train_y)\n",
    "    test_dataset = TensorDataset(test_x, test_y)\n",
    "\n",
    "    train_loader = DataLoader(train_dataset, batch_size=256, shuffle=True)\n",
    "    test_loader = DataLoader(test_dataset, batch_size=256, shuffle=False)\n",
    "\n",
    "    return train_x, train_y, test_x, test_y, train_loader, test_loader\n",
    "    \n",
    "def whole_process(train_x, train_y, test_x, test_y, train_loader, test_loader):\n",
    "\n",
    "    data_dim = train_x.size(-1)\n",
    "\n",
    "    class LargeFeatureExtractor(torch.nn.Sequential):\n",
    "        def __init__(self):\n",
    "            super(LargeFeatureExtractor, self).__init__()\n",
    "            self.add_module('linear1', torch.nn.Linear(data_dim, 1000))\n",
    "            self.add_module('relu1', torch.nn.ReLU())\n",
    "            self.add_module('linear2', torch.nn.Linear(1000, 500))\n",
    "            self.add_module('relu2', torch.nn.ReLU())\n",
    "            self.add_module('linear3', torch.nn.Linear(500, 50))\n",
    "            self.add_module('relu3', torch.nn.ReLU())\n",
    "            self.add_module('linear4', torch.nn.Linear(50, 1))\n",
    "\n",
    "    model = LargeFeatureExtractor()\n",
    "\n",
    "    training_iterations = 100\n",
    "\n",
    "    # Find optimal model hyperparameters\n",
    "    criterion = torch.nn.MSELoss()\n",
    "    optimizer = torch.optim.Adam([\n",
    "        {'params': model.parameters()}\n",
    "    ], lr=0.01)\n",
    "\n",
    "\n",
    "    def train():\n",
    "        model.train()\n",
    "        iterator = tqdm(range(training_iterations))\n",
    "        for i in iterator:\n",
    "            # Zero backprop gradients\n",
    "            optimizer.zero_grad()\n",
    "            # Get output from model\n",
    "            output = model(train_x)\n",
    "            # Calc loss and backprop derivatives\n",
    "            loss = criterion(output, train_y)\n",
    "            loss.backward()\n",
    "            iterator.set_postfix(loss=loss.item())\n",
    "            optimizer.step()\n",
    "\n",
    "    start_time = time.time()\n",
    "    %time train()\n",
    "    end_time = time.time()\n",
    "\n",
    "    wall_time = end_time - start_time\n",
    "\n",
    "    model.eval()\n",
    "    with torch.no_grad(), gpytorch.settings.use_toeplitz(False), gpytorch.settings.fast_pred_var():\n",
    "        preds_test = model(test_x)\n",
    "\n",
    "    test_rmse = torch.sqrt(torch.mean((preds_test - test_y) ** 2)).item()\n",
    "\n",
    "    with torch.no_grad(), gpytorch.settings.use_toeplitz(False), gpytorch.settings.fast_pred_var():\n",
    "        preds_train = model(train_x)\n",
    "\n",
    "    train_rmse = torch.sqrt(torch.mean((preds_train - train_y) ** 2)).item()\n",
    "\n",
    "    print('Test RMSE: {}'.format(test_rmse))\n",
    "    print('Train RMSE: {}'.format(train_rmse))\n",
    "    print('Wall time: {:.2f} seconds'.format(wall_time))\n",
    "\n",
    "    return test_rmse, train_rmse, wall_time\n",
    "\n",
    "experiment_datasets = [1, 275, 477, 189, 713, 186, 374, 183, 291, 294]\n",
    "\n",
    "for experiment in experiment_datasets:\n",
    "    print(\"Experiment \" + str(experiment))\n",
    "\n",
    "    trains = []\n",
    "    tests = []\n",
    "    times = []\n",
    "    train_x, train_y, test_x, test_y, train_loader, test_loader = downloader(experiment)\n",
    "    for run in range(3):\n",
    "        # set seeds\n",
    "        torch.manual_seed(run)\n",
    "        print(\"run: \" + str(run))\n",
    "\n",
    "        test_rmse, train_rmse, wall_time = whole_process(train_x, train_y, test_x, test_y, train_loader, test_loader)\n",
    "        trains.append(train_rmse)\n",
    "        tests.append(test_rmse)\n",
    "        times.append(wall_time)\n",
    "    \n",
    "    print(\"mean train performance= \"+ str(np.mean(trains)))\n",
    "    print(\"mean test performance= \"+ str(np.mean(tests)))\n",
    "    print(\"mean wall time= \"+ str(np.mean(times)))\n",
    "\n",
    "    print(\"std train= \"+ str(np.std(trains, ddof=1)))\n",
    "    print(\"std test= \"+ str(np.std(tests, ddof=1)))\n",
    "\n"
   ]
  },
  {
   "cell_type": "code",
   "execution_count": 3,
   "metadata": {},
   "outputs": [
    {
     "data": {
      "text/plain": [
       "[17.659637451171875, 17.632526397705078, 17.55830192565918]"
      ]
     },
     "execution_count": 3,
     "metadata": {},
     "output_type": "execute_result"
    }
   ],
   "source": [
    "trains"
   ]
  }
 ],
 "metadata": {
  "kernelspec": {
   "display_name": "NewTrading",
   "language": "python",
   "name": "python3"
  },
  "language_info": {
   "codemirror_mode": {
    "name": "ipython",
    "version": 3
   },
   "file_extension": ".py",
   "mimetype": "text/x-python",
   "name": "python",
   "nbconvert_exporter": "python",
   "pygments_lexer": "ipython3",
   "version": "3.9.17"
  }
 },
 "nbformat": 4,
 "nbformat_minor": 2
}

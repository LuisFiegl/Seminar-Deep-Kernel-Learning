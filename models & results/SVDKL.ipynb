{
 "cells": [
  {
   "cell_type": "code",
   "execution_count": 1,
   "metadata": {},
   "outputs": [],
   "source": [
    "import math\n",
    "from tqdm import tqdm\n",
    "import time\n",
    "import numpy as np\n",
    "import torch\n",
    "import gpytorch\n",
    "from matplotlib import pyplot as plt\n",
    "from ucimlrepo import fetch_ucirepo \n",
    "from math import floor\n",
    "from torch.utils.data import TensorDataset, DataLoader\n",
    "from gpytorch.models import ApproximateGP\n",
    "from gpytorch.variational import CholeskyVariationalDistribution\n",
    "from gpytorch.variational import VariationalStrategy\n",
    "\n",
    "# Make plots inline\n",
    "%matplotlib inline"
   ]
  },
  {
   "cell_type": "code",
   "execution_count": 2,
   "metadata": {},
   "outputs": [
    {
     "name": "stdout",
     "output_type": "stream",
     "text": [
      "Experiment 1\n",
      "run: 0\n"
     ]
    },
    {
     "name": "stderr",
     "output_type": "stream",
     "text": [
      "Epoch: 100%|██████████| 100/100 [00:35<00:00,  2.80it/s]\n"
     ]
    },
    {
     "name": "stdout",
     "output_type": "stream",
     "text": [
      "Test RMSE: 1.8057324886322021\n",
      "Train RMSE: 4.113190650939941\n",
      "Wall time: 35.72 seconds\n",
      "run: 1\n"
     ]
    },
    {
     "name": "stderr",
     "output_type": "stream",
     "text": [
      "Epoch: 100%|██████████| 100/100 [00:35<00:00,  2.83it/s]\n"
     ]
    },
    {
     "name": "stdout",
     "output_type": "stream",
     "text": [
      "Test RMSE: 1.8790353536605835\n",
      "Train RMSE: 4.176767826080322\n",
      "Wall time: 35.31 seconds\n",
      "run: 2\n"
     ]
    },
    {
     "name": "stderr",
     "output_type": "stream",
     "text": [
      "Epoch: 100%|██████████| 100/100 [00:34<00:00,  2.93it/s]\n"
     ]
    },
    {
     "name": "stdout",
     "output_type": "stream",
     "text": [
      "Test RMSE: 1.7839765548706055\n",
      "Train RMSE: 4.215064525604248\n",
      "Wall time: 34.10 seconds\n",
      "mean train performance= 4.168341\n",
      "mean test performance= 1.8229147\n",
      "mean wall time= 35.04160602887472\n",
      "std train= 0.05145707\n",
      "std test= 0.049804293\n",
      "Experiment 275\n",
      "run: 0\n"
     ]
    },
    {
     "name": "stderr",
     "output_type": "stream",
     "text": [
      "Epoch: 100%|██████████| 100/100 [02:09<00:00,  1.30s/it]\n"
     ]
    },
    {
     "name": "stdout",
     "output_type": "stream",
     "text": [
      "Test RMSE: 82.99430847167969\n",
      "Train RMSE: 233.53367614746094\n",
      "Wall time: 129.96 seconds\n",
      "run: 1\n"
     ]
    },
    {
     "name": "stderr",
     "output_type": "stream",
     "text": [
      "Epoch: 100%|██████████| 100/100 [02:18<00:00,  1.38s/it]\n"
     ]
    },
    {
     "name": "stdout",
     "output_type": "stream",
     "text": [
      "Test RMSE: 84.11531066894531\n",
      "Train RMSE: 226.5502471923828\n",
      "Wall time: 138.46 seconds\n",
      "run: 2\n"
     ]
    },
    {
     "name": "stderr",
     "output_type": "stream",
     "text": [
      "Epoch: 100%|██████████| 100/100 [02:17<00:00,  1.38s/it]\n"
     ]
    },
    {
     "name": "stdout",
     "output_type": "stream",
     "text": [
      "Test RMSE: 86.83853912353516\n",
      "Train RMSE: 226.73825073242188\n",
      "Wall time: 137.80 seconds\n",
      "mean train performance= 228.94072\n",
      "mean test performance= 84.64938\n",
      "mean wall time= 135.40531508127847\n",
      "std train= 3.9787233\n",
      "std test= 1.9769813\n",
      "Experiment 477\n",
      "run: 0\n"
     ]
    },
    {
     "name": "stderr",
     "output_type": "stream",
     "text": [
      "Epoch: 100%|██████████| 100/100 [00:04<00:00, 21.01it/s]\n"
     ]
    },
    {
     "name": "stdout",
     "output_type": "stream",
     "text": [
      "Test RMSE: 30.309345245361328\n",
      "Train RMSE: 31.014053344726562\n",
      "Wall time: 4.76 seconds\n",
      "run: 1\n"
     ]
    },
    {
     "name": "stderr",
     "output_type": "stream",
     "text": [
      "Epoch: 100%|██████████| 100/100 [00:04<00:00, 21.06it/s]\n"
     ]
    },
    {
     "name": "stdout",
     "output_type": "stream",
     "text": [
      "Test RMSE: 31.312814712524414\n",
      "Train RMSE: 32.126426696777344\n",
      "Wall time: 4.75 seconds\n",
      "run: 2\n"
     ]
    },
    {
     "name": "stderr",
     "output_type": "stream",
     "text": [
      "Epoch: 100%|██████████| 100/100 [00:04<00:00, 20.94it/s]\n"
     ]
    },
    {
     "name": "stdout",
     "output_type": "stream",
     "text": [
      "Test RMSE: 34.550968170166016\n",
      "Train RMSE: 34.498619079589844\n",
      "Wall time: 4.78 seconds\n",
      "mean train performance= 32.546368\n",
      "mean test performance= 32.05771\n",
      "mean wall time= 4.762473821640015\n",
      "std train= 1.7798347\n",
      "std test= 2.2167525\n",
      "Experiment 189\n",
      "run: 0\n"
     ]
    },
    {
     "name": "stderr",
     "output_type": "stream",
     "text": [
      "Epoch: 100%|██████████| 100/100 [00:48<00:00,  2.04it/s]\n"
     ]
    },
    {
     "name": "stdout",
     "output_type": "stream",
     "text": [
      "Test RMSE: 10.308733940124512\n",
      "Train RMSE: 9.456573486328125\n",
      "Wall time: 48.90 seconds\n",
      "run: 1\n"
     ]
    },
    {
     "name": "stderr",
     "output_type": "stream",
     "text": [
      "Epoch: 100%|██████████| 100/100 [00:48<00:00,  2.08it/s]\n"
     ]
    },
    {
     "name": "stdout",
     "output_type": "stream",
     "text": [
      "Test RMSE: 11.15768051147461\n",
      "Train RMSE: 9.295679092407227\n",
      "Wall time: 48.02 seconds\n",
      "run: 2\n"
     ]
    },
    {
     "name": "stderr",
     "output_type": "stream",
     "text": [
      "Epoch: 100%|██████████| 100/100 [00:47<00:00,  2.09it/s]\n"
     ]
    },
    {
     "name": "stdout",
     "output_type": "stream",
     "text": [
      "Test RMSE: 11.288857460021973\n",
      "Train RMSE: 8.831758499145508\n",
      "Wall time: 47.90 seconds\n",
      "mean train performance= 9.194671\n",
      "mean test performance= 10.918424\n",
      "mean wall time= 48.27353382110596\n",
      "std train= 0.32442337\n",
      "std test= 0.53206515\n",
      "Experiment 713\n",
      "run: 0\n"
     ]
    },
    {
     "name": "stderr",
     "output_type": "stream",
     "text": [
      "Epoch: 100%|██████████| 100/100 [00:17<00:00,  5.62it/s]\n"
     ]
    },
    {
     "name": "stdout",
     "output_type": "stream",
     "text": [
      "Test RMSE: 15824.25390625\n",
      "Train RMSE: 11691.275390625\n",
      "Wall time: 17.81 seconds\n",
      "run: 1\n"
     ]
    },
    {
     "name": "stderr",
     "output_type": "stream",
     "text": [
      "Epoch: 100%|██████████| 100/100 [00:17<00:00,  5.79it/s]\n"
     ]
    },
    {
     "name": "stdout",
     "output_type": "stream",
     "text": [
      "Test RMSE: 15805.4892578125\n",
      "Train RMSE: 11681.6337890625\n",
      "Wall time: 17.29 seconds\n",
      "run: 2\n"
     ]
    },
    {
     "name": "stderr",
     "output_type": "stream",
     "text": [
      "Epoch: 100%|██████████| 100/100 [00:17<00:00,  5.72it/s]\n"
     ]
    },
    {
     "name": "stdout",
     "output_type": "stream",
     "text": [
      "Test RMSE: 15807.04296875\n",
      "Train RMSE: 11683.2412109375\n",
      "Wall time: 17.49 seconds\n",
      "mean train performance= 11685.384\n",
      "mean test performance= 15812.262\n",
      "mean wall time= 17.529078722000122\n",
      "std train= 5.1654677\n",
      "std test= 10.414272\n",
      "Experiment 186\n",
      "run: 0\n"
     ]
    },
    {
     "name": "stderr",
     "output_type": "stream",
     "text": [
      "Epoch: 100%|██████████| 100/100 [00:53<00:00,  1.88it/s]\n"
     ]
    },
    {
     "name": "stdout",
     "output_type": "stream",
     "text": [
      "Test RMSE: 0.7032457590103149\n",
      "Train RMSE: 1.0247623920440674\n",
      "Wall time: 53.21 seconds\n",
      "run: 1\n"
     ]
    },
    {
     "name": "stderr",
     "output_type": "stream",
     "text": [
      "Epoch: 100%|██████████| 100/100 [00:54<00:00,  1.85it/s]\n"
     ]
    },
    {
     "name": "stdout",
     "output_type": "stream",
     "text": [
      "Test RMSE: 0.713219165802002\n",
      "Train RMSE: 1.0280550718307495\n",
      "Wall time: 54.01 seconds\n",
      "run: 2\n"
     ]
    },
    {
     "name": "stderr",
     "output_type": "stream",
     "text": [
      "Epoch: 100%|██████████| 100/100 [00:53<00:00,  1.86it/s]\n"
     ]
    },
    {
     "name": "stdout",
     "output_type": "stream",
     "text": [
      "Test RMSE: 0.7085351347923279\n",
      "Train RMSE: 1.0152251720428467\n",
      "Wall time: 53.82 seconds\n",
      "mean train performance= 1.0226809\n",
      "mean test performance= 0.7083333\n",
      "mean wall time= 53.67929029464722\n",
      "std train= 0.0066634156\n",
      "std test= 0.004989764\n",
      "Experiment 374\n",
      "run: 0\n"
     ]
    },
    {
     "name": "stderr",
     "output_type": "stream",
     "text": [
      "Epoch: 100%|██████████| 100/100 [02:38<00:00,  1.58s/it]\n"
     ]
    },
    {
     "name": "stdout",
     "output_type": "stream",
     "text": [
      "Test RMSE: 85.8042984008789\n",
      "Train RMSE: 113.39848327636719\n",
      "Wall time: 158.01 seconds\n",
      "run: 1\n"
     ]
    },
    {
     "name": "stderr",
     "output_type": "stream",
     "text": [
      "Epoch: 100%|██████████| 100/100 [02:40<00:00,  1.60s/it]\n"
     ]
    },
    {
     "name": "stdout",
     "output_type": "stream",
     "text": [
      "Test RMSE: 88.59895324707031\n",
      "Train RMSE: 115.19957733154297\n",
      "Wall time: 160.17 seconds\n",
      "run: 2\n"
     ]
    },
    {
     "name": "stderr",
     "output_type": "stream",
     "text": [
      "Epoch: 100%|██████████| 100/100 [02:37<00:00,  1.58s/it]\n"
     ]
    },
    {
     "name": "stdout",
     "output_type": "stream",
     "text": [
      "Test RMSE: 91.12957763671875\n",
      "Train RMSE: 113.95842742919922\n",
      "Wall time: 157.71 seconds\n",
      "mean train performance= 114.18549\n",
      "mean test performance= 88.51095\n",
      "mean wall time= 158.63147497177124\n",
      "std train= 0.92176735\n",
      "std test= 2.6637304\n",
      "Experiment 183\n",
      "run: 0\n"
     ]
    },
    {
     "name": "stderr",
     "output_type": "stream",
     "text": [
      "Epoch: 100%|██████████| 100/100 [00:18<00:00,  5.52it/s]\n"
     ]
    },
    {
     "name": "stdout",
     "output_type": "stream",
     "text": [
      "Test RMSE: 0.14257995784282684\n",
      "Train RMSE: 0.29770585894584656\n",
      "Wall time: 18.11 seconds\n",
      "run: 1\n"
     ]
    },
    {
     "name": "stderr",
     "output_type": "stream",
     "text": [
      "Epoch: 100%|██████████| 100/100 [00:17<00:00,  5.57it/s]\n"
     ]
    },
    {
     "name": "stdout",
     "output_type": "stream",
     "text": [
      "Test RMSE: 0.14078682661056519\n",
      "Train RMSE: 0.31499817967414856\n",
      "Wall time: 17.96 seconds\n",
      "run: 2\n"
     ]
    },
    {
     "name": "stderr",
     "output_type": "stream",
     "text": [
      "Epoch: 100%|██████████| 100/100 [00:18<00:00,  5.55it/s]\n"
     ]
    },
    {
     "name": "stdout",
     "output_type": "stream",
     "text": [
      "Test RMSE: 0.17223943769931793\n",
      "Train RMSE: 0.339062362909317\n",
      "Wall time: 18.02 seconds\n",
      "mean train performance= 0.31725547\n",
      "mean test performance= 0.15186875\n",
      "mean wall time= 18.027310053507488\n",
      "std train= 0.020770451\n",
      "std test= 0.01766431\n",
      "Experiment 291\n",
      "run: 0\n"
     ]
    },
    {
     "name": "stderr",
     "output_type": "stream",
     "text": [
      "Epoch: 100%|██████████| 100/100 [00:12<00:00,  7.96it/s]\n"
     ]
    },
    {
     "name": "stdout",
     "output_type": "stream",
     "text": [
      "Test RMSE: 49.66738510131836\n",
      "Train RMSE: 53.57148361206055\n",
      "Wall time: 12.56 seconds\n",
      "run: 1\n"
     ]
    },
    {
     "name": "stderr",
     "output_type": "stream",
     "text": [
      "Epoch: 100%|██████████| 100/100 [00:12<00:00,  7.89it/s]\n"
     ]
    },
    {
     "name": "stdout",
     "output_type": "stream",
     "text": [
      "Test RMSE: 61.16416549682617\n",
      "Train RMSE: 65.135498046875\n",
      "Wall time: 12.68 seconds\n",
      "run: 2\n"
     ]
    },
    {
     "name": "stderr",
     "output_type": "stream",
     "text": [
      "Epoch: 100%|██████████| 100/100 [00:12<00:00,  7.84it/s]\n"
     ]
    },
    {
     "name": "stdout",
     "output_type": "stream",
     "text": [
      "Test RMSE: 91.7241439819336\n",
      "Train RMSE: 93.92094421386719\n",
      "Wall time: 12.75 seconds\n",
      "mean train performance= 70.87598\n",
      "mean test performance= 67.51856\n",
      "mean wall time= 12.665623823801676\n",
      "std train= 20.778223\n",
      "std test= 21.736525\n",
      "Experiment 294\n",
      "run: 0\n"
     ]
    },
    {
     "name": "stderr",
     "output_type": "stream",
     "text": [
      "Epoch: 100%|██████████| 100/100 [01:15<00:00,  1.33it/s]\n"
     ]
    },
    {
     "name": "stdout",
     "output_type": "stream",
     "text": [
      "Test RMSE: 99.52696228027344\n",
      "Train RMSE: 100.47309112548828\n",
      "Wall time: 75.28 seconds\n",
      "run: 1\n"
     ]
    },
    {
     "name": "stderr",
     "output_type": "stream",
     "text": [
      "Epoch: 100%|██████████| 100/100 [01:16<00:00,  1.31it/s]\n"
     ]
    },
    {
     "name": "stdout",
     "output_type": "stream",
     "text": [
      "Test RMSE: 77.42213439941406\n",
      "Train RMSE: 75.91244506835938\n",
      "Wall time: 76.13 seconds\n",
      "run: 2\n"
     ]
    },
    {
     "name": "stderr",
     "output_type": "stream",
     "text": [
      "Epoch: 100%|██████████| 100/100 [01:15<00:00,  1.32it/s]\n"
     ]
    },
    {
     "name": "stdout",
     "output_type": "stream",
     "text": [
      "Test RMSE: 89.241455078125\n",
      "Train RMSE: 89.45455932617188\n",
      "Wall time: 75.80 seconds\n",
      "mean train performance= 88.613365\n",
      "mean test performance= 88.73019\n",
      "mean wall time= 75.73735968271892\n",
      "std train= 12.301912\n",
      "std test= 11.061279\n"
     ]
    }
   ],
   "source": [
    "def downloader(uci_id):\n",
    "    # fetch dataset \n",
    "    uci_download = fetch_ucirepo(id=uci_id)\n",
    "    \n",
    "    # data (as pandas dataframes) \n",
    "    X_data = uci_download.data.features\n",
    "    # Drop category and date variables\n",
    "    if uci_id == 1:\n",
    "        X_data = X_data.drop([\"Sex\"], axis=1)\n",
    "    if uci_id == 275:\n",
    "        X_data = X_data.drop([\"dteday\"], axis=1)\n",
    "    if uci_id == 374:\n",
    "        X_data = X_data.drop([\"date\"], axis=1)\n",
    "    if uci_id == 183:\n",
    "        X_data = X_data.drop([\"communityname\"], axis=1)\n",
    "        object_columns = X_data.select_dtypes(include=['object']).columns\n",
    "        X_data = X_data.drop(columns=object_columns)\n",
    "\n",
    "    y_data = uci_download.data.targets\n",
    "    # select target for datasets with 2 targets\n",
    "    if uci_id == 189:\n",
    "        y_data = y_data[\"motor_UPDRS\"]\n",
    "    if uci_id == 713:\n",
    "        y_data = y_data[\"verification.time\"]\n",
    "\n",
    "    y = y_data.squeeze()\n",
    "\n",
    "    X = torch.tensor(X_data.values, dtype=torch.float32)\n",
    "    y = torch.tensor(y.values, dtype=torch.float32)\n",
    "\n",
    "    train_n = int(floor(0.8 * len(X)))\n",
    "    train_x = X[:train_n, :].contiguous()\n",
    "    train_y = y[:train_n].contiguous()\n",
    "\n",
    "    test_x = X[train_n:, :].contiguous()\n",
    "    test_y = y[train_n:].contiguous()\n",
    "\n",
    "    # Create TensorDataset and DataLoader for training and test sets\n",
    "    train_dataset = TensorDataset(train_x, train_y)\n",
    "    test_dataset = TensorDataset(test_x, test_y)\n",
    "\n",
    "    train_loader = DataLoader(train_dataset, batch_size=256, shuffle=True)\n",
    "    test_loader = DataLoader(test_dataset, batch_size=256, shuffle=False)\n",
    "\n",
    "    return train_x, train_y, test_x, test_y, train_loader, test_loader\n",
    "\n",
    "def whole_process(train_x, train_y, test_x, test_y, train_loader, test_loader):\n",
    "\n",
    "    data_dim = train_x.size(-1)\n",
    "\n",
    "    class LargeFeatureExtractor(torch.nn.Sequential):\n",
    "        def __init__(self):\n",
    "            super(LargeFeatureExtractor, self).__init__()\n",
    "            self.add_module('linear1', torch.nn.Linear(data_dim, 1000))\n",
    "            self.add_module('relu1', torch.nn.ReLU())\n",
    "            self.add_module('linear2', torch.nn.Linear(1000, 500))\n",
    "            self.add_module('relu2', torch.nn.ReLU())\n",
    "            self.add_module('linear3', torch.nn.Linear(500, 50))\n",
    "            self.add_module('relu3', torch.nn.ReLU())\n",
    "            self.add_module('linear4', torch.nn.Linear(50, 2))\n",
    "\n",
    "    feature_extractor = LargeFeatureExtractor()\n",
    "\n",
    "    class GPModel(ApproximateGP):\n",
    "        def __init__(self, inducing_points, feature_extractor):\n",
    "\n",
    "            variational_distribution = CholeskyVariationalDistribution(inducing_points.size(0))\n",
    "\n",
    "            variational_strategy = VariationalStrategy(self, inducing_points, variational_distribution, learn_inducing_locations=True)\n",
    "\n",
    "            super(GPModel, self).__init__(variational_strategy)\n",
    "            self.mean_module = gpytorch.means.ConstantMean()\n",
    "            self.covar_module = gpytorch.kernels.ScaleKernel(gpytorch.kernels.RBFKernel(ard_num_dims=2))\n",
    "            self.feature_extractor = feature_extractor\n",
    "            self.scale_to_bounds = gpytorch.utils.grid.ScaleToBounds(-1., 1.)\n",
    "\n",
    "        def forward(self, x):\n",
    "            projected_x = self.feature_extractor(x)\n",
    "            projected_x = self.scale_to_bounds(projected_x)\n",
    "            mean_x = self.mean_module(projected_x)\n",
    "            covar_x = self.covar_module(projected_x)\n",
    "            return gpytorch.distributions.MultivariateNormal(mean_x, covar_x)\n",
    "\n",
    "    inducing_points = train_x[:50, :]\n",
    "    model = GPModel(inducing_points=inducing_points, feature_extractor=feature_extractor)\n",
    "    likelihood = gpytorch.likelihoods.GaussianLikelihood()\n",
    "\n",
    "    num_epochs = 100\n",
    "    start_time = time.time()\n",
    "\n",
    "    model.train()\n",
    "    likelihood.train()\n",
    "\n",
    "    optimizer = torch.optim.Adam([\n",
    "        {'params': likelihood.parameters()},\n",
    "        {'params': model.parameters()}\n",
    "    ], lr=0.01)\n",
    "    # Our loss object. We're using the VariationalELBO\n",
    "    mll = gpytorch.mlls.VariationalELBO(likelihood, model, num_data=train_y.size(0))\n",
    "\n",
    "\n",
    "    epochs_iter = tqdm(range(num_epochs), desc=\"Epoch\")\n",
    "    for i in epochs_iter:\n",
    "        # Within each iteration, we will go over each minibatch of data\n",
    "        minibatch_iter = tqdm(train_loader, desc=\"Minibatch\", leave=False)\n",
    "        for x_batch, y_batch in minibatch_iter:\n",
    "            optimizer.zero_grad()\n",
    "            output = model(x_batch)\n",
    "            loss = -mll(output, y_batch)\n",
    "            minibatch_iter.set_postfix(loss=loss.item())\n",
    "            loss.backward()\n",
    "            optimizer.step()\n",
    "\n",
    "    end_time = time.time()\n",
    "    wall_time = end_time - start_time\n",
    "\n",
    "    model.eval()\n",
    "    likelihood.eval()\n",
    "    means = torch.tensor([0.])\n",
    "    with torch.no_grad():\n",
    "        for x_batch, y_batch in test_loader:\n",
    "            preds = model(x_batch)\n",
    "            means = torch.cat([means, preds.mean.cpu()])\n",
    "    means = means[1:]\n",
    "    test_rmse = torch.sqrt(torch.mean((means - test_y.cpu()) ** 2))\n",
    "\n",
    "    means = torch.tensor([0.])\n",
    "    with torch.no_grad():\n",
    "        for x_batch, y_batch in train_loader:\n",
    "            preds = model(x_batch)\n",
    "            means = torch.cat([means, preds.mean.cpu()])\n",
    "    means = means[1:]\n",
    "    train_rmse = torch.sqrt(torch.mean((means - train_y.cpu()) ** 2))\n",
    "\n",
    "    print('Test RMSE: {}'.format(test_rmse))\n",
    "    print('Train RMSE: {}'.format(train_rmse))\n",
    "    print('Wall time: {:.2f} seconds'.format(wall_time))\n",
    "\n",
    "    return test_rmse, train_rmse, wall_time\n",
    "\n",
    "experiment_datasets = [1, 275, 477, 189, 713, 186, 374, 183, 291, 294]\n",
    "\n",
    "for experiment in experiment_datasets:\n",
    "    print(\"Experiment \" + str(experiment))\n",
    "\n",
    "    trains = []\n",
    "    tests = []\n",
    "    times = []\n",
    "    train_x, train_y, test_x, test_y, train_loader, test_loader = downloader(experiment)\n",
    "    for run in range(3):\n",
    "        # set seeds\n",
    "        torch.manual_seed(run)\n",
    "        print(\"run: \" + str(run))\n",
    "\n",
    "        test_rmse, train_rmse, wall_time = whole_process(train_x, train_y, test_x, test_y, train_loader, test_loader)\n",
    "        trains.append(train_rmse)\n",
    "        tests.append(test_rmse)\n",
    "        times.append(wall_time)\n",
    "    \n",
    "    print(\"mean train performance= \"+ str(np.mean(trains)))\n",
    "    print(\"mean test performance= \"+ str(np.mean(tests)))\n",
    "    print(\"mean wall time= \"+ str(np.mean(times)))\n",
    "\n",
    "    print(\"std train= \"+ str(np.std(trains, ddof=1)))\n",
    "    print(\"std test= \"+ str(np.std(tests, ddof=1)))"
   ]
  }
 ],
 "metadata": {
  "kernelspec": {
   "display_name": "NewTrading",
   "language": "python",
   "name": "python3"
  },
  "language_info": {
   "codemirror_mode": {
    "name": "ipython",
    "version": 3
   },
   "file_extension": ".py",
   "mimetype": "text/x-python",
   "name": "python",
   "nbconvert_exporter": "python",
   "pygments_lexer": "ipython3",
   "version": "3.9.17"
  }
 },
 "nbformat": 4,
 "nbformat_minor": 2
}

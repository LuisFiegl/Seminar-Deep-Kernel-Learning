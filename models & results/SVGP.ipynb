{
 "cells": [
  {
   "cell_type": "code",
   "execution_count": 1,
   "metadata": {},
   "outputs": [],
   "source": [
    "import math\n",
    "from tqdm import tqdm\n",
    "import torch\n",
    "import time\n",
    "import numpy as np\n",
    "import gpytorch\n",
    "from matplotlib import pyplot as plt\n",
    "from gpytorch.models import ApproximateGP\n",
    "from gpytorch.variational import CholeskyVariationalDistribution\n",
    "from gpytorch.variational import VariationalStrategy, GridInterpolationVariationalStrategy\n",
    "from ucimlrepo import fetch_ucirepo \n",
    "from math import floor\n",
    "from torch.utils.data import TensorDataset, DataLoader\n",
    "\n",
    "\n",
    "# Make plots inline\n",
    "%matplotlib inline"
   ]
  },
  {
   "cell_type": "code",
   "execution_count": 2,
   "metadata": {},
   "outputs": [
    {
     "name": "stdout",
     "output_type": "stream",
     "text": [
      "Experiment 1\n",
      "run: 0\n"
     ]
    },
    {
     "name": "stderr",
     "output_type": "stream",
     "text": [
      "Epoch: 100%|██████████| 100/100 [00:11<00:00,  8.51it/s]\n"
     ]
    },
    {
     "name": "stdout",
     "output_type": "stream",
     "text": [
      "Test RMSE: 2.073751211166382\n",
      "Train RMSE: 3.744349956512451\n",
      "Wall time: 11.75 seconds\n",
      "run: 1\n"
     ]
    },
    {
     "name": "stderr",
     "output_type": "stream",
     "text": [
      "Epoch: 100%|██████████| 100/100 [00:11<00:00,  8.59it/s]\n"
     ]
    },
    {
     "name": "stdout",
     "output_type": "stream",
     "text": [
      "Test RMSE: 2.1206347942352295\n",
      "Train RMSE: 3.9831626415252686\n",
      "Wall time: 11.65 seconds\n",
      "run: 2\n"
     ]
    },
    {
     "name": "stderr",
     "output_type": "stream",
     "text": [
      "Epoch: 100%|██████████| 100/100 [00:11<00:00,  8.61it/s]\n"
     ]
    },
    {
     "name": "stdout",
     "output_type": "stream",
     "text": [
      "Test RMSE: 2.147575855255127\n",
      "Train RMSE: 3.8951210975646973\n",
      "Wall time: 11.62 seconds\n",
      "mean train performance= 3.874211\n",
      "mean test performance= 2.1139872\n",
      "mean wall time= 11.672245502471924\n",
      "std train= 0.120771654\n",
      "std test= 0.037358556\n",
      "Experiment 275\n",
      "run: 0\n"
     ]
    },
    {
     "name": "stderr",
     "output_type": "stream",
     "text": [
      "Epoch: 100%|██████████| 100/100 [00:44<00:00,  2.23it/s]\n"
     ]
    },
    {
     "name": "stdout",
     "output_type": "stream",
     "text": [
      "Test RMSE: 166.97706604003906\n",
      "Train RMSE: 198.50665283203125\n",
      "Wall time: 44.86 seconds\n",
      "run: 1\n"
     ]
    },
    {
     "name": "stderr",
     "output_type": "stream",
     "text": [
      "Epoch: 100%|██████████| 100/100 [00:44<00:00,  2.23it/s]\n"
     ]
    },
    {
     "name": "stdout",
     "output_type": "stream",
     "text": [
      "Test RMSE: 165.54965209960938\n",
      "Train RMSE: 197.826904296875\n",
      "Wall time: 44.87 seconds\n",
      "run: 2\n"
     ]
    },
    {
     "name": "stderr",
     "output_type": "stream",
     "text": [
      "Epoch: 100%|██████████| 100/100 [00:44<00:00,  2.24it/s]\n"
     ]
    },
    {
     "name": "stdout",
     "output_type": "stream",
     "text": [
      "Test RMSE: 166.88079833984375\n",
      "Train RMSE: 197.70867919921875\n",
      "Wall time: 44.67 seconds\n",
      "mean train performance= 198.01408\n",
      "mean test performance= 166.46918\n",
      "mean wall time= 44.8032857577006\n",
      "std train= 0.43065786\n",
      "std test= 0.7977811\n",
      "Experiment 477\n",
      "run: 0\n"
     ]
    },
    {
     "name": "stderr",
     "output_type": "stream",
     "text": [
      "Epoch: 100%|██████████| 100/100 [00:01<00:00, 51.31it/s]\n"
     ]
    },
    {
     "name": "stdout",
     "output_type": "stream",
     "text": [
      "Test RMSE: 38.706886291503906\n",
      "Train RMSE: 38.82059097290039\n",
      "Wall time: 1.95 seconds\n",
      "run: 1\n"
     ]
    },
    {
     "name": "stderr",
     "output_type": "stream",
     "text": [
      "Epoch: 100%|██████████| 100/100 [00:01<00:00, 51.49it/s]\n"
     ]
    },
    {
     "name": "stdout",
     "output_type": "stream",
     "text": [
      "Test RMSE: 38.7023811340332\n",
      "Train RMSE: 38.82297134399414\n",
      "Wall time: 1.95 seconds\n",
      "run: 2\n"
     ]
    },
    {
     "name": "stderr",
     "output_type": "stream",
     "text": [
      "Epoch: 100%|██████████| 100/100 [00:01<00:00, 51.23it/s]\n"
     ]
    },
    {
     "name": "stdout",
     "output_type": "stream",
     "text": [
      "Test RMSE: 38.707305908203125\n",
      "Train RMSE: 38.82328414916992\n",
      "Wall time: 1.95 seconds\n",
      "mean train performance= 38.82228\n",
      "mean test performance= 38.705524\n",
      "mean wall time= 1.949548641840617\n",
      "std train= 0.0014729351\n",
      "std test= 0.0027302601\n",
      "Experiment 189\n",
      "run: 0\n"
     ]
    },
    {
     "name": "stderr",
     "output_type": "stream",
     "text": [
      "Epoch: 100%|██████████| 100/100 [00:15<00:00,  6.36it/s]\n"
     ]
    },
    {
     "name": "stdout",
     "output_type": "stream",
     "text": [
      "Test RMSE: 16.1807918548584\n",
      "Train RMSE: 11.5370454788208\n",
      "Wall time: 15.71 seconds\n",
      "run: 1\n"
     ]
    },
    {
     "name": "stderr",
     "output_type": "stream",
     "text": [
      "Epoch: 100%|██████████| 100/100 [00:15<00:00,  6.27it/s]\n"
     ]
    },
    {
     "name": "stdout",
     "output_type": "stream",
     "text": [
      "Test RMSE: 16.134225845336914\n",
      "Train RMSE: 11.576297760009766\n",
      "Wall time: 15.95 seconds\n",
      "run: 2\n"
     ]
    },
    {
     "name": "stderr",
     "output_type": "stream",
     "text": [
      "Epoch: 100%|██████████| 100/100 [00:16<00:00,  6.17it/s]\n"
     ]
    },
    {
     "name": "stdout",
     "output_type": "stream",
     "text": [
      "Test RMSE: 16.155359268188477\n",
      "Train RMSE: 11.450639724731445\n",
      "Wall time: 16.20 seconds\n",
      "mean train performance= 11.521327\n",
      "mean test performance= 16.156792\n",
      "mean wall time= 15.951658805211386\n",
      "std train= 0.06428665\n",
      "std test= 0.023316057\n",
      "Experiment 713\n",
      "run: 0\n"
     ]
    },
    {
     "name": "stderr",
     "output_type": "stream",
     "text": [
      "Epoch: 100%|██████████| 100/100 [00:06<00:00, 16.40it/s]\n"
     ]
    },
    {
     "name": "stdout",
     "output_type": "stream",
     "text": [
      "Test RMSE: 15873.7490234375\n",
      "Train RMSE: 11728.83203125\n",
      "Wall time: 6.10 seconds\n",
      "run: 1\n"
     ]
    },
    {
     "name": "stderr",
     "output_type": "stream",
     "text": [
      "Epoch: 100%|██████████| 100/100 [00:05<00:00, 16.76it/s]\n"
     ]
    },
    {
     "name": "stdout",
     "output_type": "stream",
     "text": [
      "Test RMSE: 15873.7216796875\n",
      "Train RMSE: 11729.119140625\n",
      "Wall time: 5.97 seconds\n",
      "run: 2\n"
     ]
    },
    {
     "name": "stderr",
     "output_type": "stream",
     "text": [
      "Epoch: 100%|██████████| 100/100 [00:06<00:00, 16.54it/s]\n"
     ]
    },
    {
     "name": "stdout",
     "output_type": "stream",
     "text": [
      "Test RMSE: 15873.9716796875\n",
      "Train RMSE: 11729.4599609375\n",
      "Wall time: 6.05 seconds\n",
      "mean train performance= 11729.137\n",
      "mean test performance= 15873.813\n",
      "mean wall time= 6.038362423578898\n",
      "std train= 0.3143477\n",
      "std test= 0.13712968\n",
      "Experiment 186\n",
      "run: 0\n"
     ]
    },
    {
     "name": "stderr",
     "output_type": "stream",
     "text": [
      "Epoch: 100%|██████████| 100/100 [00:18<00:00,  5.51it/s]\n"
     ]
    },
    {
     "name": "stdout",
     "output_type": "stream",
     "text": [
      "Test RMSE: 0.8001762628555298\n",
      "Train RMSE: 0.9060923457145691\n",
      "Wall time: 18.16 seconds\n",
      "run: 1\n"
     ]
    },
    {
     "name": "stderr",
     "output_type": "stream",
     "text": [
      "Epoch: 100%|██████████| 100/100 [00:18<00:00,  5.55it/s]\n"
     ]
    },
    {
     "name": "stdout",
     "output_type": "stream",
     "text": [
      "Test RMSE: 0.7994657158851624\n",
      "Train RMSE: 0.9101269841194153\n",
      "Wall time: 18.01 seconds\n",
      "run: 2\n"
     ]
    },
    {
     "name": "stderr",
     "output_type": "stream",
     "text": [
      "Epoch: 100%|██████████| 100/100 [00:17<00:00,  5.59it/s]\n"
     ]
    },
    {
     "name": "stdout",
     "output_type": "stream",
     "text": [
      "Test RMSE: 0.7973869442939758\n",
      "Train RMSE: 0.9115209579467773\n",
      "Wall time: 17.90 seconds\n",
      "mean train performance= 0.90924674\n",
      "mean test performance= 0.7990096\n",
      "mean wall time= 18.02569270133972\n",
      "std train= 0.0028193172\n",
      "std test= 0.0014495095\n",
      "Experiment 374\n",
      "run: 0\n"
     ]
    },
    {
     "name": "stderr",
     "output_type": "stream",
     "text": [
      "Epoch: 100%|██████████| 100/100 [00:52<00:00,  1.90it/s]\n"
     ]
    },
    {
     "name": "stdout",
     "output_type": "stream",
     "text": [
      "Test RMSE: 109.19050598144531\n",
      "Train RMSE: 122.07328033447266\n",
      "Wall time: 52.55 seconds\n",
      "run: 1\n"
     ]
    },
    {
     "name": "stderr",
     "output_type": "stream",
     "text": [
      "Epoch: 100%|██████████| 100/100 [00:52<00:00,  1.89it/s]\n"
     ]
    },
    {
     "name": "stdout",
     "output_type": "stream",
     "text": [
      "Test RMSE: 109.20128631591797\n",
      "Train RMSE: 122.08318328857422\n",
      "Wall time: 52.85 seconds\n",
      "run: 2\n"
     ]
    },
    {
     "name": "stderr",
     "output_type": "stream",
     "text": [
      "Epoch: 100%|██████████| 100/100 [00:53<00:00,  1.89it/s]\n"
     ]
    },
    {
     "name": "stdout",
     "output_type": "stream",
     "text": [
      "Test RMSE: 109.19190216064453\n",
      "Train RMSE: 122.0745620727539\n",
      "Wall time: 53.01 seconds\n",
      "mean train performance= 122.077\n",
      "mean test performance= 109.19456\n",
      "mean wall time= 52.806114276250206\n",
      "std train= 0.0053857365\n",
      "std test= 0.0058627045\n",
      "Experiment 183\n",
      "run: 0\n"
     ]
    },
    {
     "name": "stderr",
     "output_type": "stream",
     "text": [
      "Epoch: 100%|██████████| 100/100 [00:06<00:00, 16.15it/s]\n"
     ]
    },
    {
     "name": "stdout",
     "output_type": "stream",
     "text": [
      "Test RMSE: 0.15515795350074768\n",
      "Train RMSE: 0.27864301204681396\n",
      "Wall time: 6.19 seconds\n",
      "run: 1\n"
     ]
    },
    {
     "name": "stderr",
     "output_type": "stream",
     "text": [
      "Epoch: 100%|██████████| 100/100 [00:06<00:00, 16.10it/s]\n"
     ]
    },
    {
     "name": "stdout",
     "output_type": "stream",
     "text": [
      "Test RMSE: 0.15586160123348236\n",
      "Train RMSE: 0.28116291761398315\n",
      "Wall time: 6.21 seconds\n",
      "run: 2\n"
     ]
    },
    {
     "name": "stderr",
     "output_type": "stream",
     "text": [
      "Epoch: 100%|██████████| 100/100 [00:06<00:00, 16.02it/s]\n"
     ]
    },
    {
     "name": "stdout",
     "output_type": "stream",
     "text": [
      "Test RMSE: 0.1538863480091095\n",
      "Train RMSE: 0.2814274728298187\n",
      "Wall time: 6.24 seconds\n",
      "mean train performance= 0.28041112\n",
      "mean test performance= 0.15496863\n",
      "mean wall time= 6.216350555419922\n",
      "std train= 0.0015369415\n",
      "std test= 0.0010011431\n",
      "Experiment 291\n",
      "run: 0\n"
     ]
    },
    {
     "name": "stderr",
     "output_type": "stream",
     "text": [
      "Epoch: 100%|██████████| 100/100 [00:04<00:00, 22.30it/s]\n"
     ]
    },
    {
     "name": "stdout",
     "output_type": "stream",
     "text": [
      "Test RMSE: 121.4604721069336\n",
      "Train RMSE: 120.32157897949219\n",
      "Wall time: 4.48 seconds\n",
      "run: 1\n"
     ]
    },
    {
     "name": "stderr",
     "output_type": "stream",
     "text": [
      "Epoch: 100%|██████████| 100/100 [00:04<00:00, 21.85it/s]\n"
     ]
    },
    {
     "name": "stdout",
     "output_type": "stream",
     "text": [
      "Test RMSE: 121.45352935791016\n",
      "Train RMSE: 120.3237075805664\n",
      "Wall time: 4.58 seconds\n",
      "run: 2\n"
     ]
    },
    {
     "name": "stderr",
     "output_type": "stream",
     "text": [
      "Epoch: 100%|██████████| 100/100 [00:04<00:00, 21.92it/s]\n"
     ]
    },
    {
     "name": "stdout",
     "output_type": "stream",
     "text": [
      "Test RMSE: 121.47771453857422\n",
      "Train RMSE: 120.3444595336914\n",
      "Wall time: 4.57 seconds\n",
      "mean train performance= 120.32992\n",
      "mean test performance= 121.463905\n",
      "mean wall time= 4.542705059051514\n",
      "std train= 0.012640506\n",
      "std test= 0.012452752\n",
      "Experiment 294\n",
      "run: 0\n"
     ]
    },
    {
     "name": "stderr",
     "output_type": "stream",
     "text": [
      "Epoch: 100%|██████████| 100/100 [00:25<00:00,  3.97it/s]\n"
     ]
    },
    {
     "name": "stdout",
     "output_type": "stream",
     "text": [
      "Test RMSE: 96.75477600097656\n",
      "Train RMSE: 99.25537872314453\n",
      "Wall time: 25.20 seconds\n",
      "run: 1\n"
     ]
    },
    {
     "name": "stderr",
     "output_type": "stream",
     "text": [
      "Epoch: 100%|██████████| 100/100 [00:25<00:00,  3.94it/s]\n"
     ]
    },
    {
     "name": "stdout",
     "output_type": "stream",
     "text": [
      "Test RMSE: 97.04032135009766\n",
      "Train RMSE: 99.47126770019531\n",
      "Wall time: 25.36 seconds\n",
      "run: 2\n"
     ]
    },
    {
     "name": "stderr",
     "output_type": "stream",
     "text": [
      "Epoch: 100%|██████████| 100/100 [00:25<00:00,  3.99it/s]\n"
     ]
    },
    {
     "name": "stdout",
     "output_type": "stream",
     "text": [
      "Test RMSE: 96.45254516601562\n",
      "Train RMSE: 98.99515533447266\n",
      "Wall time: 25.09 seconds\n",
      "mean train performance= 99.2406\n",
      "mean test performance= 96.749214\n",
      "mean wall time= 25.216092983881634\n",
      "std train= 0.23839997\n",
      "std test= 0.29392758\n"
     ]
    }
   ],
   "source": [
    "def downloader(uci_id):\n",
    "    # fetch dataset \n",
    "    uci_download = fetch_ucirepo(id=uci_id)\n",
    "    \n",
    "    # data (as pandas dataframes) \n",
    "    X_data = uci_download.data.features\n",
    "    # Drop category and date variables\n",
    "    if uci_id == 1:\n",
    "        X_data = X_data.drop([\"Sex\"], axis=1)\n",
    "    if uci_id == 275:\n",
    "        X_data = X_data.drop([\"dteday\"], axis=1)\n",
    "    if uci_id == 374:\n",
    "        X_data = X_data.drop([\"date\"], axis=1)\n",
    "    if uci_id == 183:\n",
    "        X_data = X_data.drop([\"communityname\"], axis=1)\n",
    "        object_columns = X_data.select_dtypes(include=['object']).columns\n",
    "        X_data = X_data.drop(columns=object_columns)\n",
    "\n",
    "    y_data = uci_download.data.targets\n",
    "    # select target for datasets with 2 targets\n",
    "    if uci_id == 189:\n",
    "        y_data = y_data[\"motor_UPDRS\"]\n",
    "    if uci_id == 713:\n",
    "        y_data = y_data[\"verification.time\"]\n",
    "\n",
    "    y = y_data.squeeze()\n",
    "\n",
    "    X = torch.tensor(X_data.values, dtype=torch.float32)\n",
    "    y = torch.tensor(y.values, dtype=torch.float32)\n",
    "\n",
    "    train_n = int(floor(0.8 * len(X)))\n",
    "    train_x = X[:train_n, :].contiguous()\n",
    "    train_y = y[:train_n].contiguous()\n",
    "\n",
    "    test_x = X[train_n:, :].contiguous()\n",
    "    test_y = y[train_n:].contiguous()\n",
    "\n",
    "    # Create TensorDataset and DataLoader for training and test sets\n",
    "    train_dataset = TensorDataset(train_x, train_y)\n",
    "    test_dataset = TensorDataset(test_x, test_y)\n",
    "\n",
    "    train_loader = DataLoader(train_dataset, batch_size=256, shuffle=True)\n",
    "    test_loader = DataLoader(test_dataset, batch_size=256, shuffle=False)\n",
    "\n",
    "    return train_x, train_y, test_x, test_y, train_loader, test_loader\n",
    "\n",
    "def whole_process(train_x, train_y, test_x, test_y, train_loader, test_loader):\n",
    "\n",
    "    data_dim = train_x.size(-1)\n",
    "\n",
    "    class GPModel(ApproximateGP):\n",
    "        def __init__(self, inducing_points):\n",
    "\n",
    "            variational_distribution = CholeskyVariationalDistribution(inducing_points.size(0))\n",
    "\n",
    "            variational_strategy = VariationalStrategy(self, inducing_points, variational_distribution, learn_inducing_locations=True)\n",
    "\n",
    "            super(GPModel, self).__init__(variational_strategy)\n",
    "            self.mean_module = gpytorch.means.ConstantMean()\n",
    "\n",
    "            self.covar_module = gpytorch.kernels.ScaleKernel(gpytorch.kernels.RBFKernel(ard_num_dims=data_dim))\n",
    "\n",
    "        def forward(self, x):\n",
    "            mean_x = self.mean_module(x)\n",
    "            covar_x = self.covar_module(x)\n",
    "            return gpytorch.distributions.MultivariateNormal(mean_x, covar_x)\n",
    "\n",
    "    inducing_points = train_x[:5, :]\n",
    "    model = GPModel(inducing_points=inducing_points)\n",
    "    likelihood = gpytorch.likelihoods.GaussianLikelihood()\n",
    "\n",
    "    num_epochs = 100\n",
    "    start_time = time.time()\n",
    "    model.train()\n",
    "    likelihood.train()\n",
    "\n",
    "    optimizer = torch.optim.Adam([\n",
    "        {'params': likelihood.parameters()},\n",
    "        {'params': model.parameters()}\n",
    "    ], lr=0.01)\n",
    "    # Our loss object. We're using the VariationalELBO\n",
    "    mll = gpytorch.mlls.VariationalELBO(likelihood, model, num_data=train_y.size(0))\n",
    "\n",
    "\n",
    "    epochs_iter = tqdm(range(num_epochs), desc=\"Epoch\")\n",
    "    for i in epochs_iter:\n",
    "        # Within each iteration, we will go over each minibatch of data\n",
    "        minibatch_iter = tqdm(train_loader, desc=\"Minibatch\", leave=False)\n",
    "        for x_batch, y_batch in minibatch_iter:\n",
    "            optimizer.zero_grad()\n",
    "            output = model(x_batch)\n",
    "            loss = -mll(output, y_batch)\n",
    "            minibatch_iter.set_postfix(loss=loss.item())\n",
    "            loss.backward()\n",
    "            optimizer.step()\n",
    "\n",
    "    end_time = time.time()\n",
    "    wall_time = end_time - start_time\n",
    "    \n",
    "    model.eval()\n",
    "    likelihood.eval()\n",
    "    means = torch.tensor([0.])\n",
    "    with torch.no_grad():\n",
    "        for x_batch, y_batch in test_loader:\n",
    "            preds = model(x_batch)\n",
    "            means = torch.cat([means, preds.mean.cpu()])\n",
    "    means = means[1:]\n",
    "    test_rmse = torch.sqrt(torch.mean((means - test_y.cpu()) ** 2))\n",
    "\n",
    "    means = torch.tensor([0.])\n",
    "    with torch.no_grad():\n",
    "        for x_batch, y_batch in train_loader:\n",
    "            preds = model(x_batch)\n",
    "            means = torch.cat([means, preds.mean.cpu()])\n",
    "    means = means[1:]\n",
    "    train_rmse= torch.sqrt(torch.mean((means - train_y.cpu()) ** 2))\n",
    "\n",
    "    print('Test RMSE: {}'.format(test_rmse))\n",
    "    print('Train RMSE: {}'.format(train_rmse))\n",
    "    print('Wall time: {:.2f} seconds'.format(wall_time))\n",
    "\n",
    "    return test_rmse, train_rmse, wall_time\n",
    "\n",
    "experiment_datasets = [1, 275, 477, 189, 713, 186, 374, 183, 291, 294]\n",
    "\n",
    "for experiment in experiment_datasets:\n",
    "    print(\"Experiment \" + str(experiment))\n",
    "\n",
    "    trains = []\n",
    "    tests = []\n",
    "    times = []\n",
    "    train_x, train_y, test_x, test_y, train_loader, test_loader = downloader(experiment)\n",
    "    for run in range(3):\n",
    "        # set seeds\n",
    "        torch.manual_seed(run)\n",
    "        print(\"run: \" + str(run))\n",
    "\n",
    "        test_rmse, train_rmse, wall_time = whole_process(train_x, train_y, test_x, test_y, train_loader, test_loader)\n",
    "        trains.append(train_rmse)\n",
    "        tests.append(test_rmse)\n",
    "        times.append(wall_time)\n",
    "    \n",
    "    print(\"mean train performance= \"+ str(np.mean(trains)))\n",
    "    print(\"mean test performance= \"+ str(np.mean(tests)))\n",
    "    print(\"mean wall time= \"+ str(np.mean(times)))\n",
    "\n",
    "    print(\"std train= \"+ str(np.std(trains, ddof=1)))\n",
    "    print(\"std test= \"+ str(np.std(tests, ddof=1)))"
   ]
  }
 ],
 "metadata": {
  "kernelspec": {
   "display_name": "NewTrading",
   "language": "python",
   "name": "python3"
  },
  "language_info": {
   "codemirror_mode": {
    "name": "ipython",
    "version": 3
   },
   "file_extension": ".py",
   "mimetype": "text/x-python",
   "name": "python",
   "nbconvert_exporter": "python",
   "pygments_lexer": "ipython3",
   "version": "3.9.17"
  }
 },
 "nbformat": 4,
 "nbformat_minor": 2
}
